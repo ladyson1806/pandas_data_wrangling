{
 "metadata": {
  "language_info": {
   "codemirror_mode": {
    "name": "ipython",
    "version": 3
   },
   "file_extension": ".py",
   "mimetype": "text/x-python",
   "name": "python",
   "nbconvert_exporter": "python",
   "pygments_lexer": "ipython3",
   "version": "3.8.5-final"
  },
  "orig_nbformat": 2,
  "kernelspec": {
   "name": "python3",
   "display_name": "Python 3.8.5 64-bit ('bioinfo_3.8': conda)",
   "metadata": {
    "interpreter": {
     "hash": "52454c618a4204657519cbab42273bb942d0a30f08c27de48ae386072d003f99"
    }
   }
  }
 },
 "nbformat": 4,
 "nbformat_minor": 2,
 "cells": [
  {
   "source": [
    "# Data.Trek 2021 - Week 2 : Data Processing in Python\n",
    "## Your journey in data processing with pandas\n",
    "Author: Savandara Ladyson Besse \n",
    "\n",
    "![text here](./images/pandas.jpg)\n",
    "\n",
    "\n",
    "## Useful readings about pandas\n",
    "- <a href='https://pandas.pydata.org/docs/user_guide/10min.html#min'>10 min tutorial on pandas</a>\n",
    "- <a href='https://pandas.pydata.org/docs/user_guide/index.html#user-guide'>All the secrets about pandas</a>\n",
    "\n",
    "## Credits\n",
    "- Inspiration for the plan of this tutorial from <a href='https://towardsdatascience.com/data-wrangling-with-pandas-5b0be151df4e'>Towards data science</a>\n",
    "- Dataset 1: Breast cancer data from <a href='https://archive.ics.uci.edu/ml/datasets/breast+cancer+wisconsin+(original)'>UCI</a>\n",
    "- Dataset 2: Generated dataset based on the graduated alumni list of of the biochemistry department of UdeM\n",
    "\n",
    "## Today's tutorial\n",
    "1. Data exploration\n",
    "2. Dealing with missing values\n",
    "3. Reshaping data\n",
    "4. Filtering data\n",
    "5. Customizing your table\n",
    "\n",
    "### Situation 1: \n",
    "> You have been hired as data scientist at the Montreal Cancer Treatment Institute. Your lab is providing you their last dataset on breast cancer and want to check with you the quality of their dataset. What will you do?\n",
    "\n",
    "### First step: Data exploration\n",
    "\n",
    "__Determinant choice__: What do you want to do?\n",
    "- [ ]  Upload the data in my notebook now! - 1\n",
    "- [ ]  Take a look on the data, first! - 2"
   ],
   "cell_type": "markdown",
   "metadata": {}
  },
  {
   "source": [
    "\n"
   ],
   "cell_type": "markdown",
   "metadata": {}
  },
  {
   "cell_type": "code",
   "execution_count": 3,
   "metadata": {},
   "outputs": [
    {
     "output_type": "error",
     "ename": "ModuleNotFoundError",
     "evalue": "No module named 'pandas'",
     "traceback": [
      "\u001b[0;31m---------------------------------------------------------------------------\u001b[0m",
      "\u001b[0;31mModuleNotFoundError\u001b[0m                       Traceback (most recent call last)",
      "\u001b[0;32m<ipython-input-3-7dd3504c366f>\u001b[0m in \u001b[0;36m<module>\u001b[0;34m\u001b[0m\n\u001b[0;32m----> 1\u001b[0;31m \u001b[0;32mimport\u001b[0m \u001b[0mpandas\u001b[0m \u001b[0;32mas\u001b[0m \u001b[0mpd\u001b[0m\u001b[0;34m\u001b[0m\u001b[0;34m\u001b[0m\u001b[0m\n\u001b[0m",
      "\u001b[0;31mModuleNotFoundError\u001b[0m: No module named 'pandas'"
     ]
    }
   ],
   "source": [
    "import pandas as pd"
   ]
  },
  {
   "source": [
    "#### If you choose the choice 1, then compute this cell\n",
    "\n",
    "dataset = pd.read_csv('./data/breast_cancer_data.csv')\n"
   ],
   "cell_type": "markdown",
   "metadata": {}
  },
  {
   "cell_type": "code",
   "execution_count": null,
   "metadata": {},
   "outputs": [],
   "source": []
  }
 ]
}