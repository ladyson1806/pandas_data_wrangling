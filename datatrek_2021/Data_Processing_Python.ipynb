{
 "metadata": {
  "language_info": {
   "codemirror_mode": {
    "name": "ipython",
    "version": 3
   },
   "file_extension": ".py",
   "mimetype": "text/x-python",
   "name": "python",
   "nbconvert_exporter": "python",
   "pygments_lexer": "ipython3",
   "version": "3.8.5-final"
  },
  "orig_nbformat": 2,
  "kernelspec": {
   "name": "python3",
   "display_name": "Python 3.8.5 64-bit ('bioinfo_3.8': conda)",
   "metadata": {
    "interpreter": {
     "hash": "52454c618a4204657519cbab42273bb942d0a30f08c27de48ae386072d003f99"
    }
   }
  }
 },
 "nbformat": 4,
 "nbformat_minor": 2,
 "cells": [
  {
   "source": [
    "# Data.Trek 2021 - Week 2 : Data Prepocessing and Cleaning in Python\n",
    "## Your journey in data prepocessing and cleaning with pandas\n",
    "Author: Savandara Ladyson Besse \n",
    "\n",
    "![text here](./images/pandas.jpg)\n",
    "\n",
    "\n",
    "## Useful readings about pandas\n",
    "- <a href='https://pandas.pydata.org/docs/user_guide/10min.html#min'>10 min tutorial on pandas</a>\n",
    "- <a href='https://pandas.pydata.org/docs/user_guide/index.html#user-guide'>All the secrets about pandas</a>\n",
    "\n",
    "## Credits\n",
    "- Inspiration for the plan of this tutorial from <a href='https://towardsdatascience.com/data-wrangling-with-pandas-5b0be151df4e'>Towards data science</a>\n",
    "- Dataset 1: Breast cancer data from <a href='https://archive.ics.uci.edu/ml/datasets/breast+cancer+wisconsin+(original)'>UCI</a>\n",
    "- Dataset 2: Generated dataset based on the graduated alumni list of of the biochemistry department of UdeM\n",
    "\n",
    "## Today's tutorial\n",
    "1. Data exploration\n",
    "2. Dealing with missing and duplicated values\n",
    "3. Reshaping data\n",
    "4. Filtering data\n",
    "5. Customizing your table <br><br>\n",
    "\n",
    "_______ \n",
    "\n",
    "<br>\n",
    "\n",
    "### Situation 1: \n",
    "### You have been hired as data scientist at the Montreal Cancer Treatment Institute. Your new lab told you that they have a really insteresting dataset of breast cancer data and they want you to check if the table can be used without any changes.\n",
    "### How will you do?"
   ],
   "cell_type": "markdown",
   "metadata": {}
  },
  {
   "cell_type": "code",
   "execution_count": 91,
   "metadata": {},
   "outputs": [],
   "source": [
    "import numpy as np\n",
    "import pandas as pd\n",
    "import seaborn as sns\n"
   ]
  },
  {
   "source": [
    "### I. Data exploration\n",
    "\n",
    "### __Determinant choice__: What do you want to do, first?\n",
    "- [ ]  Upload the data in my notebook now! - 1\n",
    "- [ ]  Take a look on the data, first! - 2"
   ],
   "cell_type": "markdown",
   "metadata": {}
  },
  {
   "source": [
    "#### If you choose the choice 1, then compute this cell\n",
    "breast_dataset = pd.read_csv('./data/breast_cancer_data.csv')"
   ],
   "cell_type": "code",
   "metadata": {},
   "execution_count": 92,
   "outputs": [
    {
     "output_type": "error",
     "ename": "ParserError",
     "evalue": "Error tokenizing data. C error: Expected 1 fields in line 7, saw 3\n",
     "traceback": [
      "\u001b[0;31m---------------------------------------------------------------------------\u001b[0m",
      "\u001b[0;31mParserError\u001b[0m                               Traceback (most recent call last)",
      "\u001b[0;32m<ipython-input-92-97f5c939c12e>\u001b[0m in \u001b[0;36m<module>\u001b[0;34m\u001b[0m\n\u001b[1;32m      1\u001b[0m \u001b[0;31m#### If you choose the choice 1, then compute this cell\u001b[0m\u001b[0;34m\u001b[0m\u001b[0;34m\u001b[0m\u001b[0;34m\u001b[0m\u001b[0m\n\u001b[0;32m----> 2\u001b[0;31m \u001b[0mbreast_dataset\u001b[0m \u001b[0;34m=\u001b[0m \u001b[0mpd\u001b[0m\u001b[0;34m.\u001b[0m\u001b[0mread_csv\u001b[0m\u001b[0;34m(\u001b[0m\u001b[0;34m'./data/breast_cancer_data.csv'\u001b[0m\u001b[0;34m)\u001b[0m\u001b[0;34m\u001b[0m\u001b[0;34m\u001b[0m\u001b[0m\n\u001b[0m",
      "\u001b[0;32m~/bin/miniconda3/envs/bioinfo_3.8/lib/python3.8/site-packages/pandas/io/parsers.py\u001b[0m in \u001b[0;36mparser_f\u001b[0;34m(filepath_or_buffer, sep, delimiter, header, names, index_col, usecols, squeeze, prefix, mangle_dupe_cols, dtype, engine, converters, true_values, false_values, skipinitialspace, skiprows, skipfooter, nrows, na_values, keep_default_na, na_filter, verbose, skip_blank_lines, parse_dates, infer_datetime_format, keep_date_col, date_parser, dayfirst, cache_dates, iterator, chunksize, compression, thousands, decimal, lineterminator, quotechar, quoting, doublequote, escapechar, comment, encoding, dialect, error_bad_lines, warn_bad_lines, delim_whitespace, low_memory, memory_map, float_precision)\u001b[0m\n\u001b[1;32m    674\u001b[0m         )\n\u001b[1;32m    675\u001b[0m \u001b[0;34m\u001b[0m\u001b[0m\n\u001b[0;32m--> 676\u001b[0;31m         \u001b[0;32mreturn\u001b[0m \u001b[0m_read\u001b[0m\u001b[0;34m(\u001b[0m\u001b[0mfilepath_or_buffer\u001b[0m\u001b[0;34m,\u001b[0m \u001b[0mkwds\u001b[0m\u001b[0;34m)\u001b[0m\u001b[0;34m\u001b[0m\u001b[0;34m\u001b[0m\u001b[0m\n\u001b[0m\u001b[1;32m    677\u001b[0m \u001b[0;34m\u001b[0m\u001b[0m\n\u001b[1;32m    678\u001b[0m     \u001b[0mparser_f\u001b[0m\u001b[0;34m.\u001b[0m\u001b[0m__name__\u001b[0m \u001b[0;34m=\u001b[0m \u001b[0mname\u001b[0m\u001b[0;34m\u001b[0m\u001b[0;34m\u001b[0m\u001b[0m\n",
      "\u001b[0;32m~/bin/miniconda3/envs/bioinfo_3.8/lib/python3.8/site-packages/pandas/io/parsers.py\u001b[0m in \u001b[0;36m_read\u001b[0;34m(filepath_or_buffer, kwds)\u001b[0m\n\u001b[1;32m    452\u001b[0m \u001b[0;34m\u001b[0m\u001b[0m\n\u001b[1;32m    453\u001b[0m     \u001b[0;32mtry\u001b[0m\u001b[0;34m:\u001b[0m\u001b[0;34m\u001b[0m\u001b[0;34m\u001b[0m\u001b[0m\n\u001b[0;32m--> 454\u001b[0;31m         \u001b[0mdata\u001b[0m \u001b[0;34m=\u001b[0m \u001b[0mparser\u001b[0m\u001b[0;34m.\u001b[0m\u001b[0mread\u001b[0m\u001b[0;34m(\u001b[0m\u001b[0mnrows\u001b[0m\u001b[0;34m)\u001b[0m\u001b[0;34m\u001b[0m\u001b[0;34m\u001b[0m\u001b[0m\n\u001b[0m\u001b[1;32m    455\u001b[0m     \u001b[0;32mfinally\u001b[0m\u001b[0;34m:\u001b[0m\u001b[0;34m\u001b[0m\u001b[0;34m\u001b[0m\u001b[0m\n\u001b[1;32m    456\u001b[0m         \u001b[0mparser\u001b[0m\u001b[0;34m.\u001b[0m\u001b[0mclose\u001b[0m\u001b[0;34m(\u001b[0m\u001b[0;34m)\u001b[0m\u001b[0;34m\u001b[0m\u001b[0;34m\u001b[0m\u001b[0m\n",
      "\u001b[0;32m~/bin/miniconda3/envs/bioinfo_3.8/lib/python3.8/site-packages/pandas/io/parsers.py\u001b[0m in \u001b[0;36mread\u001b[0;34m(self, nrows)\u001b[0m\n\u001b[1;32m   1131\u001b[0m     \u001b[0;32mdef\u001b[0m \u001b[0mread\u001b[0m\u001b[0;34m(\u001b[0m\u001b[0mself\u001b[0m\u001b[0;34m,\u001b[0m \u001b[0mnrows\u001b[0m\u001b[0;34m=\u001b[0m\u001b[0;32mNone\u001b[0m\u001b[0;34m)\u001b[0m\u001b[0;34m:\u001b[0m\u001b[0;34m\u001b[0m\u001b[0;34m\u001b[0m\u001b[0m\n\u001b[1;32m   1132\u001b[0m         \u001b[0mnrows\u001b[0m \u001b[0;34m=\u001b[0m \u001b[0m_validate_integer\u001b[0m\u001b[0;34m(\u001b[0m\u001b[0;34m\"nrows\"\u001b[0m\u001b[0;34m,\u001b[0m \u001b[0mnrows\u001b[0m\u001b[0;34m)\u001b[0m\u001b[0;34m\u001b[0m\u001b[0;34m\u001b[0m\u001b[0m\n\u001b[0;32m-> 1133\u001b[0;31m         \u001b[0mret\u001b[0m \u001b[0;34m=\u001b[0m \u001b[0mself\u001b[0m\u001b[0;34m.\u001b[0m\u001b[0m_engine\u001b[0m\u001b[0;34m.\u001b[0m\u001b[0mread\u001b[0m\u001b[0;34m(\u001b[0m\u001b[0mnrows\u001b[0m\u001b[0;34m)\u001b[0m\u001b[0;34m\u001b[0m\u001b[0;34m\u001b[0m\u001b[0m\n\u001b[0m\u001b[1;32m   1134\u001b[0m \u001b[0;34m\u001b[0m\u001b[0m\n\u001b[1;32m   1135\u001b[0m         \u001b[0;31m# May alter columns / col_dict\u001b[0m\u001b[0;34m\u001b[0m\u001b[0;34m\u001b[0m\u001b[0;34m\u001b[0m\u001b[0m\n",
      "\u001b[0;32m~/bin/miniconda3/envs/bioinfo_3.8/lib/python3.8/site-packages/pandas/io/parsers.py\u001b[0m in \u001b[0;36mread\u001b[0;34m(self, nrows)\u001b[0m\n\u001b[1;32m   2035\u001b[0m     \u001b[0;32mdef\u001b[0m \u001b[0mread\u001b[0m\u001b[0;34m(\u001b[0m\u001b[0mself\u001b[0m\u001b[0;34m,\u001b[0m \u001b[0mnrows\u001b[0m\u001b[0;34m=\u001b[0m\u001b[0;32mNone\u001b[0m\u001b[0;34m)\u001b[0m\u001b[0;34m:\u001b[0m\u001b[0;34m\u001b[0m\u001b[0;34m\u001b[0m\u001b[0m\n\u001b[1;32m   2036\u001b[0m         \u001b[0;32mtry\u001b[0m\u001b[0;34m:\u001b[0m\u001b[0;34m\u001b[0m\u001b[0;34m\u001b[0m\u001b[0m\n\u001b[0;32m-> 2037\u001b[0;31m             \u001b[0mdata\u001b[0m \u001b[0;34m=\u001b[0m \u001b[0mself\u001b[0m\u001b[0;34m.\u001b[0m\u001b[0m_reader\u001b[0m\u001b[0;34m.\u001b[0m\u001b[0mread\u001b[0m\u001b[0;34m(\u001b[0m\u001b[0mnrows\u001b[0m\u001b[0;34m)\u001b[0m\u001b[0;34m\u001b[0m\u001b[0;34m\u001b[0m\u001b[0m\n\u001b[0m\u001b[1;32m   2038\u001b[0m         \u001b[0;32mexcept\u001b[0m \u001b[0mStopIteration\u001b[0m\u001b[0;34m:\u001b[0m\u001b[0;34m\u001b[0m\u001b[0;34m\u001b[0m\u001b[0m\n\u001b[1;32m   2039\u001b[0m             \u001b[0;32mif\u001b[0m \u001b[0mself\u001b[0m\u001b[0;34m.\u001b[0m\u001b[0m_first_chunk\u001b[0m\u001b[0;34m:\u001b[0m\u001b[0;34m\u001b[0m\u001b[0;34m\u001b[0m\u001b[0m\n",
      "\u001b[0;32mpandas/_libs/parsers.pyx\u001b[0m in \u001b[0;36mpandas._libs.parsers.TextReader.read\u001b[0;34m()\u001b[0m\n",
      "\u001b[0;32mpandas/_libs/parsers.pyx\u001b[0m in \u001b[0;36mpandas._libs.parsers.TextReader._read_low_memory\u001b[0;34m()\u001b[0m\n",
      "\u001b[0;32mpandas/_libs/parsers.pyx\u001b[0m in \u001b[0;36mpandas._libs.parsers.TextReader._read_rows\u001b[0;34m()\u001b[0m\n",
      "\u001b[0;32mpandas/_libs/parsers.pyx\u001b[0m in \u001b[0;36mpandas._libs.parsers.TextReader._tokenize_rows\u001b[0;34m()\u001b[0m\n",
      "\u001b[0;32mpandas/_libs/parsers.pyx\u001b[0m in \u001b[0;36mpandas._libs.parsers.raise_parser_error\u001b[0;34m()\u001b[0m\n",
      "\u001b[0;31mParserError\u001b[0m: Error tokenizing data. C error: Expected 1 fields in line 7, saw 3\n"
     ]
    }
   ]
  },
  {
   "source": [
    "Let's check the file then..."
   ],
   "cell_type": "markdown",
   "metadata": {}
  },
  {
   "cell_type": "code",
   "execution_count": 93,
   "metadata": {},
   "outputs": [],
   "source": [
    "#### If you choose the choice 2, then compute this cell\n",
    "breast_dataset = pd.read_csv('./data/breast_cancer_data.csv', comment='#')"
   ]
  },
  {
   "source": [
    "- Other possible solution:<br>\n",
    "`breast_dataset = pd.read_csv('./data/breast_cancer_data.csv', skiprows=21)`\n",
    "\n",
    "<h4 align='center'> By the way, what does mean CSV?</h4>\n",
    "\n",
    "- Let's take a look to our table now! It loads into a python object called dataframe.\n",
    "\n",
    "> NB: If you are curious about how create a dataframe from scratch, take a look <a href='https://www.geeksforgeeks.org/python-pandas-dataframe/'>here</a>"
   ],
   "cell_type": "markdown",
   "metadata": {}
  },
  {
   "cell_type": "code",
   "execution_count": 94,
   "metadata": {},
   "outputs": [
    {
     "output_type": "execute_result",
     "data": {
      "text/plain": [
       "     patient_id  clump_thickness  cell_size_uniformity  cell_shape_uniformity  \\\n",
       "0       1000025              5.0                   1.0                      1   \n",
       "1       1002945              5.0                   4.0                      4   \n",
       "2       1015425              3.0                   1.0                      1   \n",
       "3       1016277              6.0                   8.0                      8   \n",
       "4       1017023              4.0                   1.0                      1   \n",
       "..          ...              ...                   ...                    ...   \n",
       "694      776715              3.0                   1.0                      1   \n",
       "695      841769              2.0                   1.0                      1   \n",
       "696      888820              5.0                  10.0                     10   \n",
       "697      897471              4.0                   8.0                      6   \n",
       "698      897471              4.0                   8.0                      8   \n",
       "\n",
       "     marginal_adhesion  single_ep_cell_size bare_nuclei  bland_chromatin  \\\n",
       "0                    1                    2           1              3.0   \n",
       "1                    5                    7          10              3.0   \n",
       "2                    1                    2           2              3.0   \n",
       "3                    1                    3           4              3.0   \n",
       "4                    3                    2           1              3.0   \n",
       "..                 ...                  ...         ...              ...   \n",
       "694                  1                    3           2              1.0   \n",
       "695                  1                    2           1              1.0   \n",
       "696                  3                    7           3              8.0   \n",
       "697                  4                    3           4             10.0   \n",
       "698                  5                    4           5             10.0   \n",
       "\n",
       "     normal_nucleoli  mitoses      class doctor_name  \n",
       "0                1.0        1     benign     Dr. Doe  \n",
       "1                2.0        1     benign   Dr. Smith  \n",
       "2                1.0        1     benign     Dr. Lee  \n",
       "3                7.0        1     benign   Dr. Smith  \n",
       "4                1.0        1     benign    Dr. Wong  \n",
       "..               ...      ...        ...         ...  \n",
       "694              1.0        1     benign     Dr. Lee  \n",
       "695              1.0        1     benign   Dr. Smith  \n",
       "696             10.0        2  malignant     Dr. Lee  \n",
       "697              6.0        1  malignant     Dr. Lee  \n",
       "698              4.0        1  malignant    Dr. Wong  \n",
       "\n",
       "[699 rows x 12 columns]"
      ],
      "text/html": "<div>\n<style scoped>\n    .dataframe tbody tr th:only-of-type {\n        vertical-align: middle;\n    }\n\n    .dataframe tbody tr th {\n        vertical-align: top;\n    }\n\n    .dataframe thead th {\n        text-align: right;\n    }\n</style>\n<table border=\"1\" class=\"dataframe\">\n  <thead>\n    <tr style=\"text-align: right;\">\n      <th></th>\n      <th>patient_id</th>\n      <th>clump_thickness</th>\n      <th>cell_size_uniformity</th>\n      <th>cell_shape_uniformity</th>\n      <th>marginal_adhesion</th>\n      <th>single_ep_cell_size</th>\n      <th>bare_nuclei</th>\n      <th>bland_chromatin</th>\n      <th>normal_nucleoli</th>\n      <th>mitoses</th>\n      <th>class</th>\n      <th>doctor_name</th>\n    </tr>\n  </thead>\n  <tbody>\n    <tr>\n      <th>0</th>\n      <td>1000025</td>\n      <td>5.0</td>\n      <td>1.0</td>\n      <td>1</td>\n      <td>1</td>\n      <td>2</td>\n      <td>1</td>\n      <td>3.0</td>\n      <td>1.0</td>\n      <td>1</td>\n      <td>benign</td>\n      <td>Dr. Doe</td>\n    </tr>\n    <tr>\n      <th>1</th>\n      <td>1002945</td>\n      <td>5.0</td>\n      <td>4.0</td>\n      <td>4</td>\n      <td>5</td>\n      <td>7</td>\n      <td>10</td>\n      <td>3.0</td>\n      <td>2.0</td>\n      <td>1</td>\n      <td>benign</td>\n      <td>Dr. Smith</td>\n    </tr>\n    <tr>\n      <th>2</th>\n      <td>1015425</td>\n      <td>3.0</td>\n      <td>1.0</td>\n      <td>1</td>\n      <td>1</td>\n      <td>2</td>\n      <td>2</td>\n      <td>3.0</td>\n      <td>1.0</td>\n      <td>1</td>\n      <td>benign</td>\n      <td>Dr. Lee</td>\n    </tr>\n    <tr>\n      <th>3</th>\n      <td>1016277</td>\n      <td>6.0</td>\n      <td>8.0</td>\n      <td>8</td>\n      <td>1</td>\n      <td>3</td>\n      <td>4</td>\n      <td>3.0</td>\n      <td>7.0</td>\n      <td>1</td>\n      <td>benign</td>\n      <td>Dr. Smith</td>\n    </tr>\n    <tr>\n      <th>4</th>\n      <td>1017023</td>\n      <td>4.0</td>\n      <td>1.0</td>\n      <td>1</td>\n      <td>3</td>\n      <td>2</td>\n      <td>1</td>\n      <td>3.0</td>\n      <td>1.0</td>\n      <td>1</td>\n      <td>benign</td>\n      <td>Dr. Wong</td>\n    </tr>\n    <tr>\n      <th>...</th>\n      <td>...</td>\n      <td>...</td>\n      <td>...</td>\n      <td>...</td>\n      <td>...</td>\n      <td>...</td>\n      <td>...</td>\n      <td>...</td>\n      <td>...</td>\n      <td>...</td>\n      <td>...</td>\n      <td>...</td>\n    </tr>\n    <tr>\n      <th>694</th>\n      <td>776715</td>\n      <td>3.0</td>\n      <td>1.0</td>\n      <td>1</td>\n      <td>1</td>\n      <td>3</td>\n      <td>2</td>\n      <td>1.0</td>\n      <td>1.0</td>\n      <td>1</td>\n      <td>benign</td>\n      <td>Dr. Lee</td>\n    </tr>\n    <tr>\n      <th>695</th>\n      <td>841769</td>\n      <td>2.0</td>\n      <td>1.0</td>\n      <td>1</td>\n      <td>1</td>\n      <td>2</td>\n      <td>1</td>\n      <td>1.0</td>\n      <td>1.0</td>\n      <td>1</td>\n      <td>benign</td>\n      <td>Dr. Smith</td>\n    </tr>\n    <tr>\n      <th>696</th>\n      <td>888820</td>\n      <td>5.0</td>\n      <td>10.0</td>\n      <td>10</td>\n      <td>3</td>\n      <td>7</td>\n      <td>3</td>\n      <td>8.0</td>\n      <td>10.0</td>\n      <td>2</td>\n      <td>malignant</td>\n      <td>Dr. Lee</td>\n    </tr>\n    <tr>\n      <th>697</th>\n      <td>897471</td>\n      <td>4.0</td>\n      <td>8.0</td>\n      <td>6</td>\n      <td>4</td>\n      <td>3</td>\n      <td>4</td>\n      <td>10.0</td>\n      <td>6.0</td>\n      <td>1</td>\n      <td>malignant</td>\n      <td>Dr. Lee</td>\n    </tr>\n    <tr>\n      <th>698</th>\n      <td>897471</td>\n      <td>4.0</td>\n      <td>8.0</td>\n      <td>8</td>\n      <td>5</td>\n      <td>4</td>\n      <td>5</td>\n      <td>10.0</td>\n      <td>4.0</td>\n      <td>1</td>\n      <td>malignant</td>\n      <td>Dr. Wong</td>\n    </tr>\n  </tbody>\n</table>\n<p>699 rows × 12 columns</p>\n</div>"
     },
     "metadata": {},
     "execution_count": 94
    }
   ],
   "source": [
    "breast_dataset"
   ]
  },
  {
   "source": [
    "NB: You could visualize all the dataset table on you jupyter notebook using the following lines: \n",
    "```\n",
    "pd.options.display.max_columns = None\n",
    "pd.options.display.max_rows = None\n",
    "```\n",
    "But it will make your jupyter notebook pretty slow (displaying the whole dataset will consume your raw memory)"
   ],
   "cell_type": "markdown",
   "metadata": {}
  },
  {
   "source": [
    "### General questions about the dataset\n",
    "\n",
    "### 1. How many rows and columns do we have?"
   ],
   "cell_type": "markdown",
   "metadata": {}
  },
  {
   "cell_type": "code",
   "execution_count": 95,
   "metadata": {},
   "outputs": [
    {
     "output_type": "stream",
     "name": "stdout",
     "text": [
      "This dataset has 699 rows and 12 columns\n"
     ]
    }
   ],
   "source": [
    "\n",
    "rows, columns = breast_dataset.shape\n",
    "print(f'This dataset has {rows} rows and {columns} columns')"
   ]
  },
  {
   "source": [
    "### 2. What are the name of the columns?"
   ],
   "cell_type": "markdown",
   "metadata": {}
  },
  {
   "cell_type": "code",
   "execution_count": 96,
   "metadata": {},
   "outputs": [
    {
     "output_type": "execute_result",
     "data": {
      "text/plain": [
       "Index(['patient_id', 'clump_thickness', 'cell_size_uniformity',\n",
       "       'cell_shape_uniformity', 'marginal_adhesion', 'single_ep_cell_size',\n",
       "       'bare_nuclei', 'bland_chromatin', 'normal_nucleoli', 'mitoses', 'class',\n",
       "       'doctor_name'],\n",
       "      dtype='object')"
      ]
     },
     "metadata": {},
     "execution_count": 96
    }
   ],
   "source": [
    "\n",
    " breast_dataset.columns"
   ]
  },
  {
   "source": [
    "### 3. What are the type of the values in each column?"
   ],
   "cell_type": "markdown",
   "metadata": {}
  },
  {
   "cell_type": "code",
   "execution_count": 97,
   "metadata": {},
   "outputs": [
    {
     "output_type": "execute_result",
     "data": {
      "text/plain": [
       "patient_id                 int64\n",
       "clump_thickness          float64\n",
       "cell_size_uniformity     float64\n",
       "cell_shape_uniformity      int64\n",
       "marginal_adhesion          int64\n",
       "single_ep_cell_size        int64\n",
       "bare_nuclei               object\n",
       "bland_chromatin          float64\n",
       "normal_nucleoli          float64\n",
       "mitoses                    int64\n",
       "class                     object\n",
       "doctor_name               object\n",
       "dtype: object"
      ]
     },
     "metadata": {},
     "execution_count": 97
    }
   ],
   "source": [
    "\n",
    " breast_dataset.dtypes"
   ]
  },
  {
   "source": [
    "### 4. How can we check the number of each unique value per column?"
   ],
   "cell_type": "markdown",
   "metadata": {}
  },
  {
   "cell_type": "code",
   "execution_count": 131,
   "metadata": {},
   "outputs": [
    {
     "output_type": "execute_result",
     "data": {
      "text/plain": [
       "patient_id               637\n",
       "clump_thickness           10\n",
       "cell_size_uniformity      10\n",
       "cell_shape_uniformity     10\n",
       "marginal_adhesion         10\n",
       "single_ep_cell_size       10\n",
       "bare_nuclei               11\n",
       "bland_chromatin           10\n",
       "normal_nucleoli           10\n",
       "mitoses                    9\n",
       "class                      2\n",
       "doctor_name                4\n",
       "dtype: int64"
      ]
     },
     "metadata": {},
     "execution_count": 131
    }
   ],
   "source": [
    "breast_dataset.nunique()"
   ]
  },
  {
   "source": [
    "### 5. Do you want to see some statistics? Are all the columns there? Why?"
   ],
   "cell_type": "markdown",
   "metadata": {}
  },
  {
   "source": [
    "\n",
    "breast_dataset.describe()"
   ],
   "cell_type": "code",
   "metadata": {},
   "execution_count": 99,
   "outputs": [
    {
     "output_type": "execute_result",
     "data": {
      "text/plain": [
       "         patient_id  clump_thickness  cell_size_uniformity  \\\n",
       "count  6.990000e+02       698.000000            698.000000   \n",
       "mean   1.071704e+06         4.416905              3.137536   \n",
       "std    6.170957e+05         2.817673              3.052575   \n",
       "min    6.163400e+04         1.000000              1.000000   \n",
       "25%    8.706885e+05         2.000000              1.000000   \n",
       "50%    1.171710e+06         4.000000              1.000000   \n",
       "75%    1.238298e+06         6.000000              5.000000   \n",
       "max    1.345435e+07        10.000000             10.000000   \n",
       "\n",
       "       cell_shape_uniformity  marginal_adhesion  single_ep_cell_size  \\\n",
       "count             699.000000         699.000000           699.000000   \n",
       "mean                3.207439           2.793991             3.216023   \n",
       "std                 2.971913           2.843163             2.214300   \n",
       "min                 1.000000           1.000000             1.000000   \n",
       "25%                 1.000000           1.000000             2.000000   \n",
       "50%                 1.000000           1.000000             2.000000   \n",
       "75%                 5.000000           3.500000             4.000000   \n",
       "max                10.000000          10.000000            10.000000   \n",
       "\n",
       "       bland_chromatin  normal_nucleoli     mitoses  \n",
       "count       695.000000       698.000000  699.000000  \n",
       "mean          3.447482         2.868195    1.589413  \n",
       "std           2.441191         3.055647    1.715078  \n",
       "min           1.000000         1.000000    1.000000  \n",
       "25%           2.000000         1.000000    1.000000  \n",
       "50%           3.000000         1.000000    1.000000  \n",
       "75%           5.000000         4.000000    1.000000  \n",
       "max          10.000000        10.000000   10.000000  "
      ],
      "text/html": "<div>\n<style scoped>\n    .dataframe tbody tr th:only-of-type {\n        vertical-align: middle;\n    }\n\n    .dataframe tbody tr th {\n        vertical-align: top;\n    }\n\n    .dataframe thead th {\n        text-align: right;\n    }\n</style>\n<table border=\"1\" class=\"dataframe\">\n  <thead>\n    <tr style=\"text-align: right;\">\n      <th></th>\n      <th>patient_id</th>\n      <th>clump_thickness</th>\n      <th>cell_size_uniformity</th>\n      <th>cell_shape_uniformity</th>\n      <th>marginal_adhesion</th>\n      <th>single_ep_cell_size</th>\n      <th>bland_chromatin</th>\n      <th>normal_nucleoli</th>\n      <th>mitoses</th>\n    </tr>\n  </thead>\n  <tbody>\n    <tr>\n      <th>count</th>\n      <td>6.990000e+02</td>\n      <td>698.000000</td>\n      <td>698.000000</td>\n      <td>699.000000</td>\n      <td>699.000000</td>\n      <td>699.000000</td>\n      <td>695.000000</td>\n      <td>698.000000</td>\n      <td>699.000000</td>\n    </tr>\n    <tr>\n      <th>mean</th>\n      <td>1.071704e+06</td>\n      <td>4.416905</td>\n      <td>3.137536</td>\n      <td>3.207439</td>\n      <td>2.793991</td>\n      <td>3.216023</td>\n      <td>3.447482</td>\n      <td>2.868195</td>\n      <td>1.589413</td>\n    </tr>\n    <tr>\n      <th>std</th>\n      <td>6.170957e+05</td>\n      <td>2.817673</td>\n      <td>3.052575</td>\n      <td>2.971913</td>\n      <td>2.843163</td>\n      <td>2.214300</td>\n      <td>2.441191</td>\n      <td>3.055647</td>\n      <td>1.715078</td>\n    </tr>\n    <tr>\n      <th>min</th>\n      <td>6.163400e+04</td>\n      <td>1.000000</td>\n      <td>1.000000</td>\n      <td>1.000000</td>\n      <td>1.000000</td>\n      <td>1.000000</td>\n      <td>1.000000</td>\n      <td>1.000000</td>\n      <td>1.000000</td>\n    </tr>\n    <tr>\n      <th>25%</th>\n      <td>8.706885e+05</td>\n      <td>2.000000</td>\n      <td>1.000000</td>\n      <td>1.000000</td>\n      <td>1.000000</td>\n      <td>2.000000</td>\n      <td>2.000000</td>\n      <td>1.000000</td>\n      <td>1.000000</td>\n    </tr>\n    <tr>\n      <th>50%</th>\n      <td>1.171710e+06</td>\n      <td>4.000000</td>\n      <td>1.000000</td>\n      <td>1.000000</td>\n      <td>1.000000</td>\n      <td>2.000000</td>\n      <td>3.000000</td>\n      <td>1.000000</td>\n      <td>1.000000</td>\n    </tr>\n    <tr>\n      <th>75%</th>\n      <td>1.238298e+06</td>\n      <td>6.000000</td>\n      <td>5.000000</td>\n      <td>5.000000</td>\n      <td>3.500000</td>\n      <td>4.000000</td>\n      <td>5.000000</td>\n      <td>4.000000</td>\n      <td>1.000000</td>\n    </tr>\n    <tr>\n      <th>max</th>\n      <td>1.345435e+07</td>\n      <td>10.000000</td>\n      <td>10.000000</td>\n      <td>10.000000</td>\n      <td>10.000000</td>\n      <td>10.000000</td>\n      <td>10.000000</td>\n      <td>10.000000</td>\n      <td>10.000000</td>\n    </tr>\n  </tbody>\n</table>\n</div>"
     },
     "metadata": {},
     "execution_count": 99
    }
   ]
  },
  {
   "source": [
    "#### You can customize the shown percentiles\n",
    "breast_dataset.describe(percentiles=[0.1,0.5, 0.9])"
   ],
   "cell_type": "code",
   "metadata": {},
   "execution_count": 100,
   "outputs": [
    {
     "output_type": "execute_result",
     "data": {
      "text/plain": [
       "         patient_id  clump_thickness  cell_size_uniformity  \\\n",
       "count  6.990000e+02       698.000000            698.000000   \n",
       "mean   1.071704e+06         4.416905              3.137536   \n",
       "std    6.170957e+05         2.817673              3.052575   \n",
       "min    6.163400e+04         1.000000              1.000000   \n",
       "10%    5.632146e+05         1.000000              1.000000   \n",
       "50%    1.171710e+06         4.000000              1.000000   \n",
       "90%    1.311261e+06         9.000000              9.000000   \n",
       "max    1.345435e+07        10.000000             10.000000   \n",
       "\n",
       "       cell_shape_uniformity  marginal_adhesion  single_ep_cell_size  \\\n",
       "count             699.000000         699.000000           699.000000   \n",
       "mean                3.207439           2.793991             3.216023   \n",
       "std                 2.971913           2.843163             2.214300   \n",
       "min                 1.000000           1.000000             1.000000   \n",
       "10%                 1.000000           1.000000             2.000000   \n",
       "50%                 1.000000           1.000000             2.000000   \n",
       "90%                 8.000000           8.000000             6.000000   \n",
       "max                10.000000          10.000000            10.000000   \n",
       "\n",
       "       bland_chromatin  normal_nucleoli     mitoses  \n",
       "count       695.000000       698.000000  699.000000  \n",
       "mean          3.447482         2.868195    1.589413  \n",
       "std           2.441191         3.055647    1.715078  \n",
       "min           1.000000         1.000000    1.000000  \n",
       "10%           1.000000         1.000000    1.000000  \n",
       "50%           3.000000         1.000000    1.000000  \n",
       "90%           7.000000         9.000000    3.000000  \n",
       "max          10.000000        10.000000   10.000000  "
      ],
      "text/html": "<div>\n<style scoped>\n    .dataframe tbody tr th:only-of-type {\n        vertical-align: middle;\n    }\n\n    .dataframe tbody tr th {\n        vertical-align: top;\n    }\n\n    .dataframe thead th {\n        text-align: right;\n    }\n</style>\n<table border=\"1\" class=\"dataframe\">\n  <thead>\n    <tr style=\"text-align: right;\">\n      <th></th>\n      <th>patient_id</th>\n      <th>clump_thickness</th>\n      <th>cell_size_uniformity</th>\n      <th>cell_shape_uniformity</th>\n      <th>marginal_adhesion</th>\n      <th>single_ep_cell_size</th>\n      <th>bland_chromatin</th>\n      <th>normal_nucleoli</th>\n      <th>mitoses</th>\n    </tr>\n  </thead>\n  <tbody>\n    <tr>\n      <th>count</th>\n      <td>6.990000e+02</td>\n      <td>698.000000</td>\n      <td>698.000000</td>\n      <td>699.000000</td>\n      <td>699.000000</td>\n      <td>699.000000</td>\n      <td>695.000000</td>\n      <td>698.000000</td>\n      <td>699.000000</td>\n    </tr>\n    <tr>\n      <th>mean</th>\n      <td>1.071704e+06</td>\n      <td>4.416905</td>\n      <td>3.137536</td>\n      <td>3.207439</td>\n      <td>2.793991</td>\n      <td>3.216023</td>\n      <td>3.447482</td>\n      <td>2.868195</td>\n      <td>1.589413</td>\n    </tr>\n    <tr>\n      <th>std</th>\n      <td>6.170957e+05</td>\n      <td>2.817673</td>\n      <td>3.052575</td>\n      <td>2.971913</td>\n      <td>2.843163</td>\n      <td>2.214300</td>\n      <td>2.441191</td>\n      <td>3.055647</td>\n      <td>1.715078</td>\n    </tr>\n    <tr>\n      <th>min</th>\n      <td>6.163400e+04</td>\n      <td>1.000000</td>\n      <td>1.000000</td>\n      <td>1.000000</td>\n      <td>1.000000</td>\n      <td>1.000000</td>\n      <td>1.000000</td>\n      <td>1.000000</td>\n      <td>1.000000</td>\n    </tr>\n    <tr>\n      <th>10%</th>\n      <td>5.632146e+05</td>\n      <td>1.000000</td>\n      <td>1.000000</td>\n      <td>1.000000</td>\n      <td>1.000000</td>\n      <td>2.000000</td>\n      <td>1.000000</td>\n      <td>1.000000</td>\n      <td>1.000000</td>\n    </tr>\n    <tr>\n      <th>50%</th>\n      <td>1.171710e+06</td>\n      <td>4.000000</td>\n      <td>1.000000</td>\n      <td>1.000000</td>\n      <td>1.000000</td>\n      <td>2.000000</td>\n      <td>3.000000</td>\n      <td>1.000000</td>\n      <td>1.000000</td>\n    </tr>\n    <tr>\n      <th>90%</th>\n      <td>1.311261e+06</td>\n      <td>9.000000</td>\n      <td>9.000000</td>\n      <td>8.000000</td>\n      <td>8.000000</td>\n      <td>6.000000</td>\n      <td>7.000000</td>\n      <td>9.000000</td>\n      <td>3.000000</td>\n    </tr>\n    <tr>\n      <th>max</th>\n      <td>1.345435e+07</td>\n      <td>10.000000</td>\n      <td>10.000000</td>\n      <td>10.000000</td>\n      <td>10.000000</td>\n      <td>10.000000</td>\n      <td>10.000000</td>\n      <td>10.000000</td>\n      <td>10.000000</td>\n    </tr>\n  </tbody>\n</table>\n</div>"
     },
     "metadata": {},
     "execution_count": 100
    }
   ]
  },
  {
   "source": [
    "### 6. How can we count the number of values for categorical data?"
   ],
   "cell_type": "markdown",
   "metadata": {}
  },
  {
   "cell_type": "code",
   "execution_count": 134,
   "metadata": {},
   "outputs": [
    {
     "output_type": "execute_result",
     "data": {
      "text/plain": [
       "doctor_name\n",
       "Dr. Doe      181\n",
       "Dr. Lee      179\n",
       "Dr. Smith    174\n",
       "Dr. Wong     156\n",
       "dtype: int64"
      ]
     },
     "metadata": {},
     "execution_count": 134
    }
   ],
   "source": [
    "#### How many patients have each doctor?\n",
    "breast_dataset.groupby(by=['doctor_name']).size()   # This aggreates the data by the column name\n",
    "                                                    # and pass the aggregation function (size = count)"
   ]
  },
  {
   "source": [
    "> More about the groupby function: https://pandas.pydata.org/pandas-docs/stable/reference/api/pandas.DataFrame.groupby.html"
   ],
   "cell_type": "markdown",
   "metadata": {}
  },
  {
   "source": [
    "### EXERCISE:\n",
    "### Provide the following information for the following questions, and provide the line that helped you to give the answer:\n",
    "\n",
    "1. How many unique patients do we have in this study? <br> 645 \n",
    "`breast_dataset.nunique()['patient_id']`\n",
    "1. What type of values contain the column marginal_adhesion? <br> int64 \n",
    "`breast_dataset.dtypes['marginal_adhesion']`\n",
    "1. What is the minimum size that can describe the cell uniformity? <br> 1\n",
    "`breast_dataset['cell_size_uniformity'].min()`\n",
    "1. What is the maximal number of counted mitoses? <br>10\n",
    "`breast_dataset['mitoses'].max()`\n",
    "1. How many patients with a severe type of breast cancer has each doctor? (hint, use the groupby function) <br> `breast_dataset.groupby(by=['doctor_name', 'class]).size()`\n",
    "\n",
    "### BONUS QUESTION\n",
    "\n",
    "Plot a boxplot to illustrate the answer of the question 5\n",
    "\n",
    "- TO DO\n",
    "\n",
    "_______ "
   ],
   "cell_type": "markdown",
   "metadata": {}
  },
  {
   "source": [
    "\n",
    "### 2. a. Dealing with ... missing values\n",
    "\n",
    "### How many missing values per column?"
   ],
   "cell_type": "markdown",
   "metadata": {}
  },
  {
   "cell_type": "code",
   "execution_count": 102,
   "metadata": {},
   "outputs": [
    {
     "output_type": "execute_result",
     "data": {
      "text/plain": [
       "patient_id               0\n",
       "clump_thickness          1\n",
       "cell_size_uniformity     1\n",
       "cell_shape_uniformity    0\n",
       "marginal_adhesion        0\n",
       "single_ep_cell_size      0\n",
       "bare_nuclei              2\n",
       "bland_chromatin          4\n",
       "normal_nucleoli          1\n",
       "mitoses                  0\n",
       "class                    0\n",
       "doctor_name              0\n",
       "dtype: int64"
      ]
     },
     "metadata": {},
     "execution_count": 102
    }
   ],
   "source": [
    "#### NB: In numpy, missing values can be defined with np.nan\n",
    "breast_dataset.isna().sum() "
   ]
  },
  {
   "source": [
    "### Determinant choice: What can we do with these missing values?\n",
    "- [ ] Replace them with zero! - 1\n",
    "- [ ] Remove them all! - 2\n",
    "\n"
   ],
   "cell_type": "markdown",
   "metadata": {}
  },
  {
   "cell_type": "code",
   "execution_count": 103,
   "metadata": {},
   "outputs": [
    {
     "output_type": "execute_result",
     "data": {
      "text/plain": [
       "patient_id               0\n",
       "clump_thickness          0\n",
       "cell_size_uniformity     0\n",
       "cell_shape_uniformity    0\n",
       "marginal_adhesion        0\n",
       "single_ep_cell_size      0\n",
       "bare_nuclei              0\n",
       "bland_chromatin          0\n",
       "normal_nucleoli          0\n",
       "mitoses                  0\n",
       "class                    0\n",
       "doctor_name              0\n",
       "dtype: int64"
      ]
     },
     "metadata": {},
     "execution_count": 103
    }
   ],
   "source": [
    "#### If you choose, solution 1, run this cell\n",
    "breast_dataset_with_zero = breast_dataset.fillna(0)\n",
    "\n",
    "breast_dataset_with_zero.isna().sum() "
   ]
  },
  {
   "cell_type": "code",
   "execution_count": 107,
   "metadata": {},
   "outputs": [
    {
     "output_type": "execute_result",
     "data": {
      "text/plain": [
       "patient_id               0\n",
       "clump_thickness          0\n",
       "cell_size_uniformity     0\n",
       "cell_shape_uniformity    0\n",
       "marginal_adhesion        0\n",
       "single_ep_cell_size      0\n",
       "bare_nuclei              0\n",
       "bland_chromatin          0\n",
       "normal_nucleoli          0\n",
       "mitoses                  0\n",
       "class                    0\n",
       "doctor_name              0\n",
       "dtype: int64"
      ]
     },
     "metadata": {},
     "execution_count": 107
    }
   ],
   "source": [
    "#### If you choose, solution 2, run this cell\n",
    "breast_dataset_with_nona = breast_dataset.dropna()  #drop rows with any column having np.nan values\n",
    "\n",
    "breast_dataset_with_nona.isna().sum()"
   ]
  },
  {
   "source": [
    "### What is the difference of these two methods?"
   ],
   "cell_type": "markdown",
   "metadata": {}
  },
  {
   "cell_type": "code",
   "execution_count": 114,
   "metadata": {},
   "outputs": [
    {
     "output_type": "stream",
     "name": "stdout",
     "text": [
      "Dataset with zero: (699, 12)\nDataset with no NA: (690, 12)\n"
     ]
    }
   ],
   "source": [
    "\n",
    "print('Dataset with zero:', breast_dataset_with_zero.shape)\n",
    "print('Dataset with no NA:', breast_dataset_with_nona.shape) "
   ]
  },
  {
   "cell_type": "code",
   "execution_count": 135,
   "metadata": {},
   "outputs": [
    {
     "output_type": "execute_result",
     "data": {
      "text/plain": [
       "     patient_id  clump_thickness  cell_size_uniformity  cell_shape_uniformity  \\\n",
       "0       1000025              5.0                   1.0                      1   \n",
       "1       1002945              5.0                   4.0                      4   \n",
       "2       1015425              3.0                   1.0                      1   \n",
       "3       1016277              6.0                   8.0                      8   \n",
       "4       1017023              4.0                   1.0                      1   \n",
       "..          ...              ...                   ...                    ...   \n",
       "694      776715              3.0                   1.0                      1   \n",
       "695      841769              2.0                   1.0                      1   \n",
       "696      888820              5.0                  10.0                     10   \n",
       "697      897471              4.0                   8.0                      6   \n",
       "698      897471              4.0                   8.0                      8   \n",
       "\n",
       "     marginal_adhesion  single_ep_cell_size bare_nuclei  bland_chromatin  \\\n",
       "0                    1                    2           1              3.0   \n",
       "1                    5                    7          10              3.0   \n",
       "2                    1                    2           2              3.0   \n",
       "3                    1                    3           4              3.0   \n",
       "4                    3                    2           1              3.0   \n",
       "..                 ...                  ...         ...              ...   \n",
       "694                  1                    3           2              1.0   \n",
       "695                  1                    2           1              1.0   \n",
       "696                  3                    7           3              8.0   \n",
       "697                  4                    3           4             10.0   \n",
       "698                  5                    4           5             10.0   \n",
       "\n",
       "     normal_nucleoli  mitoses      class doctor_name  \n",
       "0                1.0        1     benign     Dr. Doe  \n",
       "1                2.0        1     benign   Dr. Smith  \n",
       "2                1.0        1     benign     Dr. Lee  \n",
       "3                7.0        1     benign   Dr. Smith  \n",
       "4                1.0        1     benign    Dr. Wong  \n",
       "..               ...      ...        ...         ...  \n",
       "694              1.0        1     benign     Dr. Lee  \n",
       "695              1.0        1     benign   Dr. Smith  \n",
       "696             10.0        2  malignant     Dr. Lee  \n",
       "697              6.0        1  malignant     Dr. Lee  \n",
       "698              4.0        1  malignant    Dr. Wong  \n",
       "\n",
       "[690 rows x 12 columns]"
      ],
      "text/html": "<div>\n<style scoped>\n    .dataframe tbody tr th:only-of-type {\n        vertical-align: middle;\n    }\n\n    .dataframe tbody tr th {\n        vertical-align: top;\n    }\n\n    .dataframe thead th {\n        text-align: right;\n    }\n</style>\n<table border=\"1\" class=\"dataframe\">\n  <thead>\n    <tr style=\"text-align: right;\">\n      <th></th>\n      <th>patient_id</th>\n      <th>clump_thickness</th>\n      <th>cell_size_uniformity</th>\n      <th>cell_shape_uniformity</th>\n      <th>marginal_adhesion</th>\n      <th>single_ep_cell_size</th>\n      <th>bare_nuclei</th>\n      <th>bland_chromatin</th>\n      <th>normal_nucleoli</th>\n      <th>mitoses</th>\n      <th>class</th>\n      <th>doctor_name</th>\n    </tr>\n  </thead>\n  <tbody>\n    <tr>\n      <th>0</th>\n      <td>1000025</td>\n      <td>5.0</td>\n      <td>1.0</td>\n      <td>1</td>\n      <td>1</td>\n      <td>2</td>\n      <td>1</td>\n      <td>3.0</td>\n      <td>1.0</td>\n      <td>1</td>\n      <td>benign</td>\n      <td>Dr. Doe</td>\n    </tr>\n    <tr>\n      <th>1</th>\n      <td>1002945</td>\n      <td>5.0</td>\n      <td>4.0</td>\n      <td>4</td>\n      <td>5</td>\n      <td>7</td>\n      <td>10</td>\n      <td>3.0</td>\n      <td>2.0</td>\n      <td>1</td>\n      <td>benign</td>\n      <td>Dr. Smith</td>\n    </tr>\n    <tr>\n      <th>2</th>\n      <td>1015425</td>\n      <td>3.0</td>\n      <td>1.0</td>\n      <td>1</td>\n      <td>1</td>\n      <td>2</td>\n      <td>2</td>\n      <td>3.0</td>\n      <td>1.0</td>\n      <td>1</td>\n      <td>benign</td>\n      <td>Dr. Lee</td>\n    </tr>\n    <tr>\n      <th>3</th>\n      <td>1016277</td>\n      <td>6.0</td>\n      <td>8.0</td>\n      <td>8</td>\n      <td>1</td>\n      <td>3</td>\n      <td>4</td>\n      <td>3.0</td>\n      <td>7.0</td>\n      <td>1</td>\n      <td>benign</td>\n      <td>Dr. Smith</td>\n    </tr>\n    <tr>\n      <th>4</th>\n      <td>1017023</td>\n      <td>4.0</td>\n      <td>1.0</td>\n      <td>1</td>\n      <td>3</td>\n      <td>2</td>\n      <td>1</td>\n      <td>3.0</td>\n      <td>1.0</td>\n      <td>1</td>\n      <td>benign</td>\n      <td>Dr. Wong</td>\n    </tr>\n    <tr>\n      <th>...</th>\n      <td>...</td>\n      <td>...</td>\n      <td>...</td>\n      <td>...</td>\n      <td>...</td>\n      <td>...</td>\n      <td>...</td>\n      <td>...</td>\n      <td>...</td>\n      <td>...</td>\n      <td>...</td>\n      <td>...</td>\n    </tr>\n    <tr>\n      <th>694</th>\n      <td>776715</td>\n      <td>3.0</td>\n      <td>1.0</td>\n      <td>1</td>\n      <td>1</td>\n      <td>3</td>\n      <td>2</td>\n      <td>1.0</td>\n      <td>1.0</td>\n      <td>1</td>\n      <td>benign</td>\n      <td>Dr. Lee</td>\n    </tr>\n    <tr>\n      <th>695</th>\n      <td>841769</td>\n      <td>2.0</td>\n      <td>1.0</td>\n      <td>1</td>\n      <td>1</td>\n      <td>2</td>\n      <td>1</td>\n      <td>1.0</td>\n      <td>1.0</td>\n      <td>1</td>\n      <td>benign</td>\n      <td>Dr. Smith</td>\n    </tr>\n    <tr>\n      <th>696</th>\n      <td>888820</td>\n      <td>5.0</td>\n      <td>10.0</td>\n      <td>10</td>\n      <td>3</td>\n      <td>7</td>\n      <td>3</td>\n      <td>8.0</td>\n      <td>10.0</td>\n      <td>2</td>\n      <td>malignant</td>\n      <td>Dr. Lee</td>\n    </tr>\n    <tr>\n      <th>697</th>\n      <td>897471</td>\n      <td>4.0</td>\n      <td>8.0</td>\n      <td>6</td>\n      <td>4</td>\n      <td>3</td>\n      <td>4</td>\n      <td>10.0</td>\n      <td>6.0</td>\n      <td>1</td>\n      <td>malignant</td>\n      <td>Dr. Lee</td>\n    </tr>\n    <tr>\n      <th>698</th>\n      <td>897471</td>\n      <td>4.0</td>\n      <td>8.0</td>\n      <td>8</td>\n      <td>5</td>\n      <td>4</td>\n      <td>5</td>\n      <td>10.0</td>\n      <td>4.0</td>\n      <td>1</td>\n      <td>malignant</td>\n      <td>Dr. Wong</td>\n    </tr>\n  </tbody>\n</table>\n<p>690 rows × 12 columns</p>\n</div>"
     },
     "metadata": {},
     "execution_count": 135
    }
   ],
   "source": [
    "#### Let's take the dataframe with no na values\n",
    "breast_dataset_with_nona "
   ]
  },
  {
   "cell_type": "code",
   "execution_count": 128,
   "metadata": {},
   "outputs": [
    {
     "output_type": "execute_result",
     "data": {
      "text/plain": [
       "     index  patient_id  clump_thickness  cell_size_uniformity  \\\n",
       "0        0     1000025              5.0                   1.0   \n",
       "1        1     1002945              5.0                   4.0   \n",
       "2        2     1015425              3.0                   1.0   \n",
       "3        3     1016277              6.0                   8.0   \n",
       "4        4     1017023              4.0                   1.0   \n",
       "..     ...         ...              ...                   ...   \n",
       "685    694      776715              3.0                   1.0   \n",
       "686    695      841769              2.0                   1.0   \n",
       "687    696      888820              5.0                  10.0   \n",
       "688    697      897471              4.0                   8.0   \n",
       "689    698      897471              4.0                   8.0   \n",
       "\n",
       "     cell_shape_uniformity  marginal_adhesion  single_ep_cell_size  \\\n",
       "0                        1                  1                    2   \n",
       "1                        4                  5                    7   \n",
       "2                        1                  1                    2   \n",
       "3                        8                  1                    3   \n",
       "4                        1                  3                    2   \n",
       "..                     ...                ...                  ...   \n",
       "685                      1                  1                    3   \n",
       "686                      1                  1                    2   \n",
       "687                     10                  3                    7   \n",
       "688                      6                  4                    3   \n",
       "689                      8                  5                    4   \n",
       "\n",
       "    bare_nuclei  bland_chromatin  normal_nucleoli  mitoses      class  \\\n",
       "0             1              3.0              1.0        1     benign   \n",
       "1            10              3.0              2.0        1     benign   \n",
       "2             2              3.0              1.0        1     benign   \n",
       "3             4              3.0              7.0        1     benign   \n",
       "4             1              3.0              1.0        1     benign   \n",
       "..          ...              ...              ...      ...        ...   \n",
       "685           2              1.0              1.0        1     benign   \n",
       "686           1              1.0              1.0        1     benign   \n",
       "687           3              8.0             10.0        2  malignant   \n",
       "688           4             10.0              6.0        1  malignant   \n",
       "689           5             10.0              4.0        1  malignant   \n",
       "\n",
       "    doctor_name  \n",
       "0       Dr. Doe  \n",
       "1     Dr. Smith  \n",
       "2       Dr. Lee  \n",
       "3     Dr. Smith  \n",
       "4      Dr. Wong  \n",
       "..          ...  \n",
       "685     Dr. Lee  \n",
       "686   Dr. Smith  \n",
       "687     Dr. Lee  \n",
       "688     Dr. Lee  \n",
       "689    Dr. Wong  \n",
       "\n",
       "[690 rows x 13 columns]"
      ],
      "text/html": "<div>\n<style scoped>\n    .dataframe tbody tr th:only-of-type {\n        vertical-align: middle;\n    }\n\n    .dataframe tbody tr th {\n        vertical-align: top;\n    }\n\n    .dataframe thead th {\n        text-align: right;\n    }\n</style>\n<table border=\"1\" class=\"dataframe\">\n  <thead>\n    <tr style=\"text-align: right;\">\n      <th></th>\n      <th>index</th>\n      <th>patient_id</th>\n      <th>clump_thickness</th>\n      <th>cell_size_uniformity</th>\n      <th>cell_shape_uniformity</th>\n      <th>marginal_adhesion</th>\n      <th>single_ep_cell_size</th>\n      <th>bare_nuclei</th>\n      <th>bland_chromatin</th>\n      <th>normal_nucleoli</th>\n      <th>mitoses</th>\n      <th>class</th>\n      <th>doctor_name</th>\n    </tr>\n  </thead>\n  <tbody>\n    <tr>\n      <th>0</th>\n      <td>0</td>\n      <td>1000025</td>\n      <td>5.0</td>\n      <td>1.0</td>\n      <td>1</td>\n      <td>1</td>\n      <td>2</td>\n      <td>1</td>\n      <td>3.0</td>\n      <td>1.0</td>\n      <td>1</td>\n      <td>benign</td>\n      <td>Dr. Doe</td>\n    </tr>\n    <tr>\n      <th>1</th>\n      <td>1</td>\n      <td>1002945</td>\n      <td>5.0</td>\n      <td>4.0</td>\n      <td>4</td>\n      <td>5</td>\n      <td>7</td>\n      <td>10</td>\n      <td>3.0</td>\n      <td>2.0</td>\n      <td>1</td>\n      <td>benign</td>\n      <td>Dr. Smith</td>\n    </tr>\n    <tr>\n      <th>2</th>\n      <td>2</td>\n      <td>1015425</td>\n      <td>3.0</td>\n      <td>1.0</td>\n      <td>1</td>\n      <td>1</td>\n      <td>2</td>\n      <td>2</td>\n      <td>3.0</td>\n      <td>1.0</td>\n      <td>1</td>\n      <td>benign</td>\n      <td>Dr. Lee</td>\n    </tr>\n    <tr>\n      <th>3</th>\n      <td>3</td>\n      <td>1016277</td>\n      <td>6.0</td>\n      <td>8.0</td>\n      <td>8</td>\n      <td>1</td>\n      <td>3</td>\n      <td>4</td>\n      <td>3.0</td>\n      <td>7.0</td>\n      <td>1</td>\n      <td>benign</td>\n      <td>Dr. Smith</td>\n    </tr>\n    <tr>\n      <th>4</th>\n      <td>4</td>\n      <td>1017023</td>\n      <td>4.0</td>\n      <td>1.0</td>\n      <td>1</td>\n      <td>3</td>\n      <td>2</td>\n      <td>1</td>\n      <td>3.0</td>\n      <td>1.0</td>\n      <td>1</td>\n      <td>benign</td>\n      <td>Dr. Wong</td>\n    </tr>\n    <tr>\n      <th>...</th>\n      <td>...</td>\n      <td>...</td>\n      <td>...</td>\n      <td>...</td>\n      <td>...</td>\n      <td>...</td>\n      <td>...</td>\n      <td>...</td>\n      <td>...</td>\n      <td>...</td>\n      <td>...</td>\n      <td>...</td>\n      <td>...</td>\n    </tr>\n    <tr>\n      <th>685</th>\n      <td>694</td>\n      <td>776715</td>\n      <td>3.0</td>\n      <td>1.0</td>\n      <td>1</td>\n      <td>1</td>\n      <td>3</td>\n      <td>2</td>\n      <td>1.0</td>\n      <td>1.0</td>\n      <td>1</td>\n      <td>benign</td>\n      <td>Dr. Lee</td>\n    </tr>\n    <tr>\n      <th>686</th>\n      <td>695</td>\n      <td>841769</td>\n      <td>2.0</td>\n      <td>1.0</td>\n      <td>1</td>\n      <td>1</td>\n      <td>2</td>\n      <td>1</td>\n      <td>1.0</td>\n      <td>1.0</td>\n      <td>1</td>\n      <td>benign</td>\n      <td>Dr. Smith</td>\n    </tr>\n    <tr>\n      <th>687</th>\n      <td>696</td>\n      <td>888820</td>\n      <td>5.0</td>\n      <td>10.0</td>\n      <td>10</td>\n      <td>3</td>\n      <td>7</td>\n      <td>3</td>\n      <td>8.0</td>\n      <td>10.0</td>\n      <td>2</td>\n      <td>malignant</td>\n      <td>Dr. Lee</td>\n    </tr>\n    <tr>\n      <th>688</th>\n      <td>697</td>\n      <td>897471</td>\n      <td>4.0</td>\n      <td>8.0</td>\n      <td>6</td>\n      <td>4</td>\n      <td>3</td>\n      <td>4</td>\n      <td>10.0</td>\n      <td>6.0</td>\n      <td>1</td>\n      <td>malignant</td>\n      <td>Dr. Lee</td>\n    </tr>\n    <tr>\n      <th>689</th>\n      <td>698</td>\n      <td>897471</td>\n      <td>4.0</td>\n      <td>8.0</td>\n      <td>8</td>\n      <td>5</td>\n      <td>4</td>\n      <td>5</td>\n      <td>10.0</td>\n      <td>4.0</td>\n      <td>1</td>\n      <td>malignant</td>\n      <td>Dr. Wong</td>\n    </tr>\n  </tbody>\n</table>\n<p>690 rows × 13 columns</p>\n</div>"
     },
     "metadata": {},
     "execution_count": 128
    }
   ],
   "source": [
    "#### Reindexing your table after removing few lines - step 1\n",
    "breast_dataset = breast_dataset_with_nona.reset_index()\n",
    "breast_dataset"
   ]
  },
  {
   "cell_type": "code",
   "execution_count": 129,
   "metadata": {},
   "outputs": [
    {
     "output_type": "execute_result",
     "data": {
      "text/plain": [
       "     patient_id  clump_thickness  cell_size_uniformity  cell_shape_uniformity  \\\n",
       "0       1000025              5.0                   1.0                      1   \n",
       "1       1002945              5.0                   4.0                      4   \n",
       "2       1015425              3.0                   1.0                      1   \n",
       "3       1016277              6.0                   8.0                      8   \n",
       "4       1017023              4.0                   1.0                      1   \n",
       "..          ...              ...                   ...                    ...   \n",
       "685      776715              3.0                   1.0                      1   \n",
       "686      841769              2.0                   1.0                      1   \n",
       "687      888820              5.0                  10.0                     10   \n",
       "688      897471              4.0                   8.0                      6   \n",
       "689      897471              4.0                   8.0                      8   \n",
       "\n",
       "     marginal_adhesion  single_ep_cell_size bare_nuclei  bland_chromatin  \\\n",
       "0                    1                    2           1              3.0   \n",
       "1                    5                    7          10              3.0   \n",
       "2                    1                    2           2              3.0   \n",
       "3                    1                    3           4              3.0   \n",
       "4                    3                    2           1              3.0   \n",
       "..                 ...                  ...         ...              ...   \n",
       "685                  1                    3           2              1.0   \n",
       "686                  1                    2           1              1.0   \n",
       "687                  3                    7           3              8.0   \n",
       "688                  4                    3           4             10.0   \n",
       "689                  5                    4           5             10.0   \n",
       "\n",
       "     normal_nucleoli  mitoses      class doctor_name  \n",
       "0                1.0        1     benign     Dr. Doe  \n",
       "1                2.0        1     benign   Dr. Smith  \n",
       "2                1.0        1     benign     Dr. Lee  \n",
       "3                7.0        1     benign   Dr. Smith  \n",
       "4                1.0        1     benign    Dr. Wong  \n",
       "..               ...      ...        ...         ...  \n",
       "685              1.0        1     benign     Dr. Lee  \n",
       "686              1.0        1     benign   Dr. Smith  \n",
       "687             10.0        2  malignant     Dr. Lee  \n",
       "688              6.0        1  malignant     Dr. Lee  \n",
       "689              4.0        1  malignant    Dr. Wong  \n",
       "\n",
       "[690 rows x 12 columns]"
      ],
      "text/html": "<div>\n<style scoped>\n    .dataframe tbody tr th:only-of-type {\n        vertical-align: middle;\n    }\n\n    .dataframe tbody tr th {\n        vertical-align: top;\n    }\n\n    .dataframe thead th {\n        text-align: right;\n    }\n</style>\n<table border=\"1\" class=\"dataframe\">\n  <thead>\n    <tr style=\"text-align: right;\">\n      <th></th>\n      <th>patient_id</th>\n      <th>clump_thickness</th>\n      <th>cell_size_uniformity</th>\n      <th>cell_shape_uniformity</th>\n      <th>marginal_adhesion</th>\n      <th>single_ep_cell_size</th>\n      <th>bare_nuclei</th>\n      <th>bland_chromatin</th>\n      <th>normal_nucleoli</th>\n      <th>mitoses</th>\n      <th>class</th>\n      <th>doctor_name</th>\n    </tr>\n  </thead>\n  <tbody>\n    <tr>\n      <th>0</th>\n      <td>1000025</td>\n      <td>5.0</td>\n      <td>1.0</td>\n      <td>1</td>\n      <td>1</td>\n      <td>2</td>\n      <td>1</td>\n      <td>3.0</td>\n      <td>1.0</td>\n      <td>1</td>\n      <td>benign</td>\n      <td>Dr. Doe</td>\n    </tr>\n    <tr>\n      <th>1</th>\n      <td>1002945</td>\n      <td>5.0</td>\n      <td>4.0</td>\n      <td>4</td>\n      <td>5</td>\n      <td>7</td>\n      <td>10</td>\n      <td>3.0</td>\n      <td>2.0</td>\n      <td>1</td>\n      <td>benign</td>\n      <td>Dr. Smith</td>\n    </tr>\n    <tr>\n      <th>2</th>\n      <td>1015425</td>\n      <td>3.0</td>\n      <td>1.0</td>\n      <td>1</td>\n      <td>1</td>\n      <td>2</td>\n      <td>2</td>\n      <td>3.0</td>\n      <td>1.0</td>\n      <td>1</td>\n      <td>benign</td>\n      <td>Dr. Lee</td>\n    </tr>\n    <tr>\n      <th>3</th>\n      <td>1016277</td>\n      <td>6.0</td>\n      <td>8.0</td>\n      <td>8</td>\n      <td>1</td>\n      <td>3</td>\n      <td>4</td>\n      <td>3.0</td>\n      <td>7.0</td>\n      <td>1</td>\n      <td>benign</td>\n      <td>Dr. Smith</td>\n    </tr>\n    <tr>\n      <th>4</th>\n      <td>1017023</td>\n      <td>4.0</td>\n      <td>1.0</td>\n      <td>1</td>\n      <td>3</td>\n      <td>2</td>\n      <td>1</td>\n      <td>3.0</td>\n      <td>1.0</td>\n      <td>1</td>\n      <td>benign</td>\n      <td>Dr. Wong</td>\n    </tr>\n    <tr>\n      <th>...</th>\n      <td>...</td>\n      <td>...</td>\n      <td>...</td>\n      <td>...</td>\n      <td>...</td>\n      <td>...</td>\n      <td>...</td>\n      <td>...</td>\n      <td>...</td>\n      <td>...</td>\n      <td>...</td>\n      <td>...</td>\n    </tr>\n    <tr>\n      <th>685</th>\n      <td>776715</td>\n      <td>3.0</td>\n      <td>1.0</td>\n      <td>1</td>\n      <td>1</td>\n      <td>3</td>\n      <td>2</td>\n      <td>1.0</td>\n      <td>1.0</td>\n      <td>1</td>\n      <td>benign</td>\n      <td>Dr. Lee</td>\n    </tr>\n    <tr>\n      <th>686</th>\n      <td>841769</td>\n      <td>2.0</td>\n      <td>1.0</td>\n      <td>1</td>\n      <td>1</td>\n      <td>2</td>\n      <td>1</td>\n      <td>1.0</td>\n      <td>1.0</td>\n      <td>1</td>\n      <td>benign</td>\n      <td>Dr. Smith</td>\n    </tr>\n    <tr>\n      <th>687</th>\n      <td>888820</td>\n      <td>5.0</td>\n      <td>10.0</td>\n      <td>10</td>\n      <td>3</td>\n      <td>7</td>\n      <td>3</td>\n      <td>8.0</td>\n      <td>10.0</td>\n      <td>2</td>\n      <td>malignant</td>\n      <td>Dr. Lee</td>\n    </tr>\n    <tr>\n      <th>688</th>\n      <td>897471</td>\n      <td>4.0</td>\n      <td>8.0</td>\n      <td>6</td>\n      <td>4</td>\n      <td>3</td>\n      <td>4</td>\n      <td>10.0</td>\n      <td>6.0</td>\n      <td>1</td>\n      <td>malignant</td>\n      <td>Dr. Lee</td>\n    </tr>\n    <tr>\n      <th>689</th>\n      <td>897471</td>\n      <td>4.0</td>\n      <td>8.0</td>\n      <td>8</td>\n      <td>5</td>\n      <td>4</td>\n      <td>5</td>\n      <td>10.0</td>\n      <td>4.0</td>\n      <td>1</td>\n      <td>malignant</td>\n      <td>Dr. Wong</td>\n    </tr>\n  </tbody>\n</table>\n<p>690 rows × 12 columns</p>\n</div>"
     },
     "metadata": {},
     "execution_count": 129
    }
   ],
   "source": [
    "#### Reindexing your table after removing few lines - step 2\n",
    "breast_dataset = breast_dataset.drop(columns='index')\n",
    "breast_dataset"
   ]
  },
  {
   "cell_type": "code",
   "execution_count": null,
   "metadata": {},
   "outputs": [],
   "source": []
  },
  {
   "source": [
    "### 3. Dealing with duplicated data\n",
    "### 4. Playing with your dataframe (filter by columns or rows)\n",
    "### 5. Customizing your dataframe (make a new dataframe based on your initial dataframe + filtering columns + deleting columns + adding new columns)\n",
    "\n",
    "### FINAL EXERCISE\n",
    "\n",
    "\n"
   ],
   "cell_type": "markdown",
   "metadata": {}
  },
  {
   "cell_type": "code",
   "execution_count": null,
   "metadata": {},
   "outputs": [],
   "source": []
  }
 ]
}