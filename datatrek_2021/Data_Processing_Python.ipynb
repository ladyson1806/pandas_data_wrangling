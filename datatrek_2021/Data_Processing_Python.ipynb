{
 "metadata": {
  "language_info": {
   "codemirror_mode": {
    "name": "ipython",
    "version": 3
   },
   "file_extension": ".py",
   "mimetype": "text/x-python",
   "name": "python",
   "nbconvert_exporter": "python",
   "pygments_lexer": "ipython3",
   "version": "3.8.5-final"
  },
  "orig_nbformat": 2,
  "kernelspec": {
   "name": "python3",
   "display_name": "Python 3.8.5 64-bit ('bioinfo_3.8': conda)",
   "metadata": {
    "interpreter": {
     "hash": "52454c618a4204657519cbab42273bb942d0a30f08c27de48ae386072d003f99"
    }
   }
  }
 },
 "nbformat": 4,
 "nbformat_minor": 2,
 "cells": [
  {
   "source": [
    "# Data.Trek 2021 - Week 2 : Data Prepocessing and Cleaning in Python\n",
    "## Your journey in data prepocessing and cleaning with pandas\n",
    "Author: Savandara Ladyson Besse \n",
    "\n",
    "![text here](./images/pandas.jpg)\n",
    "\n",
    "\n",
    "## Useful readings about pandas\n",
    "- <a href='https://pandas.pydata.org/docs/user_guide/10min.html#min'>10 min tutorial on pandas</a>\n",
    "- <a href='https://pandas.pydata.org/docs/user_guide/index.html#user-guide'>All the secrets about pandas</a>\n",
    "\n",
    "## Credits\n",
    "- Inspiration for the plan of this tutorial from <a href='https://towardsdatascience.com/data-wrangling-with-pandas-5b0be151df4e'>Towards data science</a>\n",
    "- Dataset 1: Breast cancer data from <a href='https://archive.ics.uci.edu/ml/datasets/breast+cancer+wisconsin+(original)'>UCI</a>\n",
    "- Dataset 2: Generated dataset based on the graduated bioinformatics alumni list from the biochemistry department of UdeM\n",
    "\n",
    "## Today's tutorial\n",
    "1. Data exploration\n",
    "2. Accessing, slicing and selecting data\n",
    "3. Dealing with missing values\n",
    "4. Dealing with duplicated values\n",
    "5. Playing with your dataframe (filter by columns or rows)\n",
    "6. Customizing your dataframe (make a new dataframe based on your initial dataframe + filtering columns + deleting columns + adding new columns)\n",
    "7. Homework\n",
    "<br><br>\n",
    "\n",
    "_______ \n",
    "\n",
    "<br>\n",
    "\n",
    "### Situation 1: \n",
    "### You have been hired as data scientist at the Montreal Cancer Treatment Institute. Your new lab told you that they have a really insteresting dataset of breast cancer data and they want you to check if the table can be used without any changes.\n",
    "### How will you do?"
   ],
   "cell_type": "markdown",
   "metadata": {}
  },
  {
   "cell_type": "code",
   "execution_count": 179,
   "metadata": {},
   "outputs": [],
   "source": [
    "import numpy as np\n",
    "import pandas as pd\n",
    "import seaborn as sns\n",
    "import matplotlib.pyplot as plt\n"
   ]
  },
  {
   "source": [
    "### I. Data exploration\n",
    "\n",
    "### __Determinant choice__: What do you want to do, first?\n",
    "- [ ]  Upload the data in my notebook now! - 1\n",
    "- [ ]  Take a look on the data, first! - 2"
   ],
   "cell_type": "markdown",
   "metadata": {}
  },
  {
   "cell_type": "code",
   "execution_count": 136,
   "metadata": {},
   "outputs": [],
   "source": [
    "breast_data_path = 'https://raw.githubusercontent.com/ladyson1806/pandas_data_wrangling/master/datatrek_2021/data/breast_cancer_data.csv' #### change with aebinum when done"
   ]
  },
  {
   "source": [
    "#### If you choose the choice 1, then compute this cell\n",
    "breast_dataset = pd.read_csv(breast_data_path)"
   ],
   "cell_type": "code",
   "metadata": {},
   "execution_count": 137,
   "outputs": [
    {
     "output_type": "error",
     "ename": "ParserError",
     "evalue": "Error tokenizing data. C error: Expected 1 fields in line 7, saw 3\n",
     "traceback": [
      "\u001b[0;31m---------------------------------------------------------------------------\u001b[0m",
      "\u001b[0;31mParserError\u001b[0m                               Traceback (most recent call last)",
      "\u001b[0;32m<ipython-input-137-1ce05551c396>\u001b[0m in \u001b[0;36m<module>\u001b[0;34m\u001b[0m\n\u001b[1;32m      1\u001b[0m \u001b[0;31m#### If you choose the choice 1, then compute this cell\u001b[0m\u001b[0;34m\u001b[0m\u001b[0;34m\u001b[0m\u001b[0;34m\u001b[0m\u001b[0m\n\u001b[0;32m----> 2\u001b[0;31m \u001b[0mbreast_dataset\u001b[0m \u001b[0;34m=\u001b[0m \u001b[0mpd\u001b[0m\u001b[0;34m.\u001b[0m\u001b[0mread_csv\u001b[0m\u001b[0;34m(\u001b[0m\u001b[0mbreast_data_path\u001b[0m\u001b[0;34m)\u001b[0m\u001b[0;34m\u001b[0m\u001b[0;34m\u001b[0m\u001b[0m\n\u001b[0m",
      "\u001b[0;32m~/bin/miniconda3/envs/bioinfo_3.8/lib/python3.8/site-packages/pandas/io/parsers.py\u001b[0m in \u001b[0;36mparser_f\u001b[0;34m(filepath_or_buffer, sep, delimiter, header, names, index_col, usecols, squeeze, prefix, mangle_dupe_cols, dtype, engine, converters, true_values, false_values, skipinitialspace, skiprows, skipfooter, nrows, na_values, keep_default_na, na_filter, verbose, skip_blank_lines, parse_dates, infer_datetime_format, keep_date_col, date_parser, dayfirst, cache_dates, iterator, chunksize, compression, thousands, decimal, lineterminator, quotechar, quoting, doublequote, escapechar, comment, encoding, dialect, error_bad_lines, warn_bad_lines, delim_whitespace, low_memory, memory_map, float_precision)\u001b[0m\n\u001b[1;32m    674\u001b[0m         )\n\u001b[1;32m    675\u001b[0m \u001b[0;34m\u001b[0m\u001b[0m\n\u001b[0;32m--> 676\u001b[0;31m         \u001b[0;32mreturn\u001b[0m \u001b[0m_read\u001b[0m\u001b[0;34m(\u001b[0m\u001b[0mfilepath_or_buffer\u001b[0m\u001b[0;34m,\u001b[0m \u001b[0mkwds\u001b[0m\u001b[0;34m)\u001b[0m\u001b[0;34m\u001b[0m\u001b[0;34m\u001b[0m\u001b[0m\n\u001b[0m\u001b[1;32m    677\u001b[0m \u001b[0;34m\u001b[0m\u001b[0m\n\u001b[1;32m    678\u001b[0m     \u001b[0mparser_f\u001b[0m\u001b[0;34m.\u001b[0m\u001b[0m__name__\u001b[0m \u001b[0;34m=\u001b[0m \u001b[0mname\u001b[0m\u001b[0;34m\u001b[0m\u001b[0;34m\u001b[0m\u001b[0m\n",
      "\u001b[0;32m~/bin/miniconda3/envs/bioinfo_3.8/lib/python3.8/site-packages/pandas/io/parsers.py\u001b[0m in \u001b[0;36m_read\u001b[0;34m(filepath_or_buffer, kwds)\u001b[0m\n\u001b[1;32m    452\u001b[0m \u001b[0;34m\u001b[0m\u001b[0m\n\u001b[1;32m    453\u001b[0m     \u001b[0;32mtry\u001b[0m\u001b[0;34m:\u001b[0m\u001b[0;34m\u001b[0m\u001b[0;34m\u001b[0m\u001b[0m\n\u001b[0;32m--> 454\u001b[0;31m         \u001b[0mdata\u001b[0m \u001b[0;34m=\u001b[0m \u001b[0mparser\u001b[0m\u001b[0;34m.\u001b[0m\u001b[0mread\u001b[0m\u001b[0;34m(\u001b[0m\u001b[0mnrows\u001b[0m\u001b[0;34m)\u001b[0m\u001b[0;34m\u001b[0m\u001b[0;34m\u001b[0m\u001b[0m\n\u001b[0m\u001b[1;32m    455\u001b[0m     \u001b[0;32mfinally\u001b[0m\u001b[0;34m:\u001b[0m\u001b[0;34m\u001b[0m\u001b[0;34m\u001b[0m\u001b[0m\n\u001b[1;32m    456\u001b[0m         \u001b[0mparser\u001b[0m\u001b[0;34m.\u001b[0m\u001b[0mclose\u001b[0m\u001b[0;34m(\u001b[0m\u001b[0;34m)\u001b[0m\u001b[0;34m\u001b[0m\u001b[0;34m\u001b[0m\u001b[0m\n",
      "\u001b[0;32m~/bin/miniconda3/envs/bioinfo_3.8/lib/python3.8/site-packages/pandas/io/parsers.py\u001b[0m in \u001b[0;36mread\u001b[0;34m(self, nrows)\u001b[0m\n\u001b[1;32m   1131\u001b[0m     \u001b[0;32mdef\u001b[0m \u001b[0mread\u001b[0m\u001b[0;34m(\u001b[0m\u001b[0mself\u001b[0m\u001b[0;34m,\u001b[0m \u001b[0mnrows\u001b[0m\u001b[0;34m=\u001b[0m\u001b[0;32mNone\u001b[0m\u001b[0;34m)\u001b[0m\u001b[0;34m:\u001b[0m\u001b[0;34m\u001b[0m\u001b[0;34m\u001b[0m\u001b[0m\n\u001b[1;32m   1132\u001b[0m         \u001b[0mnrows\u001b[0m \u001b[0;34m=\u001b[0m \u001b[0m_validate_integer\u001b[0m\u001b[0;34m(\u001b[0m\u001b[0;34m\"nrows\"\u001b[0m\u001b[0;34m,\u001b[0m \u001b[0mnrows\u001b[0m\u001b[0;34m)\u001b[0m\u001b[0;34m\u001b[0m\u001b[0;34m\u001b[0m\u001b[0m\n\u001b[0;32m-> 1133\u001b[0;31m         \u001b[0mret\u001b[0m \u001b[0;34m=\u001b[0m \u001b[0mself\u001b[0m\u001b[0;34m.\u001b[0m\u001b[0m_engine\u001b[0m\u001b[0;34m.\u001b[0m\u001b[0mread\u001b[0m\u001b[0;34m(\u001b[0m\u001b[0mnrows\u001b[0m\u001b[0;34m)\u001b[0m\u001b[0;34m\u001b[0m\u001b[0;34m\u001b[0m\u001b[0m\n\u001b[0m\u001b[1;32m   1134\u001b[0m \u001b[0;34m\u001b[0m\u001b[0m\n\u001b[1;32m   1135\u001b[0m         \u001b[0;31m# May alter columns / col_dict\u001b[0m\u001b[0;34m\u001b[0m\u001b[0;34m\u001b[0m\u001b[0;34m\u001b[0m\u001b[0m\n",
      "\u001b[0;32m~/bin/miniconda3/envs/bioinfo_3.8/lib/python3.8/site-packages/pandas/io/parsers.py\u001b[0m in \u001b[0;36mread\u001b[0;34m(self, nrows)\u001b[0m\n\u001b[1;32m   2035\u001b[0m     \u001b[0;32mdef\u001b[0m \u001b[0mread\u001b[0m\u001b[0;34m(\u001b[0m\u001b[0mself\u001b[0m\u001b[0;34m,\u001b[0m \u001b[0mnrows\u001b[0m\u001b[0;34m=\u001b[0m\u001b[0;32mNone\u001b[0m\u001b[0;34m)\u001b[0m\u001b[0;34m:\u001b[0m\u001b[0;34m\u001b[0m\u001b[0;34m\u001b[0m\u001b[0m\n\u001b[1;32m   2036\u001b[0m         \u001b[0;32mtry\u001b[0m\u001b[0;34m:\u001b[0m\u001b[0;34m\u001b[0m\u001b[0;34m\u001b[0m\u001b[0m\n\u001b[0;32m-> 2037\u001b[0;31m             \u001b[0mdata\u001b[0m \u001b[0;34m=\u001b[0m \u001b[0mself\u001b[0m\u001b[0;34m.\u001b[0m\u001b[0m_reader\u001b[0m\u001b[0;34m.\u001b[0m\u001b[0mread\u001b[0m\u001b[0;34m(\u001b[0m\u001b[0mnrows\u001b[0m\u001b[0;34m)\u001b[0m\u001b[0;34m\u001b[0m\u001b[0;34m\u001b[0m\u001b[0m\n\u001b[0m\u001b[1;32m   2038\u001b[0m         \u001b[0;32mexcept\u001b[0m \u001b[0mStopIteration\u001b[0m\u001b[0;34m:\u001b[0m\u001b[0;34m\u001b[0m\u001b[0;34m\u001b[0m\u001b[0m\n\u001b[1;32m   2039\u001b[0m             \u001b[0;32mif\u001b[0m \u001b[0mself\u001b[0m\u001b[0;34m.\u001b[0m\u001b[0m_first_chunk\u001b[0m\u001b[0;34m:\u001b[0m\u001b[0;34m\u001b[0m\u001b[0;34m\u001b[0m\u001b[0m\n",
      "\u001b[0;32mpandas/_libs/parsers.pyx\u001b[0m in \u001b[0;36mpandas._libs.parsers.TextReader.read\u001b[0;34m()\u001b[0m\n",
      "\u001b[0;32mpandas/_libs/parsers.pyx\u001b[0m in \u001b[0;36mpandas._libs.parsers.TextReader._read_low_memory\u001b[0;34m()\u001b[0m\n",
      "\u001b[0;32mpandas/_libs/parsers.pyx\u001b[0m in \u001b[0;36mpandas._libs.parsers.TextReader._read_rows\u001b[0;34m()\u001b[0m\n",
      "\u001b[0;32mpandas/_libs/parsers.pyx\u001b[0m in \u001b[0;36mpandas._libs.parsers.TextReader._tokenize_rows\u001b[0;34m()\u001b[0m\n",
      "\u001b[0;32mpandas/_libs/parsers.pyx\u001b[0m in \u001b[0;36mpandas._libs.parsers.raise_parser_error\u001b[0;34m()\u001b[0m\n",
      "\u001b[0;31mParserError\u001b[0m: Error tokenizing data. C error: Expected 1 fields in line 7, saw 3\n"
     ]
    }
   ]
  },
  {
   "source": [
    "Let's check the file then..."
   ],
   "cell_type": "markdown",
   "metadata": {}
  },
  {
   "cell_type": "code",
   "execution_count": 138,
   "metadata": {},
   "outputs": [],
   "source": [
    "#### If you choose the choice 2, then compute this cell\n",
    "breast_dataset = pd.read_csv(breast_data_path, comment='#')"
   ]
  },
  {
   "source": [
    "- Other possible solution:<br>\n",
    "`breast_dataset = pd.read_csv('./data/breast_cancer_data.csv', skiprows=21)`\n",
    "\n",
    "<h4 align='center'> By the way, what does mean CSV?</h4>\n",
    "\n",
    "- Let's take a look to our table now! It loads into a python object called dataframe.\n",
    "\n",
    "> NB: If you are curious about how create a dataframe from scratch, take a look <a href='https://www.geeksforgeeks.org/python-pandas-dataframe/'>here</a>"
   ],
   "cell_type": "markdown",
   "metadata": {}
  },
  {
   "cell_type": "code",
   "execution_count": 94,
   "metadata": {},
   "outputs": [
    {
     "output_type": "execute_result",
     "data": {
      "text/plain": [
       "     patient_id  clump_thickness  cell_size_uniformity  cell_shape_uniformity  \\\n",
       "0       1000025              5.0                   1.0                      1   \n",
       "1       1002945              5.0                   4.0                      4   \n",
       "2       1015425              3.0                   1.0                      1   \n",
       "3       1016277              6.0                   8.0                      8   \n",
       "4       1017023              4.0                   1.0                      1   \n",
       "..          ...              ...                   ...                    ...   \n",
       "694      776715              3.0                   1.0                      1   \n",
       "695      841769              2.0                   1.0                      1   \n",
       "696      888820              5.0                  10.0                     10   \n",
       "697      897471              4.0                   8.0                      6   \n",
       "698      897471              4.0                   8.0                      8   \n",
       "\n",
       "     marginal_adhesion  single_ep_cell_size bare_nuclei  bland_chromatin  \\\n",
       "0                    1                    2           1              3.0   \n",
       "1                    5                    7          10              3.0   \n",
       "2                    1                    2           2              3.0   \n",
       "3                    1                    3           4              3.0   \n",
       "4                    3                    2           1              3.0   \n",
       "..                 ...                  ...         ...              ...   \n",
       "694                  1                    3           2              1.0   \n",
       "695                  1                    2           1              1.0   \n",
       "696                  3                    7           3              8.0   \n",
       "697                  4                    3           4             10.0   \n",
       "698                  5                    4           5             10.0   \n",
       "\n",
       "     normal_nucleoli  mitoses      class doctor_name  \n",
       "0                1.0        1     benign     Dr. Doe  \n",
       "1                2.0        1     benign   Dr. Smith  \n",
       "2                1.0        1     benign     Dr. Lee  \n",
       "3                7.0        1     benign   Dr. Smith  \n",
       "4                1.0        1     benign    Dr. Wong  \n",
       "..               ...      ...        ...         ...  \n",
       "694              1.0        1     benign     Dr. Lee  \n",
       "695              1.0        1     benign   Dr. Smith  \n",
       "696             10.0        2  malignant     Dr. Lee  \n",
       "697              6.0        1  malignant     Dr. Lee  \n",
       "698              4.0        1  malignant    Dr. Wong  \n",
       "\n",
       "[699 rows x 12 columns]"
      ],
      "text/html": "<div>\n<style scoped>\n    .dataframe tbody tr th:only-of-type {\n        vertical-align: middle;\n    }\n\n    .dataframe tbody tr th {\n        vertical-align: top;\n    }\n\n    .dataframe thead th {\n        text-align: right;\n    }\n</style>\n<table border=\"1\" class=\"dataframe\">\n  <thead>\n    <tr style=\"text-align: right;\">\n      <th></th>\n      <th>patient_id</th>\n      <th>clump_thickness</th>\n      <th>cell_size_uniformity</th>\n      <th>cell_shape_uniformity</th>\n      <th>marginal_adhesion</th>\n      <th>single_ep_cell_size</th>\n      <th>bare_nuclei</th>\n      <th>bland_chromatin</th>\n      <th>normal_nucleoli</th>\n      <th>mitoses</th>\n      <th>class</th>\n      <th>doctor_name</th>\n    </tr>\n  </thead>\n  <tbody>\n    <tr>\n      <th>0</th>\n      <td>1000025</td>\n      <td>5.0</td>\n      <td>1.0</td>\n      <td>1</td>\n      <td>1</td>\n      <td>2</td>\n      <td>1</td>\n      <td>3.0</td>\n      <td>1.0</td>\n      <td>1</td>\n      <td>benign</td>\n      <td>Dr. Doe</td>\n    </tr>\n    <tr>\n      <th>1</th>\n      <td>1002945</td>\n      <td>5.0</td>\n      <td>4.0</td>\n      <td>4</td>\n      <td>5</td>\n      <td>7</td>\n      <td>10</td>\n      <td>3.0</td>\n      <td>2.0</td>\n      <td>1</td>\n      <td>benign</td>\n      <td>Dr. Smith</td>\n    </tr>\n    <tr>\n      <th>2</th>\n      <td>1015425</td>\n      <td>3.0</td>\n      <td>1.0</td>\n      <td>1</td>\n      <td>1</td>\n      <td>2</td>\n      <td>2</td>\n      <td>3.0</td>\n      <td>1.0</td>\n      <td>1</td>\n      <td>benign</td>\n      <td>Dr. Lee</td>\n    </tr>\n    <tr>\n      <th>3</th>\n      <td>1016277</td>\n      <td>6.0</td>\n      <td>8.0</td>\n      <td>8</td>\n      <td>1</td>\n      <td>3</td>\n      <td>4</td>\n      <td>3.0</td>\n      <td>7.0</td>\n      <td>1</td>\n      <td>benign</td>\n      <td>Dr. Smith</td>\n    </tr>\n    <tr>\n      <th>4</th>\n      <td>1017023</td>\n      <td>4.0</td>\n      <td>1.0</td>\n      <td>1</td>\n      <td>3</td>\n      <td>2</td>\n      <td>1</td>\n      <td>3.0</td>\n      <td>1.0</td>\n      <td>1</td>\n      <td>benign</td>\n      <td>Dr. Wong</td>\n    </tr>\n    <tr>\n      <th>...</th>\n      <td>...</td>\n      <td>...</td>\n      <td>...</td>\n      <td>...</td>\n      <td>...</td>\n      <td>...</td>\n      <td>...</td>\n      <td>...</td>\n      <td>...</td>\n      <td>...</td>\n      <td>...</td>\n      <td>...</td>\n    </tr>\n    <tr>\n      <th>694</th>\n      <td>776715</td>\n      <td>3.0</td>\n      <td>1.0</td>\n      <td>1</td>\n      <td>1</td>\n      <td>3</td>\n      <td>2</td>\n      <td>1.0</td>\n      <td>1.0</td>\n      <td>1</td>\n      <td>benign</td>\n      <td>Dr. Lee</td>\n    </tr>\n    <tr>\n      <th>695</th>\n      <td>841769</td>\n      <td>2.0</td>\n      <td>1.0</td>\n      <td>1</td>\n      <td>1</td>\n      <td>2</td>\n      <td>1</td>\n      <td>1.0</td>\n      <td>1.0</td>\n      <td>1</td>\n      <td>benign</td>\n      <td>Dr. Smith</td>\n    </tr>\n    <tr>\n      <th>696</th>\n      <td>888820</td>\n      <td>5.0</td>\n      <td>10.0</td>\n      <td>10</td>\n      <td>3</td>\n      <td>7</td>\n      <td>3</td>\n      <td>8.0</td>\n      <td>10.0</td>\n      <td>2</td>\n      <td>malignant</td>\n      <td>Dr. Lee</td>\n    </tr>\n    <tr>\n      <th>697</th>\n      <td>897471</td>\n      <td>4.0</td>\n      <td>8.0</td>\n      <td>6</td>\n      <td>4</td>\n      <td>3</td>\n      <td>4</td>\n      <td>10.0</td>\n      <td>6.0</td>\n      <td>1</td>\n      <td>malignant</td>\n      <td>Dr. Lee</td>\n    </tr>\n    <tr>\n      <th>698</th>\n      <td>897471</td>\n      <td>4.0</td>\n      <td>8.0</td>\n      <td>8</td>\n      <td>5</td>\n      <td>4</td>\n      <td>5</td>\n      <td>10.0</td>\n      <td>4.0</td>\n      <td>1</td>\n      <td>malignant</td>\n      <td>Dr. Wong</td>\n    </tr>\n  </tbody>\n</table>\n<p>699 rows × 12 columns</p>\n</div>"
     },
     "metadata": {},
     "execution_count": 94
    }
   ],
   "source": [
    "breast_dataset"
   ]
  },
  {
   "source": [
    "NB: You could visualize all the dataset table on you jupyter notebook using the following lines: \n",
    "```\n",
    "pd.options.display.max_columns = None\n",
    "pd.options.display.max_rows = None\n",
    "```\n",
    "But it will make your jupyter notebook pretty slow (displaying the whole dataset will consume your raw memory)"
   ],
   "cell_type": "markdown",
   "metadata": {}
  },
  {
   "source": [
    "### General questions about the dataset\n",
    "\n",
    "### 1. How many rows and columns do we have?"
   ],
   "cell_type": "markdown",
   "metadata": {}
  },
  {
   "cell_type": "code",
   "execution_count": 95,
   "metadata": {},
   "outputs": [
    {
     "output_type": "stream",
     "name": "stdout",
     "text": [
      "This dataset has 699 rows and 12 columns\n"
     ]
    }
   ],
   "source": [
    "rows, columns = breast_dataset.shape\n",
    "print(f'This dataset has {rows} rows and {columns} columns')"
   ]
  },
  {
   "source": [
    "### 2. What are the type of the values in each column?"
   ],
   "cell_type": "markdown",
   "metadata": {}
  },
  {
   "cell_type": "code",
   "execution_count": 97,
   "metadata": {},
   "outputs": [
    {
     "output_type": "execute_result",
     "data": {
      "text/plain": [
       "patient_id                 int64\n",
       "clump_thickness          float64\n",
       "cell_size_uniformity     float64\n",
       "cell_shape_uniformity      int64\n",
       "marginal_adhesion          int64\n",
       "single_ep_cell_size        int64\n",
       "bare_nuclei               object\n",
       "bland_chromatin          float64\n",
       "normal_nucleoli          float64\n",
       "mitoses                    int64\n",
       "class                     object\n",
       "doctor_name               object\n",
       "dtype: object"
      ]
     },
     "metadata": {},
     "execution_count": 97
    }
   ],
   "source": [
    " breast_dataset.dtypes"
   ]
  },
  {
   "source": [
    "### 3. How can we check the number of each unique value per column?"
   ],
   "cell_type": "markdown",
   "metadata": {}
  },
  {
   "cell_type": "code",
   "execution_count": 131,
   "metadata": {},
   "outputs": [
    {
     "output_type": "execute_result",
     "data": {
      "text/plain": [
       "patient_id               637\n",
       "clump_thickness           10\n",
       "cell_size_uniformity      10\n",
       "cell_shape_uniformity     10\n",
       "marginal_adhesion         10\n",
       "single_ep_cell_size       10\n",
       "bare_nuclei               11\n",
       "bland_chromatin           10\n",
       "normal_nucleoli           10\n",
       "mitoses                    9\n",
       "class                      2\n",
       "doctor_name                4\n",
       "dtype: int64"
      ]
     },
     "metadata": {},
     "execution_count": 131
    }
   ],
   "source": [
    "breast_dataset.nunique()"
   ]
  },
  {
   "source": [
    "### 4. Do you want to see some statistics? Are all the columns there? Why?"
   ],
   "cell_type": "markdown",
   "metadata": {}
  },
  {
   "source": [
    "breast_dataset.describe()"
   ],
   "cell_type": "code",
   "metadata": {},
   "execution_count": 99,
   "outputs": [
    {
     "output_type": "execute_result",
     "data": {
      "text/plain": [
       "         patient_id  clump_thickness  cell_size_uniformity  \\\n",
       "count  6.990000e+02       698.000000            698.000000   \n",
       "mean   1.071704e+06         4.416905              3.137536   \n",
       "std    6.170957e+05         2.817673              3.052575   \n",
       "min    6.163400e+04         1.000000              1.000000   \n",
       "25%    8.706885e+05         2.000000              1.000000   \n",
       "50%    1.171710e+06         4.000000              1.000000   \n",
       "75%    1.238298e+06         6.000000              5.000000   \n",
       "max    1.345435e+07        10.000000             10.000000   \n",
       "\n",
       "       cell_shape_uniformity  marginal_adhesion  single_ep_cell_size  \\\n",
       "count             699.000000         699.000000           699.000000   \n",
       "mean                3.207439           2.793991             3.216023   \n",
       "std                 2.971913           2.843163             2.214300   \n",
       "min                 1.000000           1.000000             1.000000   \n",
       "25%                 1.000000           1.000000             2.000000   \n",
       "50%                 1.000000           1.000000             2.000000   \n",
       "75%                 5.000000           3.500000             4.000000   \n",
       "max                10.000000          10.000000            10.000000   \n",
       "\n",
       "       bland_chromatin  normal_nucleoli     mitoses  \n",
       "count       695.000000       698.000000  699.000000  \n",
       "mean          3.447482         2.868195    1.589413  \n",
       "std           2.441191         3.055647    1.715078  \n",
       "min           1.000000         1.000000    1.000000  \n",
       "25%           2.000000         1.000000    1.000000  \n",
       "50%           3.000000         1.000000    1.000000  \n",
       "75%           5.000000         4.000000    1.000000  \n",
       "max          10.000000        10.000000   10.000000  "
      ],
      "text/html": "<div>\n<style scoped>\n    .dataframe tbody tr th:only-of-type {\n        vertical-align: middle;\n    }\n\n    .dataframe tbody tr th {\n        vertical-align: top;\n    }\n\n    .dataframe thead th {\n        text-align: right;\n    }\n</style>\n<table border=\"1\" class=\"dataframe\">\n  <thead>\n    <tr style=\"text-align: right;\">\n      <th></th>\n      <th>patient_id</th>\n      <th>clump_thickness</th>\n      <th>cell_size_uniformity</th>\n      <th>cell_shape_uniformity</th>\n      <th>marginal_adhesion</th>\n      <th>single_ep_cell_size</th>\n      <th>bland_chromatin</th>\n      <th>normal_nucleoli</th>\n      <th>mitoses</th>\n    </tr>\n  </thead>\n  <tbody>\n    <tr>\n      <th>count</th>\n      <td>6.990000e+02</td>\n      <td>698.000000</td>\n      <td>698.000000</td>\n      <td>699.000000</td>\n      <td>699.000000</td>\n      <td>699.000000</td>\n      <td>695.000000</td>\n      <td>698.000000</td>\n      <td>699.000000</td>\n    </tr>\n    <tr>\n      <th>mean</th>\n      <td>1.071704e+06</td>\n      <td>4.416905</td>\n      <td>3.137536</td>\n      <td>3.207439</td>\n      <td>2.793991</td>\n      <td>3.216023</td>\n      <td>3.447482</td>\n      <td>2.868195</td>\n      <td>1.589413</td>\n    </tr>\n    <tr>\n      <th>std</th>\n      <td>6.170957e+05</td>\n      <td>2.817673</td>\n      <td>3.052575</td>\n      <td>2.971913</td>\n      <td>2.843163</td>\n      <td>2.214300</td>\n      <td>2.441191</td>\n      <td>3.055647</td>\n      <td>1.715078</td>\n    </tr>\n    <tr>\n      <th>min</th>\n      <td>6.163400e+04</td>\n      <td>1.000000</td>\n      <td>1.000000</td>\n      <td>1.000000</td>\n      <td>1.000000</td>\n      <td>1.000000</td>\n      <td>1.000000</td>\n      <td>1.000000</td>\n      <td>1.000000</td>\n    </tr>\n    <tr>\n      <th>25%</th>\n      <td>8.706885e+05</td>\n      <td>2.000000</td>\n      <td>1.000000</td>\n      <td>1.000000</td>\n      <td>1.000000</td>\n      <td>2.000000</td>\n      <td>2.000000</td>\n      <td>1.000000</td>\n      <td>1.000000</td>\n    </tr>\n    <tr>\n      <th>50%</th>\n      <td>1.171710e+06</td>\n      <td>4.000000</td>\n      <td>1.000000</td>\n      <td>1.000000</td>\n      <td>1.000000</td>\n      <td>2.000000</td>\n      <td>3.000000</td>\n      <td>1.000000</td>\n      <td>1.000000</td>\n    </tr>\n    <tr>\n      <th>75%</th>\n      <td>1.238298e+06</td>\n      <td>6.000000</td>\n      <td>5.000000</td>\n      <td>5.000000</td>\n      <td>3.500000</td>\n      <td>4.000000</td>\n      <td>5.000000</td>\n      <td>4.000000</td>\n      <td>1.000000</td>\n    </tr>\n    <tr>\n      <th>max</th>\n      <td>1.345435e+07</td>\n      <td>10.000000</td>\n      <td>10.000000</td>\n      <td>10.000000</td>\n      <td>10.000000</td>\n      <td>10.000000</td>\n      <td>10.000000</td>\n      <td>10.000000</td>\n      <td>10.000000</td>\n    </tr>\n  </tbody>\n</table>\n</div>"
     },
     "metadata": {},
     "execution_count": 99
    }
   ]
  },
  {
   "source": [
    "#### You can customize the shown percentiles\n",
    "breast_dataset.describe(percentiles=[0.1,0.5, 0.9])"
   ],
   "cell_type": "code",
   "metadata": {},
   "execution_count": 100,
   "outputs": [
    {
     "output_type": "execute_result",
     "data": {
      "text/plain": [
       "         patient_id  clump_thickness  cell_size_uniformity  \\\n",
       "count  6.990000e+02       698.000000            698.000000   \n",
       "mean   1.071704e+06         4.416905              3.137536   \n",
       "std    6.170957e+05         2.817673              3.052575   \n",
       "min    6.163400e+04         1.000000              1.000000   \n",
       "10%    5.632146e+05         1.000000              1.000000   \n",
       "50%    1.171710e+06         4.000000              1.000000   \n",
       "90%    1.311261e+06         9.000000              9.000000   \n",
       "max    1.345435e+07        10.000000             10.000000   \n",
       "\n",
       "       cell_shape_uniformity  marginal_adhesion  single_ep_cell_size  \\\n",
       "count             699.000000         699.000000           699.000000   \n",
       "mean                3.207439           2.793991             3.216023   \n",
       "std                 2.971913           2.843163             2.214300   \n",
       "min                 1.000000           1.000000             1.000000   \n",
       "10%                 1.000000           1.000000             2.000000   \n",
       "50%                 1.000000           1.000000             2.000000   \n",
       "90%                 8.000000           8.000000             6.000000   \n",
       "max                10.000000          10.000000            10.000000   \n",
       "\n",
       "       bland_chromatin  normal_nucleoli     mitoses  \n",
       "count       695.000000       698.000000  699.000000  \n",
       "mean          3.447482         2.868195    1.589413  \n",
       "std           2.441191         3.055647    1.715078  \n",
       "min           1.000000         1.000000    1.000000  \n",
       "10%           1.000000         1.000000    1.000000  \n",
       "50%           3.000000         1.000000    1.000000  \n",
       "90%           7.000000         9.000000    3.000000  \n",
       "max          10.000000        10.000000   10.000000  "
      ],
      "text/html": "<div>\n<style scoped>\n    .dataframe tbody tr th:only-of-type {\n        vertical-align: middle;\n    }\n\n    .dataframe tbody tr th {\n        vertical-align: top;\n    }\n\n    .dataframe thead th {\n        text-align: right;\n    }\n</style>\n<table border=\"1\" class=\"dataframe\">\n  <thead>\n    <tr style=\"text-align: right;\">\n      <th></th>\n      <th>patient_id</th>\n      <th>clump_thickness</th>\n      <th>cell_size_uniformity</th>\n      <th>cell_shape_uniformity</th>\n      <th>marginal_adhesion</th>\n      <th>single_ep_cell_size</th>\n      <th>bland_chromatin</th>\n      <th>normal_nucleoli</th>\n      <th>mitoses</th>\n    </tr>\n  </thead>\n  <tbody>\n    <tr>\n      <th>count</th>\n      <td>6.990000e+02</td>\n      <td>698.000000</td>\n      <td>698.000000</td>\n      <td>699.000000</td>\n      <td>699.000000</td>\n      <td>699.000000</td>\n      <td>695.000000</td>\n      <td>698.000000</td>\n      <td>699.000000</td>\n    </tr>\n    <tr>\n      <th>mean</th>\n      <td>1.071704e+06</td>\n      <td>4.416905</td>\n      <td>3.137536</td>\n      <td>3.207439</td>\n      <td>2.793991</td>\n      <td>3.216023</td>\n      <td>3.447482</td>\n      <td>2.868195</td>\n      <td>1.589413</td>\n    </tr>\n    <tr>\n      <th>std</th>\n      <td>6.170957e+05</td>\n      <td>2.817673</td>\n      <td>3.052575</td>\n      <td>2.971913</td>\n      <td>2.843163</td>\n      <td>2.214300</td>\n      <td>2.441191</td>\n      <td>3.055647</td>\n      <td>1.715078</td>\n    </tr>\n    <tr>\n      <th>min</th>\n      <td>6.163400e+04</td>\n      <td>1.000000</td>\n      <td>1.000000</td>\n      <td>1.000000</td>\n      <td>1.000000</td>\n      <td>1.000000</td>\n      <td>1.000000</td>\n      <td>1.000000</td>\n      <td>1.000000</td>\n    </tr>\n    <tr>\n      <th>10%</th>\n      <td>5.632146e+05</td>\n      <td>1.000000</td>\n      <td>1.000000</td>\n      <td>1.000000</td>\n      <td>1.000000</td>\n      <td>2.000000</td>\n      <td>1.000000</td>\n      <td>1.000000</td>\n      <td>1.000000</td>\n    </tr>\n    <tr>\n      <th>50%</th>\n      <td>1.171710e+06</td>\n      <td>4.000000</td>\n      <td>1.000000</td>\n      <td>1.000000</td>\n      <td>1.000000</td>\n      <td>2.000000</td>\n      <td>3.000000</td>\n      <td>1.000000</td>\n      <td>1.000000</td>\n    </tr>\n    <tr>\n      <th>90%</th>\n      <td>1.311261e+06</td>\n      <td>9.000000</td>\n      <td>9.000000</td>\n      <td>8.000000</td>\n      <td>8.000000</td>\n      <td>6.000000</td>\n      <td>7.000000</td>\n      <td>9.000000</td>\n      <td>3.000000</td>\n    </tr>\n    <tr>\n      <th>max</th>\n      <td>1.345435e+07</td>\n      <td>10.000000</td>\n      <td>10.000000</td>\n      <td>10.000000</td>\n      <td>10.000000</td>\n      <td>10.000000</td>\n      <td>10.000000</td>\n      <td>10.000000</td>\n      <td>10.000000</td>\n    </tr>\n  </tbody>\n</table>\n</div>"
     },
     "metadata": {},
     "execution_count": 100
    }
   ]
  },
  {
   "source": [
    "### 5. How can we count the number of values for categorical data?"
   ],
   "cell_type": "markdown",
   "metadata": {}
  },
  {
   "cell_type": "code",
   "execution_count": 134,
   "metadata": {},
   "outputs": [
    {
     "output_type": "execute_result",
     "data": {
      "text/plain": [
       "doctor_name\n",
       "Dr. Doe      181\n",
       "Dr. Lee      179\n",
       "Dr. Smith    174\n",
       "Dr. Wong     156\n",
       "dtype: int64"
      ]
     },
     "metadata": {},
     "execution_count": 134
    }
   ],
   "source": [
    "#### How many patients have each doctor?\n",
    "breast_dataset.groupby(by=['doctor_name']).size()   # This aggreates the data by the column name\n",
    "                                                    # and pass the aggregation function (size = count)"
   ]
  },
  {
   "source": [
    "> More about the groupby function: https://pandas.pydata.org/pandas-docs/stable/reference/api/pandas.DataFrame.groupby.html"
   ],
   "cell_type": "markdown",
   "metadata": {}
  },
  {
   "source": [
    "### EXERCISE: #### Remove the answers in the final version\n",
    "### Answer to the following questions, and provide the line that helped you to give the answer:\n",
    "\n",
    "1. How many unique patients do we have in this study? <br> 645 \n",
    "`breast_dataset.nunique()['patient_id']`\n",
    "1. What type of values contain the column marginal_adhesion? <br> int64 \n",
    "`breast_dataset.dtypes['marginal_adhesion']`\n",
    "1. What is the minimum size that can describe the cell uniformity? <br> 1\n",
    "`breast_dataset['cell_size_uniformity'].min()`\n",
    "1. What is the maximal number of counted mitoses? <br>10\n",
    "`breast_dataset['mitoses'].max()`\n",
    "1. How many patients with a severe type of breast cancer has each doctor? (hint, use the groupby function) <br> `breast_dataset.groupby(by=['doctor_name', 'class']).size()`\n",
    "\n",
    "### EXTRA QUESTIONS\n",
    "\n",
    "6. Create the dataframe containing the answer of the question 5\n",
    "    - Hint: Put the counts in a column called 'count'\n",
    "7. Use this dataframe to plot a barplot graph with the `seaborn` package \n",
    "    - Hint - Seaborn barplot documentation: https://seaborn.pydata.org/generated/seaborn.barplot.html#seaborn.barplot\n",
    "8. Put your code for question 1 & 2 in two different functions\n",
    "    - How to write a function: https://swcarpentry.github.io/python-novice-gapminder/16-writing-functions/\n",
    "9. Write a function that answers to question 1 & 2 at the same time\n",
    "\n",
    "\n",
    "_______ "
   ],
   "cell_type": "markdown",
   "metadata": {}
  },
  {
   "cell_type": "code",
   "execution_count": 216,
   "metadata": {},
   "outputs": [
    {
     "output_type": "execute_result",
     "data": {
      "text/plain": [
       "  doctor_name      class  count\n",
       "0     Dr. Doe     benign    127\n",
       "1     Dr. Doe  malignant     58\n",
       "2     Dr. Lee     benign    121\n",
       "3     Dr. Lee  malignant     60\n",
       "4   Dr. Smith     benign    102\n",
       "5   Dr. Smith  malignant     74\n",
       "6    Dr. Wong     benign    108\n",
       "7    Dr. Wong  malignant     49"
      ],
      "text/html": "<div>\n<style scoped>\n    .dataframe tbody tr th:only-of-type {\n        vertical-align: middle;\n    }\n\n    .dataframe tbody tr th {\n        vertical-align: top;\n    }\n\n    .dataframe thead th {\n        text-align: right;\n    }\n</style>\n<table border=\"1\" class=\"dataframe\">\n  <thead>\n    <tr style=\"text-align: right;\">\n      <th></th>\n      <th>doctor_name</th>\n      <th>class</th>\n      <th>count</th>\n    </tr>\n  </thead>\n  <tbody>\n    <tr>\n      <th>0</th>\n      <td>Dr. Doe</td>\n      <td>benign</td>\n      <td>127</td>\n    </tr>\n    <tr>\n      <th>1</th>\n      <td>Dr. Doe</td>\n      <td>malignant</td>\n      <td>58</td>\n    </tr>\n    <tr>\n      <th>2</th>\n      <td>Dr. Lee</td>\n      <td>benign</td>\n      <td>121</td>\n    </tr>\n    <tr>\n      <th>3</th>\n      <td>Dr. Lee</td>\n      <td>malignant</td>\n      <td>60</td>\n    </tr>\n    <tr>\n      <th>4</th>\n      <td>Dr. Smith</td>\n      <td>benign</td>\n      <td>102</td>\n    </tr>\n    <tr>\n      <th>5</th>\n      <td>Dr. Smith</td>\n      <td>malignant</td>\n      <td>74</td>\n    </tr>\n    <tr>\n      <th>6</th>\n      <td>Dr. Wong</td>\n      <td>benign</td>\n      <td>108</td>\n    </tr>\n    <tr>\n      <th>7</th>\n      <td>Dr. Wong</td>\n      <td>malignant</td>\n      <td>49</td>\n    </tr>\n  </tbody>\n</table>\n</div>"
     },
     "metadata": {},
     "execution_count": 216
    }
   ],
   "source": [
    "#### Question 6.\n",
    "patient_type_per_doctor = pd.DataFrame({'count': breast_dataset.groupby(by=['doctor_name', 'class']).size()}).reset_index() \n",
    "patient_type_per_doctor"
   ]
  },
  {
   "cell_type": "code",
   "execution_count": 213,
   "metadata": {},
   "outputs": [
    {
     "output_type": "display_data",
     "data": {
      "text/plain": "<Figure size 576x432 with 1 Axes>",
      "image/svg+xml": "<?xml version=\"1.0\" encoding=\"utf-8\" standalone=\"no\"?>\n<!DOCTYPE svg PUBLIC \"-//W3C//DTD SVG 1.1//EN\"\n  \"http://www.w3.org/Graphics/SVG/1.1/DTD/svg11.dtd\">\n<!-- Created with matplotlib (https://matplotlib.org/) -->\n<svg height=\"386.034375pt\" version=\"1.1\" viewBox=\"0 0 500.565625 386.034375\" width=\"500.565625pt\" xmlns=\"http://www.w3.org/2000/svg\" xmlns:xlink=\"http://www.w3.org/1999/xlink\">\n <defs>\n  <style type=\"text/css\">\n*{stroke-linecap:butt;stroke-linejoin:round;}\n  </style>\n </defs>\n <g id=\"figure_1\">\n  <g id=\"patch_1\">\n   <path d=\"M 0 386.034375 \nL 500.565625 386.034375 \nL 500.565625 0 \nL 0 0 \nz\n\" style=\"fill:none;\"/>\n  </g>\n  <g id=\"axes_1\">\n   <g id=\"patch_2\">\n    <path d=\"M 46.965625 348.478125 \nL 493.365625 348.478125 \nL 493.365625 22.318125 \nL 46.965625 22.318125 \nz\n\" style=\"fill:#ffffff;\"/>\n   </g>\n   <g id=\"patch_3\">\n    <path clip-path=\"url(#pacfcd2b6e0)\" d=\"M 58.125625 348.478125 \nL 102.765625 348.478125 \nL 102.765625 37.849554 \nL 58.125625 37.849554 \nz\n\" style=\"fill:#808080;\"/>\n   </g>\n   <g id=\"patch_4\">\n    <path clip-path=\"url(#pacfcd2b6e0)\" d=\"M 169.725625 348.478125 \nL 214.365625 348.478125 \nL 214.365625 52.524919 \nL 169.725625 52.524919 \nz\n\" style=\"fill:#808080;\"/>\n   </g>\n   <g id=\"patch_5\">\n    <path clip-path=\"url(#pacfcd2b6e0)\" d=\"M 281.325625 348.478125 \nL 325.965625 348.478125 \nL 325.965625 98.99691 \nL 281.325625 98.99691 \nz\n\" style=\"fill:#808080;\"/>\n   </g>\n   <g id=\"patch_6\">\n    <path clip-path=\"url(#pacfcd2b6e0)\" d=\"M 392.925625 348.478125 \nL 437.565625 348.478125 \nL 437.565625 84.321545 \nL 392.925625 84.321545 \nz\n\" style=\"fill:#808080;\"/>\n   </g>\n   <g id=\"patch_7\">\n    <path clip-path=\"url(#pacfcd2b6e0)\" d=\"M 102.765625 348.478125 \nL 147.405625 348.478125 \nL 147.405625 206.616258 \nL 102.765625 206.616258 \nz\n\"/>\n   </g>\n   <g id=\"patch_8\">\n    <path clip-path=\"url(#pacfcd2b6e0)\" d=\"M 214.365625 348.478125 \nL 259.005625 348.478125 \nL 259.005625 201.724469 \nL 214.365625 201.724469 \nz\n\"/>\n   </g>\n   <g id=\"patch_9\">\n    <path clip-path=\"url(#pacfcd2b6e0)\" d=\"M 325.965625 348.478125 \nL 370.605625 348.478125 \nL 370.605625 167.48195 \nL 325.965625 167.48195 \nz\n\"/>\n   </g>\n   <g id=\"patch_10\">\n    <path clip-path=\"url(#pacfcd2b6e0)\" d=\"M 437.565625 348.478125 \nL 482.205625 348.478125 \nL 482.205625 228.629306 \nL 437.565625 228.629306 \nz\n\"/>\n   </g>\n   <g id=\"matplotlib.axis_1\">\n    <g id=\"xtick_1\">\n     <g id=\"line2d_1\">\n      <defs>\n       <path d=\"M 0 0 \nL 0 3.5 \n\" id=\"mf315d47029\" style=\"stroke:#000000;stroke-width:0.8;\"/>\n      </defs>\n      <g>\n       <use style=\"stroke:#000000;stroke-width:0.8;\" x=\"102.765625\" xlink:href=\"#mf315d47029\" y=\"348.478125\"/>\n      </g>\n     </g>\n     <g id=\"text_1\">\n      <!-- Dr. Doe -->\n      <defs>\n       <path d=\"M 19.671875 64.796875 \nL 19.671875 8.109375 \nL 31.59375 8.109375 \nQ 46.6875 8.109375 53.6875 14.9375 \nQ 60.6875 21.78125 60.6875 36.53125 \nQ 60.6875 51.171875 53.6875 57.984375 \nQ 46.6875 64.796875 31.59375 64.796875 \nz\nM 9.8125 72.90625 \nL 30.078125 72.90625 \nQ 51.265625 72.90625 61.171875 64.09375 \nQ 71.09375 55.28125 71.09375 36.53125 \nQ 71.09375 17.671875 61.125 8.828125 \nQ 51.171875 0 30.078125 0 \nL 9.8125 0 \nz\n\" id=\"DejaVuSans-68\"/>\n       <path d=\"M 41.109375 46.296875 \nQ 39.59375 47.171875 37.8125 47.578125 \nQ 36.03125 48 33.890625 48 \nQ 26.265625 48 22.1875 43.046875 \nQ 18.109375 38.09375 18.109375 28.8125 \nL 18.109375 0 \nL 9.078125 0 \nL 9.078125 54.6875 \nL 18.109375 54.6875 \nL 18.109375 46.1875 \nQ 20.953125 51.171875 25.484375 53.578125 \nQ 30.03125 56 36.53125 56 \nQ 37.453125 56 38.578125 55.875 \nQ 39.703125 55.765625 41.0625 55.515625 \nz\n\" id=\"DejaVuSans-114\"/>\n       <path d=\"M 10.6875 12.40625 \nL 21 12.40625 \nL 21 0 \nL 10.6875 0 \nz\n\" id=\"DejaVuSans-46\"/>\n       <path id=\"DejaVuSans-32\"/>\n       <path d=\"M 30.609375 48.390625 \nQ 23.390625 48.390625 19.1875 42.75 \nQ 14.984375 37.109375 14.984375 27.296875 \nQ 14.984375 17.484375 19.15625 11.84375 \nQ 23.34375 6.203125 30.609375 6.203125 \nQ 37.796875 6.203125 41.984375 11.859375 \nQ 46.1875 17.53125 46.1875 27.296875 \nQ 46.1875 37.015625 41.984375 42.703125 \nQ 37.796875 48.390625 30.609375 48.390625 \nz\nM 30.609375 56 \nQ 42.328125 56 49.015625 48.375 \nQ 55.71875 40.765625 55.71875 27.296875 \nQ 55.71875 13.875 49.015625 6.21875 \nQ 42.328125 -1.421875 30.609375 -1.421875 \nQ 18.84375 -1.421875 12.171875 6.21875 \nQ 5.515625 13.875 5.515625 27.296875 \nQ 5.515625 40.765625 12.171875 48.375 \nQ 18.84375 56 30.609375 56 \nz\n\" id=\"DejaVuSans-111\"/>\n       <path d=\"M 56.203125 29.59375 \nL 56.203125 25.203125 \nL 14.890625 25.203125 \nQ 15.484375 15.921875 20.484375 11.0625 \nQ 25.484375 6.203125 34.421875 6.203125 \nQ 39.59375 6.203125 44.453125 7.46875 \nQ 49.3125 8.734375 54.109375 11.28125 \nL 54.109375 2.78125 \nQ 49.265625 0.734375 44.1875 -0.34375 \nQ 39.109375 -1.421875 33.890625 -1.421875 \nQ 20.796875 -1.421875 13.15625 6.1875 \nQ 5.515625 13.8125 5.515625 26.8125 \nQ 5.515625 40.234375 12.765625 48.109375 \nQ 20.015625 56 32.328125 56 \nQ 43.359375 56 49.78125 48.890625 \nQ 56.203125 41.796875 56.203125 29.59375 \nz\nM 47.21875 32.234375 \nQ 47.125 39.59375 43.09375 43.984375 \nQ 39.0625 48.390625 32.421875 48.390625 \nQ 24.90625 48.390625 20.390625 44.140625 \nQ 15.875 39.890625 15.1875 32.171875 \nz\n\" id=\"DejaVuSans-101\"/>\n      </defs>\n      <g transform=\"translate(84.152344 363.076562)scale(0.1 -0.1)\">\n       <use xlink:href=\"#DejaVuSans-68\"/>\n       <use x=\"77.001953\" xlink:href=\"#DejaVuSans-114\"/>\n       <use x=\"108.990234\" xlink:href=\"#DejaVuSans-46\"/>\n       <use x=\"140.777344\" xlink:href=\"#DejaVuSans-32\"/>\n       <use x=\"172.564453\" xlink:href=\"#DejaVuSans-68\"/>\n       <use x=\"249.566406\" xlink:href=\"#DejaVuSans-111\"/>\n       <use x=\"310.748047\" xlink:href=\"#DejaVuSans-101\"/>\n      </g>\n     </g>\n    </g>\n    <g id=\"xtick_2\">\n     <g id=\"line2d_2\">\n      <g>\n       <use style=\"stroke:#000000;stroke-width:0.8;\" x=\"214.365625\" xlink:href=\"#mf315d47029\" y=\"348.478125\"/>\n      </g>\n     </g>\n     <g id=\"text_2\">\n      <!-- Dr. Lee -->\n      <defs>\n       <path d=\"M 9.8125 72.90625 \nL 19.671875 72.90625 \nL 19.671875 8.296875 \nL 55.171875 8.296875 \nL 55.171875 0 \nL 9.8125 0 \nz\n\" id=\"DejaVuSans-76\"/>\n      </defs>\n      <g transform=\"translate(196.886719 363.076562)scale(0.1 -0.1)\">\n       <use xlink:href=\"#DejaVuSans-68\"/>\n       <use x=\"77.001953\" xlink:href=\"#DejaVuSans-114\"/>\n       <use x=\"108.990234\" xlink:href=\"#DejaVuSans-46\"/>\n       <use x=\"140.777344\" xlink:href=\"#DejaVuSans-32\"/>\n       <use x=\"172.564453\" xlink:href=\"#DejaVuSans-76\"/>\n       <use x=\"226.527344\" xlink:href=\"#DejaVuSans-101\"/>\n       <use x=\"288.050781\" xlink:href=\"#DejaVuSans-101\"/>\n      </g>\n     </g>\n    </g>\n    <g id=\"xtick_3\">\n     <g id=\"line2d_3\">\n      <g>\n       <use style=\"stroke:#000000;stroke-width:0.8;\" x=\"325.965625\" xlink:href=\"#mf315d47029\" y=\"348.478125\"/>\n      </g>\n     </g>\n     <g id=\"text_3\">\n      <!-- Dr. Smith -->\n      <defs>\n       <path d=\"M 53.515625 70.515625 \nL 53.515625 60.890625 \nQ 47.90625 63.578125 42.921875 64.890625 \nQ 37.9375 66.21875 33.296875 66.21875 \nQ 25.25 66.21875 20.875 63.09375 \nQ 16.5 59.96875 16.5 54.203125 \nQ 16.5 49.359375 19.40625 46.890625 \nQ 22.3125 44.4375 30.421875 42.921875 \nL 36.375 41.703125 \nQ 47.40625 39.59375 52.65625 34.296875 \nQ 57.90625 29 57.90625 20.125 \nQ 57.90625 9.515625 50.796875 4.046875 \nQ 43.703125 -1.421875 29.984375 -1.421875 \nQ 24.8125 -1.421875 18.96875 -0.25 \nQ 13.140625 0.921875 6.890625 3.21875 \nL 6.890625 13.375 \nQ 12.890625 10.015625 18.65625 8.296875 \nQ 24.421875 6.59375 29.984375 6.59375 \nQ 38.421875 6.59375 43.015625 9.90625 \nQ 47.609375 13.234375 47.609375 19.390625 \nQ 47.609375 24.75 44.3125 27.78125 \nQ 41.015625 30.8125 33.5 32.328125 \nL 27.484375 33.5 \nQ 16.453125 35.6875 11.515625 40.375 \nQ 6.59375 45.0625 6.59375 53.421875 \nQ 6.59375 63.09375 13.40625 68.65625 \nQ 20.21875 74.21875 32.171875 74.21875 \nQ 37.3125 74.21875 42.625 73.28125 \nQ 47.953125 72.359375 53.515625 70.515625 \nz\n\" id=\"DejaVuSans-83\"/>\n       <path d=\"M 52 44.1875 \nQ 55.375 50.25 60.0625 53.125 \nQ 64.75 56 71.09375 56 \nQ 79.640625 56 84.28125 50.015625 \nQ 88.921875 44.046875 88.921875 33.015625 \nL 88.921875 0 \nL 79.890625 0 \nL 79.890625 32.71875 \nQ 79.890625 40.578125 77.09375 44.375 \nQ 74.3125 48.1875 68.609375 48.1875 \nQ 61.625 48.1875 57.5625 43.546875 \nQ 53.515625 38.921875 53.515625 30.90625 \nL 53.515625 0 \nL 44.484375 0 \nL 44.484375 32.71875 \nQ 44.484375 40.625 41.703125 44.40625 \nQ 38.921875 48.1875 33.109375 48.1875 \nQ 26.21875 48.1875 22.15625 43.53125 \nQ 18.109375 38.875 18.109375 30.90625 \nL 18.109375 0 \nL 9.078125 0 \nL 9.078125 54.6875 \nL 18.109375 54.6875 \nL 18.109375 46.1875 \nQ 21.1875 51.21875 25.484375 53.609375 \nQ 29.78125 56 35.6875 56 \nQ 41.65625 56 45.828125 52.96875 \nQ 50 49.953125 52 44.1875 \nz\n\" id=\"DejaVuSans-109\"/>\n       <path d=\"M 9.421875 54.6875 \nL 18.40625 54.6875 \nL 18.40625 0 \nL 9.421875 0 \nz\nM 9.421875 75.984375 \nL 18.40625 75.984375 \nL 18.40625 64.59375 \nL 9.421875 64.59375 \nz\n\" id=\"DejaVuSans-105\"/>\n       <path d=\"M 18.3125 70.21875 \nL 18.3125 54.6875 \nL 36.8125 54.6875 \nL 36.8125 47.703125 \nL 18.3125 47.703125 \nL 18.3125 18.015625 \nQ 18.3125 11.328125 20.140625 9.421875 \nQ 21.96875 7.515625 27.59375 7.515625 \nL 36.8125 7.515625 \nL 36.8125 0 \nL 27.59375 0 \nQ 17.1875 0 13.234375 3.875 \nQ 9.28125 7.765625 9.28125 18.015625 \nL 9.28125 47.703125 \nL 2.6875 47.703125 \nL 2.6875 54.6875 \nL 9.28125 54.6875 \nL 9.28125 70.21875 \nz\n\" id=\"DejaVuSans-116\"/>\n       <path d=\"M 54.890625 33.015625 \nL 54.890625 0 \nL 45.90625 0 \nL 45.90625 32.71875 \nQ 45.90625 40.484375 42.875 44.328125 \nQ 39.84375 48.1875 33.796875 48.1875 \nQ 26.515625 48.1875 22.3125 43.546875 \nQ 18.109375 38.921875 18.109375 30.90625 \nL 18.109375 0 \nL 9.078125 0 \nL 9.078125 75.984375 \nL 18.109375 75.984375 \nL 18.109375 46.1875 \nQ 21.34375 51.125 25.703125 53.5625 \nQ 30.078125 56 35.796875 56 \nQ 45.21875 56 50.046875 50.171875 \nQ 54.890625 44.34375 54.890625 33.015625 \nz\n\" id=\"DejaVuSans-104\"/>\n      </defs>\n      <g transform=\"translate(302.775781 363.076562)scale(0.1 -0.1)\">\n       <use xlink:href=\"#DejaVuSans-68\"/>\n       <use x=\"77.001953\" xlink:href=\"#DejaVuSans-114\"/>\n       <use x=\"108.990234\" xlink:href=\"#DejaVuSans-46\"/>\n       <use x=\"140.777344\" xlink:href=\"#DejaVuSans-32\"/>\n       <use x=\"172.564453\" xlink:href=\"#DejaVuSans-83\"/>\n       <use x=\"236.041016\" xlink:href=\"#DejaVuSans-109\"/>\n       <use x=\"333.453125\" xlink:href=\"#DejaVuSans-105\"/>\n       <use x=\"361.236328\" xlink:href=\"#DejaVuSans-116\"/>\n       <use x=\"400.445312\" xlink:href=\"#DejaVuSans-104\"/>\n      </g>\n     </g>\n    </g>\n    <g id=\"xtick_4\">\n     <g id=\"line2d_4\">\n      <g>\n       <use style=\"stroke:#000000;stroke-width:0.8;\" x=\"437.565625\" xlink:href=\"#mf315d47029\" y=\"348.478125\"/>\n      </g>\n     </g>\n     <g id=\"text_4\">\n      <!-- Dr. Wong -->\n      <defs>\n       <path d=\"M 3.328125 72.90625 \nL 13.28125 72.90625 \nL 28.609375 11.28125 \nL 43.890625 72.90625 \nL 54.984375 72.90625 \nL 70.3125 11.28125 \nL 85.59375 72.90625 \nL 95.609375 72.90625 \nL 77.296875 0 \nL 64.890625 0 \nL 49.515625 63.28125 \nL 33.984375 0 \nL 21.578125 0 \nz\n\" id=\"DejaVuSans-87\"/>\n       <path d=\"M 54.890625 33.015625 \nL 54.890625 0 \nL 45.90625 0 \nL 45.90625 32.71875 \nQ 45.90625 40.484375 42.875 44.328125 \nQ 39.84375 48.1875 33.796875 48.1875 \nQ 26.515625 48.1875 22.3125 43.546875 \nQ 18.109375 38.921875 18.109375 30.90625 \nL 18.109375 0 \nL 9.078125 0 \nL 9.078125 54.6875 \nL 18.109375 54.6875 \nL 18.109375 46.1875 \nQ 21.34375 51.125 25.703125 53.5625 \nQ 30.078125 56 35.796875 56 \nQ 45.21875 56 50.046875 50.171875 \nQ 54.890625 44.34375 54.890625 33.015625 \nz\n\" id=\"DejaVuSans-110\"/>\n       <path d=\"M 45.40625 27.984375 \nQ 45.40625 37.75 41.375 43.109375 \nQ 37.359375 48.484375 30.078125 48.484375 \nQ 22.859375 48.484375 18.828125 43.109375 \nQ 14.796875 37.75 14.796875 27.984375 \nQ 14.796875 18.265625 18.828125 12.890625 \nQ 22.859375 7.515625 30.078125 7.515625 \nQ 37.359375 7.515625 41.375 12.890625 \nQ 45.40625 18.265625 45.40625 27.984375 \nz\nM 54.390625 6.78125 \nQ 54.390625 -7.171875 48.1875 -13.984375 \nQ 42 -20.796875 29.203125 -20.796875 \nQ 24.46875 -20.796875 20.265625 -20.09375 \nQ 16.0625 -19.390625 12.109375 -17.921875 \nL 12.109375 -9.1875 \nQ 16.0625 -11.328125 19.921875 -12.34375 \nQ 23.78125 -13.375 27.78125 -13.375 \nQ 36.625 -13.375 41.015625 -8.765625 \nQ 45.40625 -4.15625 45.40625 5.171875 \nL 45.40625 9.625 \nQ 42.625 4.78125 38.28125 2.390625 \nQ 33.9375 0 27.875 0 \nQ 17.828125 0 11.671875 7.65625 \nQ 5.515625 15.328125 5.515625 27.984375 \nQ 5.515625 40.671875 11.671875 48.328125 \nQ 17.828125 56 27.875 56 \nQ 33.9375 56 38.28125 53.609375 \nQ 42.625 51.21875 45.40625 46.390625 \nL 45.40625 54.6875 \nL 54.390625 54.6875 \nz\n\" id=\"DejaVuSans-103\"/>\n      </defs>\n      <g transform=\"translate(414.885937 363.076562)scale(0.1 -0.1)\">\n       <use xlink:href=\"#DejaVuSans-68\"/>\n       <use x=\"77.001953\" xlink:href=\"#DejaVuSans-114\"/>\n       <use x=\"108.990234\" xlink:href=\"#DejaVuSans-46\"/>\n       <use x=\"140.777344\" xlink:href=\"#DejaVuSans-32\"/>\n       <use x=\"172.564453\" xlink:href=\"#DejaVuSans-87\"/>\n       <use x=\"265.566406\" xlink:href=\"#DejaVuSans-111\"/>\n       <use x=\"326.748047\" xlink:href=\"#DejaVuSans-110\"/>\n       <use x=\"390.126953\" xlink:href=\"#DejaVuSans-103\"/>\n      </g>\n     </g>\n    </g>\n    <g id=\"text_5\">\n     <!-- Doctor Name -->\n     <defs>\n      <path d=\"M 48.78125 52.59375 \nL 48.78125 44.1875 \nQ 44.96875 46.296875 41.140625 47.34375 \nQ 37.3125 48.390625 33.40625 48.390625 \nQ 24.65625 48.390625 19.8125 42.84375 \nQ 14.984375 37.3125 14.984375 27.296875 \nQ 14.984375 17.28125 19.8125 11.734375 \nQ 24.65625 6.203125 33.40625 6.203125 \nQ 37.3125 6.203125 41.140625 7.25 \nQ 44.96875 8.296875 48.78125 10.40625 \nL 48.78125 2.09375 \nQ 45.015625 0.34375 40.984375 -0.53125 \nQ 36.96875 -1.421875 32.421875 -1.421875 \nQ 20.0625 -1.421875 12.78125 6.34375 \nQ 5.515625 14.109375 5.515625 27.296875 \nQ 5.515625 40.671875 12.859375 48.328125 \nQ 20.21875 56 33.015625 56 \nQ 37.15625 56 41.109375 55.140625 \nQ 45.0625 54.296875 48.78125 52.59375 \nz\n\" id=\"DejaVuSans-99\"/>\n      <path d=\"M 9.8125 72.90625 \nL 23.09375 72.90625 \nL 55.421875 11.921875 \nL 55.421875 72.90625 \nL 64.984375 72.90625 \nL 64.984375 0 \nL 51.703125 0 \nL 19.390625 60.984375 \nL 19.390625 0 \nL 9.8125 0 \nz\n\" id=\"DejaVuSans-78\"/>\n      <path d=\"M 34.28125 27.484375 \nQ 23.390625 27.484375 19.1875 25 \nQ 14.984375 22.515625 14.984375 16.5 \nQ 14.984375 11.71875 18.140625 8.90625 \nQ 21.296875 6.109375 26.703125 6.109375 \nQ 34.1875 6.109375 38.703125 11.40625 \nQ 43.21875 16.703125 43.21875 25.484375 \nL 43.21875 27.484375 \nz\nM 52.203125 31.203125 \nL 52.203125 0 \nL 43.21875 0 \nL 43.21875 8.296875 \nQ 40.140625 3.328125 35.546875 0.953125 \nQ 30.953125 -1.421875 24.3125 -1.421875 \nQ 15.921875 -1.421875 10.953125 3.296875 \nQ 6 8.015625 6 15.921875 \nQ 6 25.140625 12.171875 29.828125 \nQ 18.359375 34.515625 30.609375 34.515625 \nL 43.21875 34.515625 \nL 43.21875 35.40625 \nQ 43.21875 41.609375 39.140625 45 \nQ 35.0625 48.390625 27.6875 48.390625 \nQ 23 48.390625 18.546875 47.265625 \nQ 14.109375 46.140625 10.015625 43.890625 \nL 10.015625 52.203125 \nQ 14.9375 54.109375 19.578125 55.046875 \nQ 24.21875 56 28.609375 56 \nQ 40.484375 56 46.34375 49.84375 \nQ 52.203125 43.703125 52.203125 31.203125 \nz\n\" id=\"DejaVuSans-97\"/>\n     </defs>\n     <g transform=\"translate(237.091406 376.754687)scale(0.1 -0.1)\">\n      <use xlink:href=\"#DejaVuSans-68\"/>\n      <use x=\"77.001953\" xlink:href=\"#DejaVuSans-111\"/>\n      <use x=\"138.183594\" xlink:href=\"#DejaVuSans-99\"/>\n      <use x=\"193.164062\" xlink:href=\"#DejaVuSans-116\"/>\n      <use x=\"232.373047\" xlink:href=\"#DejaVuSans-111\"/>\n      <use x=\"293.554688\" xlink:href=\"#DejaVuSans-114\"/>\n      <use x=\"334.667969\" xlink:href=\"#DejaVuSans-32\"/>\n      <use x=\"366.455078\" xlink:href=\"#DejaVuSans-78\"/>\n      <use x=\"441.259766\" xlink:href=\"#DejaVuSans-97\"/>\n      <use x=\"502.539062\" xlink:href=\"#DejaVuSans-109\"/>\n      <use x=\"599.951172\" xlink:href=\"#DejaVuSans-101\"/>\n     </g>\n    </g>\n   </g>\n   <g id=\"matplotlib.axis_2\">\n    <g id=\"ytick_1\">\n     <g id=\"line2d_5\">\n      <defs>\n       <path d=\"M 0 0 \nL -3.5 0 \n\" id=\"m8d0194c083\" style=\"stroke:#000000;stroke-width:0.8;\"/>\n      </defs>\n      <g>\n       <use style=\"stroke:#000000;stroke-width:0.8;\" x=\"46.965625\" xlink:href=\"#m8d0194c083\" y=\"348.478125\"/>\n      </g>\n     </g>\n     <g id=\"text_6\">\n      <!-- 0 -->\n      <defs>\n       <path d=\"M 31.78125 66.40625 \nQ 24.171875 66.40625 20.328125 58.90625 \nQ 16.5 51.421875 16.5 36.375 \nQ 16.5 21.390625 20.328125 13.890625 \nQ 24.171875 6.390625 31.78125 6.390625 \nQ 39.453125 6.390625 43.28125 13.890625 \nQ 47.125 21.390625 47.125 36.375 \nQ 47.125 51.421875 43.28125 58.90625 \nQ 39.453125 66.40625 31.78125 66.40625 \nz\nM 31.78125 74.21875 \nQ 44.046875 74.21875 50.515625 64.515625 \nQ 56.984375 54.828125 56.984375 36.375 \nQ 56.984375 17.96875 50.515625 8.265625 \nQ 44.046875 -1.421875 31.78125 -1.421875 \nQ 19.53125 -1.421875 13.0625 8.265625 \nQ 6.59375 17.96875 6.59375 36.375 \nQ 6.59375 54.828125 13.0625 64.515625 \nQ 19.53125 74.21875 31.78125 74.21875 \nz\n\" id=\"DejaVuSans-48\"/>\n      </defs>\n      <g transform=\"translate(33.603125 352.277344)scale(0.1 -0.1)\">\n       <use xlink:href=\"#DejaVuSans-48\"/>\n      </g>\n     </g>\n    </g>\n    <g id=\"ytick_2\">\n     <g id=\"line2d_6\">\n      <g>\n       <use style=\"stroke:#000000;stroke-width:0.8;\" x=\"46.965625\" xlink:href=\"#m8d0194c083\" y=\"299.56024\"/>\n      </g>\n     </g>\n     <g id=\"text_7\">\n      <!-- 20 -->\n      <defs>\n       <path d=\"M 19.1875 8.296875 \nL 53.609375 8.296875 \nL 53.609375 0 \nL 7.328125 0 \nL 7.328125 8.296875 \nQ 12.9375 14.109375 22.625 23.890625 \nQ 32.328125 33.6875 34.8125 36.53125 \nQ 39.546875 41.84375 41.421875 45.53125 \nQ 43.3125 49.21875 43.3125 52.78125 \nQ 43.3125 58.59375 39.234375 62.25 \nQ 35.15625 65.921875 28.609375 65.921875 \nQ 23.96875 65.921875 18.8125 64.3125 \nQ 13.671875 62.703125 7.8125 59.421875 \nL 7.8125 69.390625 \nQ 13.765625 71.78125 18.9375 73 \nQ 24.125 74.21875 28.421875 74.21875 \nQ 39.75 74.21875 46.484375 68.546875 \nQ 53.21875 62.890625 53.21875 53.421875 \nQ 53.21875 48.921875 51.53125 44.890625 \nQ 49.859375 40.875 45.40625 35.40625 \nQ 44.1875 33.984375 37.640625 27.21875 \nQ 31.109375 20.453125 19.1875 8.296875 \nz\n\" id=\"DejaVuSans-50\"/>\n      </defs>\n      <g transform=\"translate(27.240625 303.359458)scale(0.1 -0.1)\">\n       <use xlink:href=\"#DejaVuSans-50\"/>\n       <use x=\"63.623047\" xlink:href=\"#DejaVuSans-48\"/>\n      </g>\n     </g>\n    </g>\n    <g id=\"ytick_3\">\n     <g id=\"line2d_7\">\n      <g>\n       <use style=\"stroke:#000000;stroke-width:0.8;\" x=\"46.965625\" xlink:href=\"#m8d0194c083\" y=\"250.642354\"/>\n      </g>\n     </g>\n     <g id=\"text_8\">\n      <!-- 40 -->\n      <defs>\n       <path d=\"M 37.796875 64.3125 \nL 12.890625 25.390625 \nL 37.796875 25.390625 \nz\nM 35.203125 72.90625 \nL 47.609375 72.90625 \nL 47.609375 25.390625 \nL 58.015625 25.390625 \nL 58.015625 17.1875 \nL 47.609375 17.1875 \nL 47.609375 0 \nL 37.796875 0 \nL 37.796875 17.1875 \nL 4.890625 17.1875 \nL 4.890625 26.703125 \nz\n\" id=\"DejaVuSans-52\"/>\n      </defs>\n      <g transform=\"translate(27.240625 254.441573)scale(0.1 -0.1)\">\n       <use xlink:href=\"#DejaVuSans-52\"/>\n       <use x=\"63.623047\" xlink:href=\"#DejaVuSans-48\"/>\n      </g>\n     </g>\n    </g>\n    <g id=\"ytick_4\">\n     <g id=\"line2d_8\">\n      <g>\n       <use style=\"stroke:#000000;stroke-width:0.8;\" x=\"46.965625\" xlink:href=\"#m8d0194c083\" y=\"201.724469\"/>\n      </g>\n     </g>\n     <g id=\"text_9\">\n      <!-- 60 -->\n      <defs>\n       <path d=\"M 33.015625 40.375 \nQ 26.375 40.375 22.484375 35.828125 \nQ 18.609375 31.296875 18.609375 23.390625 \nQ 18.609375 15.53125 22.484375 10.953125 \nQ 26.375 6.390625 33.015625 6.390625 \nQ 39.65625 6.390625 43.53125 10.953125 \nQ 47.40625 15.53125 47.40625 23.390625 \nQ 47.40625 31.296875 43.53125 35.828125 \nQ 39.65625 40.375 33.015625 40.375 \nz\nM 52.59375 71.296875 \nL 52.59375 62.3125 \nQ 48.875 64.0625 45.09375 64.984375 \nQ 41.3125 65.921875 37.59375 65.921875 \nQ 27.828125 65.921875 22.671875 59.328125 \nQ 17.53125 52.734375 16.796875 39.40625 \nQ 19.671875 43.65625 24.015625 45.921875 \nQ 28.375 48.1875 33.59375 48.1875 \nQ 44.578125 48.1875 50.953125 41.515625 \nQ 57.328125 34.859375 57.328125 23.390625 \nQ 57.328125 12.15625 50.6875 5.359375 \nQ 44.046875 -1.421875 33.015625 -1.421875 \nQ 20.359375 -1.421875 13.671875 8.265625 \nQ 6.984375 17.96875 6.984375 36.375 \nQ 6.984375 53.65625 15.1875 63.9375 \nQ 23.390625 74.21875 37.203125 74.21875 \nQ 40.921875 74.21875 44.703125 73.484375 \nQ 48.484375 72.75 52.59375 71.296875 \nz\n\" id=\"DejaVuSans-54\"/>\n      </defs>\n      <g transform=\"translate(27.240625 205.523688)scale(0.1 -0.1)\">\n       <use xlink:href=\"#DejaVuSans-54\"/>\n       <use x=\"63.623047\" xlink:href=\"#DejaVuSans-48\"/>\n      </g>\n     </g>\n    </g>\n    <g id=\"ytick_5\">\n     <g id=\"line2d_9\">\n      <g>\n       <use style=\"stroke:#000000;stroke-width:0.8;\" x=\"46.965625\" xlink:href=\"#m8d0194c083\" y=\"152.806584\"/>\n      </g>\n     </g>\n     <g id=\"text_10\">\n      <!-- 80 -->\n      <defs>\n       <path d=\"M 31.78125 34.625 \nQ 24.75 34.625 20.71875 30.859375 \nQ 16.703125 27.09375 16.703125 20.515625 \nQ 16.703125 13.921875 20.71875 10.15625 \nQ 24.75 6.390625 31.78125 6.390625 \nQ 38.8125 6.390625 42.859375 10.171875 \nQ 46.921875 13.96875 46.921875 20.515625 \nQ 46.921875 27.09375 42.890625 30.859375 \nQ 38.875 34.625 31.78125 34.625 \nz\nM 21.921875 38.8125 \nQ 15.578125 40.375 12.03125 44.71875 \nQ 8.5 49.078125 8.5 55.328125 \nQ 8.5 64.0625 14.71875 69.140625 \nQ 20.953125 74.21875 31.78125 74.21875 \nQ 42.671875 74.21875 48.875 69.140625 \nQ 55.078125 64.0625 55.078125 55.328125 \nQ 55.078125 49.078125 51.53125 44.71875 \nQ 48 40.375 41.703125 38.8125 \nQ 48.828125 37.15625 52.796875 32.3125 \nQ 56.78125 27.484375 56.78125 20.515625 \nQ 56.78125 9.90625 50.3125 4.234375 \nQ 43.84375 -1.421875 31.78125 -1.421875 \nQ 19.734375 -1.421875 13.25 4.234375 \nQ 6.78125 9.90625 6.78125 20.515625 \nQ 6.78125 27.484375 10.78125 32.3125 \nQ 14.796875 37.15625 21.921875 38.8125 \nz\nM 18.3125 54.390625 \nQ 18.3125 48.734375 21.84375 45.5625 \nQ 25.390625 42.390625 31.78125 42.390625 \nQ 38.140625 42.390625 41.71875 45.5625 \nQ 45.3125 48.734375 45.3125 54.390625 \nQ 45.3125 60.0625 41.71875 63.234375 \nQ 38.140625 66.40625 31.78125 66.40625 \nQ 25.390625 66.40625 21.84375 63.234375 \nQ 18.3125 60.0625 18.3125 54.390625 \nz\n\" id=\"DejaVuSans-56\"/>\n      </defs>\n      <g transform=\"translate(27.240625 156.605803)scale(0.1 -0.1)\">\n       <use xlink:href=\"#DejaVuSans-56\"/>\n       <use x=\"63.623047\" xlink:href=\"#DejaVuSans-48\"/>\n      </g>\n     </g>\n    </g>\n    <g id=\"ytick_6\">\n     <g id=\"line2d_10\">\n      <g>\n       <use style=\"stroke:#000000;stroke-width:0.8;\" x=\"46.965625\" xlink:href=\"#m8d0194c083\" y=\"103.888699\"/>\n      </g>\n     </g>\n     <g id=\"text_11\">\n      <!-- 100 -->\n      <defs>\n       <path d=\"M 12.40625 8.296875 \nL 28.515625 8.296875 \nL 28.515625 63.921875 \nL 10.984375 60.40625 \nL 10.984375 69.390625 \nL 28.421875 72.90625 \nL 38.28125 72.90625 \nL 38.28125 8.296875 \nL 54.390625 8.296875 \nL 54.390625 0 \nL 12.40625 0 \nz\n\" id=\"DejaVuSans-49\"/>\n      </defs>\n      <g transform=\"translate(20.878125 107.687917)scale(0.1 -0.1)\">\n       <use xlink:href=\"#DejaVuSans-49\"/>\n       <use x=\"63.623047\" xlink:href=\"#DejaVuSans-48\"/>\n       <use x=\"127.246094\" xlink:href=\"#DejaVuSans-48\"/>\n      </g>\n     </g>\n    </g>\n    <g id=\"ytick_7\">\n     <g id=\"line2d_11\">\n      <g>\n       <use style=\"stroke:#000000;stroke-width:0.8;\" x=\"46.965625\" xlink:href=\"#m8d0194c083\" y=\"54.970813\"/>\n      </g>\n     </g>\n     <g id=\"text_12\">\n      <!-- 120 -->\n      <g transform=\"translate(20.878125 58.770032)scale(0.1 -0.1)\">\n       <use xlink:href=\"#DejaVuSans-49\"/>\n       <use x=\"63.623047\" xlink:href=\"#DejaVuSans-50\"/>\n       <use x=\"127.246094\" xlink:href=\"#DejaVuSans-48\"/>\n      </g>\n     </g>\n    </g>\n    <g id=\"text_13\">\n     <!-- Count -->\n     <defs>\n      <path d=\"M 64.40625 67.28125 \nL 64.40625 56.890625 \nQ 59.421875 61.53125 53.78125 63.8125 \nQ 48.140625 66.109375 41.796875 66.109375 \nQ 29.296875 66.109375 22.65625 58.46875 \nQ 16.015625 50.828125 16.015625 36.375 \nQ 16.015625 21.96875 22.65625 14.328125 \nQ 29.296875 6.6875 41.796875 6.6875 \nQ 48.140625 6.6875 53.78125 8.984375 \nQ 59.421875 11.28125 64.40625 15.921875 \nL 64.40625 5.609375 \nQ 59.234375 2.09375 53.4375 0.328125 \nQ 47.65625 -1.421875 41.21875 -1.421875 \nQ 24.65625 -1.421875 15.125 8.703125 \nQ 5.609375 18.84375 5.609375 36.375 \nQ 5.609375 53.953125 15.125 64.078125 \nQ 24.65625 74.21875 41.21875 74.21875 \nQ 47.75 74.21875 53.53125 72.484375 \nQ 59.328125 70.75 64.40625 67.28125 \nz\n\" id=\"DejaVuSans-67\"/>\n      <path d=\"M 8.5 21.578125 \nL 8.5 54.6875 \nL 17.484375 54.6875 \nL 17.484375 21.921875 \nQ 17.484375 14.15625 20.5 10.265625 \nQ 23.53125 6.390625 29.59375 6.390625 \nQ 36.859375 6.390625 41.078125 11.03125 \nQ 45.3125 15.671875 45.3125 23.6875 \nL 45.3125 54.6875 \nL 54.296875 54.6875 \nL 54.296875 0 \nL 45.3125 0 \nL 45.3125 8.40625 \nQ 42.046875 3.421875 37.71875 1 \nQ 33.40625 -1.421875 27.6875 -1.421875 \nQ 18.265625 -1.421875 13.375 4.4375 \nQ 8.5 10.296875 8.5 21.578125 \nz\nM 31.109375 56 \nz\n\" id=\"DejaVuSans-117\"/>\n     </defs>\n     <g transform=\"translate(14.798437 200.246562)rotate(-90)scale(0.1 -0.1)\">\n      <use xlink:href=\"#DejaVuSans-67\"/>\n      <use x=\"69.824219\" xlink:href=\"#DejaVuSans-111\"/>\n      <use x=\"131.005859\" xlink:href=\"#DejaVuSans-117\"/>\n      <use x=\"194.384766\" xlink:href=\"#DejaVuSans-110\"/>\n      <use x=\"257.763672\" xlink:href=\"#DejaVuSans-116\"/>\n     </g>\n    </g>\n   </g>\n   <g id=\"line2d_12\">\n    <path clip-path=\"url(#pacfcd2b6e0)\" d=\"M 0 0 \n\" style=\"fill:none;stroke:#424242;stroke-linecap:square;stroke-width:2.7;\"/>\n   </g>\n   <g id=\"line2d_13\">\n    <path clip-path=\"url(#pacfcd2b6e0)\" d=\"M 0 0 \n\" style=\"fill:none;stroke:#424242;stroke-linecap:square;stroke-width:2.7;\"/>\n   </g>\n   <g id=\"line2d_14\">\n    <path clip-path=\"url(#pacfcd2b6e0)\" d=\"M 0 0 \n\" style=\"fill:none;stroke:#424242;stroke-linecap:square;stroke-width:2.7;\"/>\n   </g>\n   <g id=\"line2d_15\">\n    <path clip-path=\"url(#pacfcd2b6e0)\" d=\"M 0 0 \n\" style=\"fill:none;stroke:#424242;stroke-linecap:square;stroke-width:2.7;\"/>\n   </g>\n   <g id=\"line2d_16\">\n    <path clip-path=\"url(#pacfcd2b6e0)\" d=\"M 0 0 \n\" style=\"fill:none;stroke:#424242;stroke-linecap:square;stroke-width:2.7;\"/>\n   </g>\n   <g id=\"line2d_17\">\n    <path clip-path=\"url(#pacfcd2b6e0)\" d=\"M 0 0 \n\" style=\"fill:none;stroke:#424242;stroke-linecap:square;stroke-width:2.7;\"/>\n   </g>\n   <g id=\"line2d_18\">\n    <path clip-path=\"url(#pacfcd2b6e0)\" d=\"M 0 0 \n\" style=\"fill:none;stroke:#424242;stroke-linecap:square;stroke-width:2.7;\"/>\n   </g>\n   <g id=\"line2d_19\">\n    <path clip-path=\"url(#pacfcd2b6e0)\" d=\"M 0 0 \n\" style=\"fill:none;stroke:#424242;stroke-linecap:square;stroke-width:2.7;\"/>\n   </g>\n   <g id=\"patch_11\">\n    <path d=\"M 46.965625 348.478125 \nL 46.965625 22.318125 \n\" style=\"fill:none;stroke:#000000;stroke-linecap:square;stroke-linejoin:miter;stroke-width:0.8;\"/>\n   </g>\n   <g id=\"patch_12\">\n    <path d=\"M 493.365625 348.478125 \nL 493.365625 22.318125 \n\" style=\"fill:none;stroke:#000000;stroke-linecap:square;stroke-linejoin:miter;stroke-width:0.8;\"/>\n   </g>\n   <g id=\"patch_13\">\n    <path d=\"M 46.965625 348.478125 \nL 493.365625 348.478125 \n\" style=\"fill:none;stroke:#000000;stroke-linecap:square;stroke-linejoin:miter;stroke-width:0.8;\"/>\n   </g>\n   <g id=\"patch_14\">\n    <path d=\"M 46.965625 22.318125 \nL 493.365625 22.318125 \n\" style=\"fill:none;stroke:#000000;stroke-linecap:square;stroke-linejoin:miter;stroke-width:0.8;\"/>\n   </g>\n   <g id=\"text_14\">\n    <!-- Repartition of the patient type attributed to MCTI doctors -->\n    <defs>\n     <path d=\"M 44.390625 34.1875 \nQ 47.5625 33.109375 50.5625 29.59375 \nQ 53.5625 26.078125 56.59375 19.921875 \nL 66.609375 0 \nL 56 0 \nL 46.6875 18.703125 \nQ 43.0625 26.03125 39.671875 28.421875 \nQ 36.28125 30.8125 30.421875 30.8125 \nL 19.671875 30.8125 \nL 19.671875 0 \nL 9.8125 0 \nL 9.8125 72.90625 \nL 32.078125 72.90625 \nQ 44.578125 72.90625 50.734375 67.671875 \nQ 56.890625 62.453125 56.890625 51.90625 \nQ 56.890625 45.015625 53.6875 40.46875 \nQ 50.484375 35.9375 44.390625 34.1875 \nz\nM 19.671875 64.796875 \nL 19.671875 38.921875 \nL 32.078125 38.921875 \nQ 39.203125 38.921875 42.84375 42.21875 \nQ 46.484375 45.515625 46.484375 51.90625 \nQ 46.484375 58.296875 42.84375 61.546875 \nQ 39.203125 64.796875 32.078125 64.796875 \nz\n\" id=\"DejaVuSans-82\"/>\n     <path d=\"M 18.109375 8.203125 \nL 18.109375 -20.796875 \nL 9.078125 -20.796875 \nL 9.078125 54.6875 \nL 18.109375 54.6875 \nL 18.109375 46.390625 \nQ 20.953125 51.265625 25.265625 53.625 \nQ 29.59375 56 35.59375 56 \nQ 45.5625 56 51.78125 48.09375 \nQ 58.015625 40.1875 58.015625 27.296875 \nQ 58.015625 14.40625 51.78125 6.484375 \nQ 45.5625 -1.421875 35.59375 -1.421875 \nQ 29.59375 -1.421875 25.265625 0.953125 \nQ 20.953125 3.328125 18.109375 8.203125 \nz\nM 48.6875 27.296875 \nQ 48.6875 37.203125 44.609375 42.84375 \nQ 40.53125 48.484375 33.40625 48.484375 \nQ 26.265625 48.484375 22.1875 42.84375 \nQ 18.109375 37.203125 18.109375 27.296875 \nQ 18.109375 17.390625 22.1875 11.75 \nQ 26.265625 6.109375 33.40625 6.109375 \nQ 40.53125 6.109375 44.609375 11.75 \nQ 48.6875 17.390625 48.6875 27.296875 \nz\n\" id=\"DejaVuSans-112\"/>\n     <path d=\"M 37.109375 75.984375 \nL 37.109375 68.5 \nL 28.515625 68.5 \nQ 23.6875 68.5 21.796875 66.546875 \nQ 19.921875 64.59375 19.921875 59.515625 \nL 19.921875 54.6875 \nL 34.71875 54.6875 \nL 34.71875 47.703125 \nL 19.921875 47.703125 \nL 19.921875 0 \nL 10.890625 0 \nL 10.890625 47.703125 \nL 2.296875 47.703125 \nL 2.296875 54.6875 \nL 10.890625 54.6875 \nL 10.890625 58.5 \nQ 10.890625 67.625 15.140625 71.796875 \nQ 19.390625 75.984375 28.609375 75.984375 \nz\n\" id=\"DejaVuSans-102\"/>\n     <path d=\"M 32.171875 -5.078125 \nQ 28.375 -14.84375 24.75 -17.8125 \nQ 21.140625 -20.796875 15.09375 -20.796875 \nL 7.90625 -20.796875 \nL 7.90625 -13.28125 \nL 13.1875 -13.28125 \nQ 16.890625 -13.28125 18.9375 -11.515625 \nQ 21 -9.765625 23.484375 -3.21875 \nL 25.09375 0.875 \nL 2.984375 54.6875 \nL 12.5 54.6875 \nL 29.59375 11.921875 \nL 46.6875 54.6875 \nL 56.203125 54.6875 \nz\n\" id=\"DejaVuSans-121\"/>\n     <path d=\"M 48.6875 27.296875 \nQ 48.6875 37.203125 44.609375 42.84375 \nQ 40.53125 48.484375 33.40625 48.484375 \nQ 26.265625 48.484375 22.1875 42.84375 \nQ 18.109375 37.203125 18.109375 27.296875 \nQ 18.109375 17.390625 22.1875 11.75 \nQ 26.265625 6.109375 33.40625 6.109375 \nQ 40.53125 6.109375 44.609375 11.75 \nQ 48.6875 17.390625 48.6875 27.296875 \nz\nM 18.109375 46.390625 \nQ 20.953125 51.265625 25.265625 53.625 \nQ 29.59375 56 35.59375 56 \nQ 45.5625 56 51.78125 48.09375 \nQ 58.015625 40.1875 58.015625 27.296875 \nQ 58.015625 14.40625 51.78125 6.484375 \nQ 45.5625 -1.421875 35.59375 -1.421875 \nQ 29.59375 -1.421875 25.265625 0.953125 \nQ 20.953125 3.328125 18.109375 8.203125 \nL 18.109375 0 \nL 9.078125 0 \nL 9.078125 75.984375 \nL 18.109375 75.984375 \nz\n\" id=\"DejaVuSans-98\"/>\n     <path d=\"M 45.40625 46.390625 \nL 45.40625 75.984375 \nL 54.390625 75.984375 \nL 54.390625 0 \nL 45.40625 0 \nL 45.40625 8.203125 \nQ 42.578125 3.328125 38.25 0.953125 \nQ 33.9375 -1.421875 27.875 -1.421875 \nQ 17.96875 -1.421875 11.734375 6.484375 \nQ 5.515625 14.40625 5.515625 27.296875 \nQ 5.515625 40.1875 11.734375 48.09375 \nQ 17.96875 56 27.875 56 \nQ 33.9375 56 38.25 53.625 \nQ 42.578125 51.265625 45.40625 46.390625 \nz\nM 14.796875 27.296875 \nQ 14.796875 17.390625 18.875 11.75 \nQ 22.953125 6.109375 30.078125 6.109375 \nQ 37.203125 6.109375 41.296875 11.75 \nQ 45.40625 17.390625 45.40625 27.296875 \nQ 45.40625 37.203125 41.296875 42.84375 \nQ 37.203125 48.484375 30.078125 48.484375 \nQ 22.953125 48.484375 18.875 42.84375 \nQ 14.796875 37.203125 14.796875 27.296875 \nz\n\" id=\"DejaVuSans-100\"/>\n     <path d=\"M 9.8125 72.90625 \nL 24.515625 72.90625 \nL 43.109375 23.296875 \nL 61.8125 72.90625 \nL 76.515625 72.90625 \nL 76.515625 0 \nL 66.890625 0 \nL 66.890625 64.015625 \nL 48.09375 14.015625 \nL 38.1875 14.015625 \nL 19.390625 64.015625 \nL 19.390625 0 \nL 9.8125 0 \nz\n\" id=\"DejaVuSans-77\"/>\n     <path d=\"M -0.296875 72.90625 \nL 61.375 72.90625 \nL 61.375 64.59375 \nL 35.5 64.59375 \nL 35.5 0 \nL 25.59375 0 \nL 25.59375 64.59375 \nL -0.296875 64.59375 \nz\n\" id=\"DejaVuSans-84\"/>\n     <path d=\"M 9.8125 72.90625 \nL 19.671875 72.90625 \nL 19.671875 0 \nL 9.8125 0 \nz\n\" id=\"DejaVuSans-73\"/>\n     <path d=\"M 44.28125 53.078125 \nL 44.28125 44.578125 \nQ 40.484375 46.53125 36.375 47.5 \nQ 32.28125 48.484375 27.875 48.484375 \nQ 21.1875 48.484375 17.84375 46.4375 \nQ 14.5 44.390625 14.5 40.28125 \nQ 14.5 37.15625 16.890625 35.375 \nQ 19.28125 33.59375 26.515625 31.984375 \nL 29.59375 31.296875 \nQ 39.15625 29.25 43.1875 25.515625 \nQ 47.21875 21.78125 47.21875 15.09375 \nQ 47.21875 7.46875 41.1875 3.015625 \nQ 35.15625 -1.421875 24.609375 -1.421875 \nQ 20.21875 -1.421875 15.453125 -0.5625 \nQ 10.6875 0.296875 5.421875 2 \nL 5.421875 11.28125 \nQ 10.40625 8.6875 15.234375 7.390625 \nQ 20.0625 6.109375 24.8125 6.109375 \nQ 31.15625 6.109375 34.5625 8.28125 \nQ 37.984375 10.453125 37.984375 14.40625 \nQ 37.984375 18.0625 35.515625 20.015625 \nQ 33.0625 21.96875 24.703125 23.78125 \nL 21.578125 24.515625 \nQ 13.234375 26.265625 9.515625 29.90625 \nQ 5.8125 33.546875 5.8125 39.890625 \nQ 5.8125 47.609375 11.28125 51.796875 \nQ 16.75 56 26.8125 56 \nQ 31.78125 56 36.171875 55.265625 \nQ 40.578125 54.546875 44.28125 53.078125 \nz\n\" id=\"DejaVuSans-115\"/>\n    </defs>\n    <g transform=\"translate(98.270312 16.318125)scale(0.12 -0.12)\">\n     <use xlink:href=\"#DejaVuSans-82\"/>\n     <use x=\"64.982422\" xlink:href=\"#DejaVuSans-101\"/>\n     <use x=\"126.505859\" xlink:href=\"#DejaVuSans-112\"/>\n     <use x=\"189.982422\" xlink:href=\"#DejaVuSans-97\"/>\n     <use x=\"251.261719\" xlink:href=\"#DejaVuSans-114\"/>\n     <use x=\"292.375\" xlink:href=\"#DejaVuSans-116\"/>\n     <use x=\"331.583984\" xlink:href=\"#DejaVuSans-105\"/>\n     <use x=\"359.367188\" xlink:href=\"#DejaVuSans-116\"/>\n     <use x=\"398.576172\" xlink:href=\"#DejaVuSans-105\"/>\n     <use x=\"426.359375\" xlink:href=\"#DejaVuSans-111\"/>\n     <use x=\"487.541016\" xlink:href=\"#DejaVuSans-110\"/>\n     <use x=\"550.919922\" xlink:href=\"#DejaVuSans-32\"/>\n     <use x=\"582.707031\" xlink:href=\"#DejaVuSans-111\"/>\n     <use x=\"643.888672\" xlink:href=\"#DejaVuSans-102\"/>\n     <use x=\"679.09375\" xlink:href=\"#DejaVuSans-32\"/>\n     <use x=\"710.880859\" xlink:href=\"#DejaVuSans-116\"/>\n     <use x=\"750.089844\" xlink:href=\"#DejaVuSans-104\"/>\n     <use x=\"813.46875\" xlink:href=\"#DejaVuSans-101\"/>\n     <use x=\"874.992188\" xlink:href=\"#DejaVuSans-32\"/>\n     <use x=\"906.779297\" xlink:href=\"#DejaVuSans-112\"/>\n     <use x=\"970.255859\" xlink:href=\"#DejaVuSans-97\"/>\n     <use x=\"1031.535156\" xlink:href=\"#DejaVuSans-116\"/>\n     <use x=\"1070.744141\" xlink:href=\"#DejaVuSans-105\"/>\n     <use x=\"1098.527344\" xlink:href=\"#DejaVuSans-101\"/>\n     <use x=\"1160.050781\" xlink:href=\"#DejaVuSans-110\"/>\n     <use x=\"1223.429688\" xlink:href=\"#DejaVuSans-116\"/>\n     <use x=\"1262.638672\" xlink:href=\"#DejaVuSans-32\"/>\n     <use x=\"1294.425781\" xlink:href=\"#DejaVuSans-116\"/>\n     <use x=\"1333.634766\" xlink:href=\"#DejaVuSans-121\"/>\n     <use x=\"1392.814453\" xlink:href=\"#DejaVuSans-112\"/>\n     <use x=\"1456.291016\" xlink:href=\"#DejaVuSans-101\"/>\n     <use x=\"1517.814453\" xlink:href=\"#DejaVuSans-32\"/>\n     <use x=\"1549.601562\" xlink:href=\"#DejaVuSans-97\"/>\n     <use x=\"1610.880859\" xlink:href=\"#DejaVuSans-116\"/>\n     <use x=\"1650.089844\" xlink:href=\"#DejaVuSans-116\"/>\n     <use x=\"1689.298828\" xlink:href=\"#DejaVuSans-114\"/>\n     <use x=\"1730.412109\" xlink:href=\"#DejaVuSans-105\"/>\n     <use x=\"1758.195312\" xlink:href=\"#DejaVuSans-98\"/>\n     <use x=\"1821.671875\" xlink:href=\"#DejaVuSans-117\"/>\n     <use x=\"1885.050781\" xlink:href=\"#DejaVuSans-116\"/>\n     <use x=\"1924.259766\" xlink:href=\"#DejaVuSans-101\"/>\n     <use x=\"1985.783203\" xlink:href=\"#DejaVuSans-100\"/>\n     <use x=\"2049.259766\" xlink:href=\"#DejaVuSans-32\"/>\n     <use x=\"2081.046875\" xlink:href=\"#DejaVuSans-116\"/>\n     <use x=\"2120.255859\" xlink:href=\"#DejaVuSans-111\"/>\n     <use x=\"2181.4375\" xlink:href=\"#DejaVuSans-32\"/>\n     <use x=\"2213.224609\" xlink:href=\"#DejaVuSans-77\"/>\n     <use x=\"2299.503906\" xlink:href=\"#DejaVuSans-67\"/>\n     <use x=\"2369.328125\" xlink:href=\"#DejaVuSans-84\"/>\n     <use x=\"2430.412109\" xlink:href=\"#DejaVuSans-73\"/>\n     <use x=\"2459.904297\" xlink:href=\"#DejaVuSans-32\"/>\n     <use x=\"2491.691406\" xlink:href=\"#DejaVuSans-100\"/>\n     <use x=\"2555.167969\" xlink:href=\"#DejaVuSans-111\"/>\n     <use x=\"2616.349609\" xlink:href=\"#DejaVuSans-99\"/>\n     <use x=\"2671.330078\" xlink:href=\"#DejaVuSans-116\"/>\n     <use x=\"2710.539062\" xlink:href=\"#DejaVuSans-111\"/>\n     <use x=\"2771.720703\" xlink:href=\"#DejaVuSans-114\"/>\n     <use x=\"2812.833984\" xlink:href=\"#DejaVuSans-115\"/>\n    </g>\n   </g>\n   <g id=\"legend_1\">\n    <g id=\"patch_15\">\n     <path d=\"M 403.86875 74.3525 \nL 486.365625 74.3525 \nQ 488.365625 74.3525 488.365625 72.3525 \nL 488.365625 29.318125 \nQ 488.365625 27.318125 486.365625 27.318125 \nL 403.86875 27.318125 \nQ 401.86875 27.318125 401.86875 29.318125 \nL 401.86875 72.3525 \nQ 401.86875 74.3525 403.86875 74.3525 \nz\n\" style=\"fill:#ffffff;opacity:0.8;stroke:#cccccc;stroke-linejoin:miter;\"/>\n    </g>\n    <g id=\"text_15\">\n     <!-- Class -->\n     <defs>\n      <path d=\"M 9.421875 75.984375 \nL 18.40625 75.984375 \nL 18.40625 0 \nL 9.421875 0 \nz\n\" id=\"DejaVuSans-108\"/>\n     </defs>\n     <g transform=\"translate(431.963281 38.916562)scale(0.1 -0.1)\">\n      <use xlink:href=\"#DejaVuSans-67\"/>\n      <use x=\"69.824219\" xlink:href=\"#DejaVuSans-108\"/>\n      <use x=\"97.607422\" xlink:href=\"#DejaVuSans-97\"/>\n      <use x=\"158.886719\" xlink:href=\"#DejaVuSans-115\"/>\n      <use x=\"210.986328\" xlink:href=\"#DejaVuSans-115\"/>\n     </g>\n    </g>\n    <g id=\"line2d_20\">\n     <path d=\"M 405.86875 50.094687 \nL 425.86875 50.094687 \n\" style=\"fill:none;stroke:#424242;stroke-linecap:square;stroke-width:2.7;\"/>\n    </g>\n    <g id=\"line2d_21\"/>\n    <g id=\"text_16\">\n     <!-- benign -->\n     <g transform=\"translate(433.86875 53.594687)scale(0.1 -0.1)\">\n      <use xlink:href=\"#DejaVuSans-98\"/>\n      <use x=\"63.476562\" xlink:href=\"#DejaVuSans-101\"/>\n      <use x=\"125\" xlink:href=\"#DejaVuSans-110\"/>\n      <use x=\"188.378906\" xlink:href=\"#DejaVuSans-105\"/>\n      <use x=\"216.162109\" xlink:href=\"#DejaVuSans-103\"/>\n      <use x=\"279.638672\" xlink:href=\"#DejaVuSans-110\"/>\n     </g>\n    </g>\n    <g id=\"line2d_22\">\n     <path d=\"M 405.86875 64.772812 \nL 425.86875 64.772812 \n\" style=\"fill:none;stroke:#424242;stroke-linecap:square;stroke-width:2.7;\"/>\n    </g>\n    <g id=\"line2d_23\"/>\n    <g id=\"text_17\">\n     <!-- malignant -->\n     <g transform=\"translate(433.86875 68.272812)scale(0.1 -0.1)\">\n      <use xlink:href=\"#DejaVuSans-109\"/>\n      <use x=\"97.412109\" xlink:href=\"#DejaVuSans-97\"/>\n      <use x=\"158.691406\" xlink:href=\"#DejaVuSans-108\"/>\n      <use x=\"186.474609\" xlink:href=\"#DejaVuSans-105\"/>\n      <use x=\"214.257812\" xlink:href=\"#DejaVuSans-103\"/>\n      <use x=\"277.734375\" xlink:href=\"#DejaVuSans-110\"/>\n      <use x=\"341.113281\" xlink:href=\"#DejaVuSans-97\"/>\n      <use x=\"402.392578\" xlink:href=\"#DejaVuSans-110\"/>\n      <use x=\"465.771484\" xlink:href=\"#DejaVuSans-116\"/>\n     </g>\n    </g>\n   </g>\n  </g>\n </g>\n <defs>\n  <clipPath id=\"pacfcd2b6e0\">\n   <rect height=\"326.16\" width=\"446.4\" x=\"46.965625\" y=\"22.318125\"/>\n  </clipPath>\n </defs>\n</svg>\n",
      "image/png": "[encoded data removed]"
     },
     "metadata": {
      "needs_background": "light"
     }
    }
   ],
   "source": [
    "#### Question 7.\n",
    "fig = plt.figure(figsize=(8,6))\n",
    "sns.barplot(data=patient_type_per_doctor, y='count', x='doctor_name', hue='class', palette=['gray', 'black'])\n",
    "plt.xlabel('Doctor Name')\n",
    "plt.ylabel('Count')\n",
    "plt.legend(title='Class', labels={'benign':'gray', 'malignant':'red'}, loc='best')\n",
    "plt.title('Repartition of the patient type attributed to MCTI doctors')\n",
    "plt.show()"
   ]
  },
  {
   "cell_type": "code",
   "execution_count": 214,
   "metadata": {},
   "outputs": [
    {
     "output_type": "display_data",
     "data": {
      "text/plain": "<Figure size 576x432 with 1 Axes>",
      "image/svg+xml": "<?xml version=\"1.0\" encoding=\"utf-8\" standalone=\"no\"?>\n<!DOCTYPE svg PUBLIC \"-//W3C//DTD SVG 1.1//EN\"\n  \"http://www.w3.org/Graphics/SVG/1.1/DTD/svg11.dtd\">\n<!-- Created with matplotlib (https://matplotlib.org/) -->\n<svg height=\"386.034375pt\" version=\"1.1\" viewBox=\"0 0 500.565625 386.034375\" width=\"500.565625pt\" xmlns=\"http://www.w3.org/2000/svg\" xmlns:xlink=\"http://www.w3.org/1999/xlink\">\n <defs>\n  <style type=\"text/css\">\n*{stroke-linecap:butt;stroke-linejoin:round;}\n  </style>\n </defs>\n <g id=\"figure_1\">\n  <g id=\"patch_1\">\n   <path d=\"M 0 386.034375 \nL 500.565625 386.034375 \nL 500.565625 0 \nL 0 0 \nz\n\" style=\"fill:none;\"/>\n  </g>\n  <g id=\"axes_1\">\n   <g id=\"patch_2\">\n    <path d=\"M 46.965625 348.478125 \nL 493.365625 348.478125 \nL 493.365625 22.318125 \nL 46.965625 22.318125 \nz\n\" style=\"fill:#ffffff;\"/>\n   </g>\n   <g id=\"patch_3\">\n    <path clip-path=\"url(#p6b133efe7f)\" d=\"M 58.125625 348.478125 \nL 102.765625 348.478125 \nL 102.765625 37.849554 \nL 58.125625 37.849554 \nz\n\" style=\"fill:#808080;\"/>\n   </g>\n   <g id=\"patch_4\">\n    <path clip-path=\"url(#p6b133efe7f)\" d=\"M 169.725625 348.478125 \nL 214.365625 348.478125 \nL 214.365625 52.524919 \nL 169.725625 52.524919 \nz\n\" style=\"fill:#808080;\"/>\n   </g>\n   <g id=\"patch_5\">\n    <path clip-path=\"url(#p6b133efe7f)\" d=\"M 281.325625 348.478125 \nL 325.965625 348.478125 \nL 325.965625 98.99691 \nL 281.325625 98.99691 \nz\n\" style=\"fill:#808080;\"/>\n   </g>\n   <g id=\"patch_6\">\n    <path clip-path=\"url(#p6b133efe7f)\" d=\"M 392.925625 348.478125 \nL 437.565625 348.478125 \nL 437.565625 84.321545 \nL 392.925625 84.321545 \nz\n\" style=\"fill:#808080;\"/>\n   </g>\n   <g id=\"patch_7\">\n    <path clip-path=\"url(#p6b133efe7f)\" d=\"M 102.765625 348.478125 \nL 147.405625 348.478125 \nL 147.405625 206.616258 \nL 102.765625 206.616258 \nz\n\"/>\n   </g>\n   <g id=\"patch_8\">\n    <path clip-path=\"url(#p6b133efe7f)\" d=\"M 214.365625 348.478125 \nL 259.005625 348.478125 \nL 259.005625 201.724469 \nL 214.365625 201.724469 \nz\n\"/>\n   </g>\n   <g id=\"patch_9\">\n    <path clip-path=\"url(#p6b133efe7f)\" d=\"M 325.965625 348.478125 \nL 370.605625 348.478125 \nL 370.605625 167.48195 \nL 325.965625 167.48195 \nz\n\"/>\n   </g>\n   <g id=\"patch_10\">\n    <path clip-path=\"url(#p6b133efe7f)\" d=\"M 437.565625 348.478125 \nL 482.205625 348.478125 \nL 482.205625 228.629306 \nL 437.565625 228.629306 \nz\n\"/>\n   </g>\n   <g id=\"matplotlib.axis_1\">\n    <g id=\"xtick_1\">\n     <g id=\"line2d_1\">\n      <defs>\n       <path d=\"M 0 0 \nL 0 3.5 \n\" id=\"mdb1d9b2436\" style=\"stroke:#000000;stroke-width:0.8;\"/>\n      </defs>\n      <g>\n       <use style=\"stroke:#000000;stroke-width:0.8;\" x=\"102.765625\" xlink:href=\"#mdb1d9b2436\" y=\"348.478125\"/>\n      </g>\n     </g>\n     <g id=\"text_1\">\n      <!-- Dr. Doe -->\n      <defs>\n       <path d=\"M 19.671875 64.796875 \nL 19.671875 8.109375 \nL 31.59375 8.109375 \nQ 46.6875 8.109375 53.6875 14.9375 \nQ 60.6875 21.78125 60.6875 36.53125 \nQ 60.6875 51.171875 53.6875 57.984375 \nQ 46.6875 64.796875 31.59375 64.796875 \nz\nM 9.8125 72.90625 \nL 30.078125 72.90625 \nQ 51.265625 72.90625 61.171875 64.09375 \nQ 71.09375 55.28125 71.09375 36.53125 \nQ 71.09375 17.671875 61.125 8.828125 \nQ 51.171875 0 30.078125 0 \nL 9.8125 0 \nz\n\" id=\"DejaVuSans-68\"/>\n       <path d=\"M 41.109375 46.296875 \nQ 39.59375 47.171875 37.8125 47.578125 \nQ 36.03125 48 33.890625 48 \nQ 26.265625 48 22.1875 43.046875 \nQ 18.109375 38.09375 18.109375 28.8125 \nL 18.109375 0 \nL 9.078125 0 \nL 9.078125 54.6875 \nL 18.109375 54.6875 \nL 18.109375 46.1875 \nQ 20.953125 51.171875 25.484375 53.578125 \nQ 30.03125 56 36.53125 56 \nQ 37.453125 56 38.578125 55.875 \nQ 39.703125 55.765625 41.0625 55.515625 \nz\n\" id=\"DejaVuSans-114\"/>\n       <path d=\"M 10.6875 12.40625 \nL 21 12.40625 \nL 21 0 \nL 10.6875 0 \nz\n\" id=\"DejaVuSans-46\"/>\n       <path id=\"DejaVuSans-32\"/>\n       <path d=\"M 30.609375 48.390625 \nQ 23.390625 48.390625 19.1875 42.75 \nQ 14.984375 37.109375 14.984375 27.296875 \nQ 14.984375 17.484375 19.15625 11.84375 \nQ 23.34375 6.203125 30.609375 6.203125 \nQ 37.796875 6.203125 41.984375 11.859375 \nQ 46.1875 17.53125 46.1875 27.296875 \nQ 46.1875 37.015625 41.984375 42.703125 \nQ 37.796875 48.390625 30.609375 48.390625 \nz\nM 30.609375 56 \nQ 42.328125 56 49.015625 48.375 \nQ 55.71875 40.765625 55.71875 27.296875 \nQ 55.71875 13.875 49.015625 6.21875 \nQ 42.328125 -1.421875 30.609375 -1.421875 \nQ 18.84375 -1.421875 12.171875 6.21875 \nQ 5.515625 13.875 5.515625 27.296875 \nQ 5.515625 40.765625 12.171875 48.375 \nQ 18.84375 56 30.609375 56 \nz\n\" id=\"DejaVuSans-111\"/>\n       <path d=\"M 56.203125 29.59375 \nL 56.203125 25.203125 \nL 14.890625 25.203125 \nQ 15.484375 15.921875 20.484375 11.0625 \nQ 25.484375 6.203125 34.421875 6.203125 \nQ 39.59375 6.203125 44.453125 7.46875 \nQ 49.3125 8.734375 54.109375 11.28125 \nL 54.109375 2.78125 \nQ 49.265625 0.734375 44.1875 -0.34375 \nQ 39.109375 -1.421875 33.890625 -1.421875 \nQ 20.796875 -1.421875 13.15625 6.1875 \nQ 5.515625 13.8125 5.515625 26.8125 \nQ 5.515625 40.234375 12.765625 48.109375 \nQ 20.015625 56 32.328125 56 \nQ 43.359375 56 49.78125 48.890625 \nQ 56.203125 41.796875 56.203125 29.59375 \nz\nM 47.21875 32.234375 \nQ 47.125 39.59375 43.09375 43.984375 \nQ 39.0625 48.390625 32.421875 48.390625 \nQ 24.90625 48.390625 20.390625 44.140625 \nQ 15.875 39.890625 15.1875 32.171875 \nz\n\" id=\"DejaVuSans-101\"/>\n      </defs>\n      <g transform=\"translate(84.152344 363.076562)scale(0.1 -0.1)\">\n       <use xlink:href=\"#DejaVuSans-68\"/>\n       <use x=\"77.001953\" xlink:href=\"#DejaVuSans-114\"/>\n       <use x=\"108.990234\" xlink:href=\"#DejaVuSans-46\"/>\n       <use x=\"140.777344\" xlink:href=\"#DejaVuSans-32\"/>\n       <use x=\"172.564453\" xlink:href=\"#DejaVuSans-68\"/>\n       <use x=\"249.566406\" xlink:href=\"#DejaVuSans-111\"/>\n       <use x=\"310.748047\" xlink:href=\"#DejaVuSans-101\"/>\n      </g>\n     </g>\n    </g>\n    <g id=\"xtick_2\">\n     <g id=\"line2d_2\">\n      <g>\n       <use style=\"stroke:#000000;stroke-width:0.8;\" x=\"214.365625\" xlink:href=\"#mdb1d9b2436\" y=\"348.478125\"/>\n      </g>\n     </g>\n     <g id=\"text_2\">\n      <!-- Dr. Lee -->\n      <defs>\n       <path d=\"M 9.8125 72.90625 \nL 19.671875 72.90625 \nL 19.671875 8.296875 \nL 55.171875 8.296875 \nL 55.171875 0 \nL 9.8125 0 \nz\n\" id=\"DejaVuSans-76\"/>\n      </defs>\n      <g transform=\"translate(196.886719 363.076562)scale(0.1 -0.1)\">\n       <use xlink:href=\"#DejaVuSans-68\"/>\n       <use x=\"77.001953\" xlink:href=\"#DejaVuSans-114\"/>\n       <use x=\"108.990234\" xlink:href=\"#DejaVuSans-46\"/>\n       <use x=\"140.777344\" xlink:href=\"#DejaVuSans-32\"/>\n       <use x=\"172.564453\" xlink:href=\"#DejaVuSans-76\"/>\n       <use x=\"226.527344\" xlink:href=\"#DejaVuSans-101\"/>\n       <use x=\"288.050781\" xlink:href=\"#DejaVuSans-101\"/>\n      </g>\n     </g>\n    </g>\n    <g id=\"xtick_3\">\n     <g id=\"line2d_3\">\n      <g>\n       <use style=\"stroke:#000000;stroke-width:0.8;\" x=\"325.965625\" xlink:href=\"#mdb1d9b2436\" y=\"348.478125\"/>\n      </g>\n     </g>\n     <g id=\"text_3\">\n      <!-- Dr. Smith -->\n      <defs>\n       <path d=\"M 53.515625 70.515625 \nL 53.515625 60.890625 \nQ 47.90625 63.578125 42.921875 64.890625 \nQ 37.9375 66.21875 33.296875 66.21875 \nQ 25.25 66.21875 20.875 63.09375 \nQ 16.5 59.96875 16.5 54.203125 \nQ 16.5 49.359375 19.40625 46.890625 \nQ 22.3125 44.4375 30.421875 42.921875 \nL 36.375 41.703125 \nQ 47.40625 39.59375 52.65625 34.296875 \nQ 57.90625 29 57.90625 20.125 \nQ 57.90625 9.515625 50.796875 4.046875 \nQ 43.703125 -1.421875 29.984375 -1.421875 \nQ 24.8125 -1.421875 18.96875 -0.25 \nQ 13.140625 0.921875 6.890625 3.21875 \nL 6.890625 13.375 \nQ 12.890625 10.015625 18.65625 8.296875 \nQ 24.421875 6.59375 29.984375 6.59375 \nQ 38.421875 6.59375 43.015625 9.90625 \nQ 47.609375 13.234375 47.609375 19.390625 \nQ 47.609375 24.75 44.3125 27.78125 \nQ 41.015625 30.8125 33.5 32.328125 \nL 27.484375 33.5 \nQ 16.453125 35.6875 11.515625 40.375 \nQ 6.59375 45.0625 6.59375 53.421875 \nQ 6.59375 63.09375 13.40625 68.65625 \nQ 20.21875 74.21875 32.171875 74.21875 \nQ 37.3125 74.21875 42.625 73.28125 \nQ 47.953125 72.359375 53.515625 70.515625 \nz\n\" id=\"DejaVuSans-83\"/>\n       <path d=\"M 52 44.1875 \nQ 55.375 50.25 60.0625 53.125 \nQ 64.75 56 71.09375 56 \nQ 79.640625 56 84.28125 50.015625 \nQ 88.921875 44.046875 88.921875 33.015625 \nL 88.921875 0 \nL 79.890625 0 \nL 79.890625 32.71875 \nQ 79.890625 40.578125 77.09375 44.375 \nQ 74.3125 48.1875 68.609375 48.1875 \nQ 61.625 48.1875 57.5625 43.546875 \nQ 53.515625 38.921875 53.515625 30.90625 \nL 53.515625 0 \nL 44.484375 0 \nL 44.484375 32.71875 \nQ 44.484375 40.625 41.703125 44.40625 \nQ 38.921875 48.1875 33.109375 48.1875 \nQ 26.21875 48.1875 22.15625 43.53125 \nQ 18.109375 38.875 18.109375 30.90625 \nL 18.109375 0 \nL 9.078125 0 \nL 9.078125 54.6875 \nL 18.109375 54.6875 \nL 18.109375 46.1875 \nQ 21.1875 51.21875 25.484375 53.609375 \nQ 29.78125 56 35.6875 56 \nQ 41.65625 56 45.828125 52.96875 \nQ 50 49.953125 52 44.1875 \nz\n\" id=\"DejaVuSans-109\"/>\n       <path d=\"M 9.421875 54.6875 \nL 18.40625 54.6875 \nL 18.40625 0 \nL 9.421875 0 \nz\nM 9.421875 75.984375 \nL 18.40625 75.984375 \nL 18.40625 64.59375 \nL 9.421875 64.59375 \nz\n\" id=\"DejaVuSans-105\"/>\n       <path d=\"M 18.3125 70.21875 \nL 18.3125 54.6875 \nL 36.8125 54.6875 \nL 36.8125 47.703125 \nL 18.3125 47.703125 \nL 18.3125 18.015625 \nQ 18.3125 11.328125 20.140625 9.421875 \nQ 21.96875 7.515625 27.59375 7.515625 \nL 36.8125 7.515625 \nL 36.8125 0 \nL 27.59375 0 \nQ 17.1875 0 13.234375 3.875 \nQ 9.28125 7.765625 9.28125 18.015625 \nL 9.28125 47.703125 \nL 2.6875 47.703125 \nL 2.6875 54.6875 \nL 9.28125 54.6875 \nL 9.28125 70.21875 \nz\n\" id=\"DejaVuSans-116\"/>\n       <path d=\"M 54.890625 33.015625 \nL 54.890625 0 \nL 45.90625 0 \nL 45.90625 32.71875 \nQ 45.90625 40.484375 42.875 44.328125 \nQ 39.84375 48.1875 33.796875 48.1875 \nQ 26.515625 48.1875 22.3125 43.546875 \nQ 18.109375 38.921875 18.109375 30.90625 \nL 18.109375 0 \nL 9.078125 0 \nL 9.078125 75.984375 \nL 18.109375 75.984375 \nL 18.109375 46.1875 \nQ 21.34375 51.125 25.703125 53.5625 \nQ 30.078125 56 35.796875 56 \nQ 45.21875 56 50.046875 50.171875 \nQ 54.890625 44.34375 54.890625 33.015625 \nz\n\" id=\"DejaVuSans-104\"/>\n      </defs>\n      <g transform=\"translate(302.775781 363.076562)scale(0.1 -0.1)\">\n       <use xlink:href=\"#DejaVuSans-68\"/>\n       <use x=\"77.001953\" xlink:href=\"#DejaVuSans-114\"/>\n       <use x=\"108.990234\" xlink:href=\"#DejaVuSans-46\"/>\n       <use x=\"140.777344\" xlink:href=\"#DejaVuSans-32\"/>\n       <use x=\"172.564453\" xlink:href=\"#DejaVuSans-83\"/>\n       <use x=\"236.041016\" xlink:href=\"#DejaVuSans-109\"/>\n       <use x=\"333.453125\" xlink:href=\"#DejaVuSans-105\"/>\n       <use x=\"361.236328\" xlink:href=\"#DejaVuSans-116\"/>\n       <use x=\"400.445312\" xlink:href=\"#DejaVuSans-104\"/>\n      </g>\n     </g>\n    </g>\n    <g id=\"xtick_4\">\n     <g id=\"line2d_4\">\n      <g>\n       <use style=\"stroke:#000000;stroke-width:0.8;\" x=\"437.565625\" xlink:href=\"#mdb1d9b2436\" y=\"348.478125\"/>\n      </g>\n     </g>\n     <g id=\"text_4\">\n      <!-- Dr. Wong -->\n      <defs>\n       <path d=\"M 3.328125 72.90625 \nL 13.28125 72.90625 \nL 28.609375 11.28125 \nL 43.890625 72.90625 \nL 54.984375 72.90625 \nL 70.3125 11.28125 \nL 85.59375 72.90625 \nL 95.609375 72.90625 \nL 77.296875 0 \nL 64.890625 0 \nL 49.515625 63.28125 \nL 33.984375 0 \nL 21.578125 0 \nz\n\" id=\"DejaVuSans-87\"/>\n       <path d=\"M 54.890625 33.015625 \nL 54.890625 0 \nL 45.90625 0 \nL 45.90625 32.71875 \nQ 45.90625 40.484375 42.875 44.328125 \nQ 39.84375 48.1875 33.796875 48.1875 \nQ 26.515625 48.1875 22.3125 43.546875 \nQ 18.109375 38.921875 18.109375 30.90625 \nL 18.109375 0 \nL 9.078125 0 \nL 9.078125 54.6875 \nL 18.109375 54.6875 \nL 18.109375 46.1875 \nQ 21.34375 51.125 25.703125 53.5625 \nQ 30.078125 56 35.796875 56 \nQ 45.21875 56 50.046875 50.171875 \nQ 54.890625 44.34375 54.890625 33.015625 \nz\n\" id=\"DejaVuSans-110\"/>\n       <path d=\"M 45.40625 27.984375 \nQ 45.40625 37.75 41.375 43.109375 \nQ 37.359375 48.484375 30.078125 48.484375 \nQ 22.859375 48.484375 18.828125 43.109375 \nQ 14.796875 37.75 14.796875 27.984375 \nQ 14.796875 18.265625 18.828125 12.890625 \nQ 22.859375 7.515625 30.078125 7.515625 \nQ 37.359375 7.515625 41.375 12.890625 \nQ 45.40625 18.265625 45.40625 27.984375 \nz\nM 54.390625 6.78125 \nQ 54.390625 -7.171875 48.1875 -13.984375 \nQ 42 -20.796875 29.203125 -20.796875 \nQ 24.46875 -20.796875 20.265625 -20.09375 \nQ 16.0625 -19.390625 12.109375 -17.921875 \nL 12.109375 -9.1875 \nQ 16.0625 -11.328125 19.921875 -12.34375 \nQ 23.78125 -13.375 27.78125 -13.375 \nQ 36.625 -13.375 41.015625 -8.765625 \nQ 45.40625 -4.15625 45.40625 5.171875 \nL 45.40625 9.625 \nQ 42.625 4.78125 38.28125 2.390625 \nQ 33.9375 0 27.875 0 \nQ 17.828125 0 11.671875 7.65625 \nQ 5.515625 15.328125 5.515625 27.984375 \nQ 5.515625 40.671875 11.671875 48.328125 \nQ 17.828125 56 27.875 56 \nQ 33.9375 56 38.28125 53.609375 \nQ 42.625 51.21875 45.40625 46.390625 \nL 45.40625 54.6875 \nL 54.390625 54.6875 \nz\n\" id=\"DejaVuSans-103\"/>\n      </defs>\n      <g transform=\"translate(414.885937 363.076562)scale(0.1 -0.1)\">\n       <use xlink:href=\"#DejaVuSans-68\"/>\n       <use x=\"77.001953\" xlink:href=\"#DejaVuSans-114\"/>\n       <use x=\"108.990234\" xlink:href=\"#DejaVuSans-46\"/>\n       <use x=\"140.777344\" xlink:href=\"#DejaVuSans-32\"/>\n       <use x=\"172.564453\" xlink:href=\"#DejaVuSans-87\"/>\n       <use x=\"265.566406\" xlink:href=\"#DejaVuSans-111\"/>\n       <use x=\"326.748047\" xlink:href=\"#DejaVuSans-110\"/>\n       <use x=\"390.126953\" xlink:href=\"#DejaVuSans-103\"/>\n      </g>\n     </g>\n    </g>\n    <g id=\"text_5\">\n     <!-- Doctor Name -->\n     <defs>\n      <path d=\"M 48.78125 52.59375 \nL 48.78125 44.1875 \nQ 44.96875 46.296875 41.140625 47.34375 \nQ 37.3125 48.390625 33.40625 48.390625 \nQ 24.65625 48.390625 19.8125 42.84375 \nQ 14.984375 37.3125 14.984375 27.296875 \nQ 14.984375 17.28125 19.8125 11.734375 \nQ 24.65625 6.203125 33.40625 6.203125 \nQ 37.3125 6.203125 41.140625 7.25 \nQ 44.96875 8.296875 48.78125 10.40625 \nL 48.78125 2.09375 \nQ 45.015625 0.34375 40.984375 -0.53125 \nQ 36.96875 -1.421875 32.421875 -1.421875 \nQ 20.0625 -1.421875 12.78125 6.34375 \nQ 5.515625 14.109375 5.515625 27.296875 \nQ 5.515625 40.671875 12.859375 48.328125 \nQ 20.21875 56 33.015625 56 \nQ 37.15625 56 41.109375 55.140625 \nQ 45.0625 54.296875 48.78125 52.59375 \nz\n\" id=\"DejaVuSans-99\"/>\n      <path d=\"M 9.8125 72.90625 \nL 23.09375 72.90625 \nL 55.421875 11.921875 \nL 55.421875 72.90625 \nL 64.984375 72.90625 \nL 64.984375 0 \nL 51.703125 0 \nL 19.390625 60.984375 \nL 19.390625 0 \nL 9.8125 0 \nz\n\" id=\"DejaVuSans-78\"/>\n      <path d=\"M 34.28125 27.484375 \nQ 23.390625 27.484375 19.1875 25 \nQ 14.984375 22.515625 14.984375 16.5 \nQ 14.984375 11.71875 18.140625 8.90625 \nQ 21.296875 6.109375 26.703125 6.109375 \nQ 34.1875 6.109375 38.703125 11.40625 \nQ 43.21875 16.703125 43.21875 25.484375 \nL 43.21875 27.484375 \nz\nM 52.203125 31.203125 \nL 52.203125 0 \nL 43.21875 0 \nL 43.21875 8.296875 \nQ 40.140625 3.328125 35.546875 0.953125 \nQ 30.953125 -1.421875 24.3125 -1.421875 \nQ 15.921875 -1.421875 10.953125 3.296875 \nQ 6 8.015625 6 15.921875 \nQ 6 25.140625 12.171875 29.828125 \nQ 18.359375 34.515625 30.609375 34.515625 \nL 43.21875 34.515625 \nL 43.21875 35.40625 \nQ 43.21875 41.609375 39.140625 45 \nQ 35.0625 48.390625 27.6875 48.390625 \nQ 23 48.390625 18.546875 47.265625 \nQ 14.109375 46.140625 10.015625 43.890625 \nL 10.015625 52.203125 \nQ 14.9375 54.109375 19.578125 55.046875 \nQ 24.21875 56 28.609375 56 \nQ 40.484375 56 46.34375 49.84375 \nQ 52.203125 43.703125 52.203125 31.203125 \nz\n\" id=\"DejaVuSans-97\"/>\n     </defs>\n     <g transform=\"translate(237.091406 376.754687)scale(0.1 -0.1)\">\n      <use xlink:href=\"#DejaVuSans-68\"/>\n      <use x=\"77.001953\" xlink:href=\"#DejaVuSans-111\"/>\n      <use x=\"138.183594\" xlink:href=\"#DejaVuSans-99\"/>\n      <use x=\"193.164062\" xlink:href=\"#DejaVuSans-116\"/>\n      <use x=\"232.373047\" xlink:href=\"#DejaVuSans-111\"/>\n      <use x=\"293.554688\" xlink:href=\"#DejaVuSans-114\"/>\n      <use x=\"334.667969\" xlink:href=\"#DejaVuSans-32\"/>\n      <use x=\"366.455078\" xlink:href=\"#DejaVuSans-78\"/>\n      <use x=\"441.259766\" xlink:href=\"#DejaVuSans-97\"/>\n      <use x=\"502.539062\" xlink:href=\"#DejaVuSans-109\"/>\n      <use x=\"599.951172\" xlink:href=\"#DejaVuSans-101\"/>\n     </g>\n    </g>\n   </g>\n   <g id=\"matplotlib.axis_2\">\n    <g id=\"ytick_1\">\n     <g id=\"line2d_5\">\n      <defs>\n       <path d=\"M 0 0 \nL -3.5 0 \n\" id=\"m1cef9e34e7\" style=\"stroke:#000000;stroke-width:0.8;\"/>\n      </defs>\n      <g>\n       <use style=\"stroke:#000000;stroke-width:0.8;\" x=\"46.965625\" xlink:href=\"#m1cef9e34e7\" y=\"348.478125\"/>\n      </g>\n     </g>\n     <g id=\"text_6\">\n      <!-- 0 -->\n      <defs>\n       <path d=\"M 31.78125 66.40625 \nQ 24.171875 66.40625 20.328125 58.90625 \nQ 16.5 51.421875 16.5 36.375 \nQ 16.5 21.390625 20.328125 13.890625 \nQ 24.171875 6.390625 31.78125 6.390625 \nQ 39.453125 6.390625 43.28125 13.890625 \nQ 47.125 21.390625 47.125 36.375 \nQ 47.125 51.421875 43.28125 58.90625 \nQ 39.453125 66.40625 31.78125 66.40625 \nz\nM 31.78125 74.21875 \nQ 44.046875 74.21875 50.515625 64.515625 \nQ 56.984375 54.828125 56.984375 36.375 \nQ 56.984375 17.96875 50.515625 8.265625 \nQ 44.046875 -1.421875 31.78125 -1.421875 \nQ 19.53125 -1.421875 13.0625 8.265625 \nQ 6.59375 17.96875 6.59375 36.375 \nQ 6.59375 54.828125 13.0625 64.515625 \nQ 19.53125 74.21875 31.78125 74.21875 \nz\n\" id=\"DejaVuSans-48\"/>\n      </defs>\n      <g transform=\"translate(33.603125 352.277344)scale(0.1 -0.1)\">\n       <use xlink:href=\"#DejaVuSans-48\"/>\n      </g>\n     </g>\n    </g>\n    <g id=\"ytick_2\">\n     <g id=\"line2d_6\">\n      <g>\n       <use style=\"stroke:#000000;stroke-width:0.8;\" x=\"46.965625\" xlink:href=\"#m1cef9e34e7\" y=\"299.56024\"/>\n      </g>\n     </g>\n     <g id=\"text_7\">\n      <!-- 20 -->\n      <defs>\n       <path d=\"M 19.1875 8.296875 \nL 53.609375 8.296875 \nL 53.609375 0 \nL 7.328125 0 \nL 7.328125 8.296875 \nQ 12.9375 14.109375 22.625 23.890625 \nQ 32.328125 33.6875 34.8125 36.53125 \nQ 39.546875 41.84375 41.421875 45.53125 \nQ 43.3125 49.21875 43.3125 52.78125 \nQ 43.3125 58.59375 39.234375 62.25 \nQ 35.15625 65.921875 28.609375 65.921875 \nQ 23.96875 65.921875 18.8125 64.3125 \nQ 13.671875 62.703125 7.8125 59.421875 \nL 7.8125 69.390625 \nQ 13.765625 71.78125 18.9375 73 \nQ 24.125 74.21875 28.421875 74.21875 \nQ 39.75 74.21875 46.484375 68.546875 \nQ 53.21875 62.890625 53.21875 53.421875 \nQ 53.21875 48.921875 51.53125 44.890625 \nQ 49.859375 40.875 45.40625 35.40625 \nQ 44.1875 33.984375 37.640625 27.21875 \nQ 31.109375 20.453125 19.1875 8.296875 \nz\n\" id=\"DejaVuSans-50\"/>\n      </defs>\n      <g transform=\"translate(27.240625 303.359458)scale(0.1 -0.1)\">\n       <use xlink:href=\"#DejaVuSans-50\"/>\n       <use x=\"63.623047\" xlink:href=\"#DejaVuSans-48\"/>\n      </g>\n     </g>\n    </g>\n    <g id=\"ytick_3\">\n     <g id=\"line2d_7\">\n      <g>\n       <use style=\"stroke:#000000;stroke-width:0.8;\" x=\"46.965625\" xlink:href=\"#m1cef9e34e7\" y=\"250.642354\"/>\n      </g>\n     </g>\n     <g id=\"text_8\">\n      <!-- 40 -->\n      <defs>\n       <path d=\"M 37.796875 64.3125 \nL 12.890625 25.390625 \nL 37.796875 25.390625 \nz\nM 35.203125 72.90625 \nL 47.609375 72.90625 \nL 47.609375 25.390625 \nL 58.015625 25.390625 \nL 58.015625 17.1875 \nL 47.609375 17.1875 \nL 47.609375 0 \nL 37.796875 0 \nL 37.796875 17.1875 \nL 4.890625 17.1875 \nL 4.890625 26.703125 \nz\n\" id=\"DejaVuSans-52\"/>\n      </defs>\n      <g transform=\"translate(27.240625 254.441573)scale(0.1 -0.1)\">\n       <use xlink:href=\"#DejaVuSans-52\"/>\n       <use x=\"63.623047\" xlink:href=\"#DejaVuSans-48\"/>\n      </g>\n     </g>\n    </g>\n    <g id=\"ytick_4\">\n     <g id=\"line2d_8\">\n      <g>\n       <use style=\"stroke:#000000;stroke-width:0.8;\" x=\"46.965625\" xlink:href=\"#m1cef9e34e7\" y=\"201.724469\"/>\n      </g>\n     </g>\n     <g id=\"text_9\">\n      <!-- 60 -->\n      <defs>\n       <path d=\"M 33.015625 40.375 \nQ 26.375 40.375 22.484375 35.828125 \nQ 18.609375 31.296875 18.609375 23.390625 \nQ 18.609375 15.53125 22.484375 10.953125 \nQ 26.375 6.390625 33.015625 6.390625 \nQ 39.65625 6.390625 43.53125 10.953125 \nQ 47.40625 15.53125 47.40625 23.390625 \nQ 47.40625 31.296875 43.53125 35.828125 \nQ 39.65625 40.375 33.015625 40.375 \nz\nM 52.59375 71.296875 \nL 52.59375 62.3125 \nQ 48.875 64.0625 45.09375 64.984375 \nQ 41.3125 65.921875 37.59375 65.921875 \nQ 27.828125 65.921875 22.671875 59.328125 \nQ 17.53125 52.734375 16.796875 39.40625 \nQ 19.671875 43.65625 24.015625 45.921875 \nQ 28.375 48.1875 33.59375 48.1875 \nQ 44.578125 48.1875 50.953125 41.515625 \nQ 57.328125 34.859375 57.328125 23.390625 \nQ 57.328125 12.15625 50.6875 5.359375 \nQ 44.046875 -1.421875 33.015625 -1.421875 \nQ 20.359375 -1.421875 13.671875 8.265625 \nQ 6.984375 17.96875 6.984375 36.375 \nQ 6.984375 53.65625 15.1875 63.9375 \nQ 23.390625 74.21875 37.203125 74.21875 \nQ 40.921875 74.21875 44.703125 73.484375 \nQ 48.484375 72.75 52.59375 71.296875 \nz\n\" id=\"DejaVuSans-54\"/>\n      </defs>\n      <g transform=\"translate(27.240625 205.523688)scale(0.1 -0.1)\">\n       <use xlink:href=\"#DejaVuSans-54\"/>\n       <use x=\"63.623047\" xlink:href=\"#DejaVuSans-48\"/>\n      </g>\n     </g>\n    </g>\n    <g id=\"ytick_5\">\n     <g id=\"line2d_9\">\n      <g>\n       <use style=\"stroke:#000000;stroke-width:0.8;\" x=\"46.965625\" xlink:href=\"#m1cef9e34e7\" y=\"152.806584\"/>\n      </g>\n     </g>\n     <g id=\"text_10\">\n      <!-- 80 -->\n      <defs>\n       <path d=\"M 31.78125 34.625 \nQ 24.75 34.625 20.71875 30.859375 \nQ 16.703125 27.09375 16.703125 20.515625 \nQ 16.703125 13.921875 20.71875 10.15625 \nQ 24.75 6.390625 31.78125 6.390625 \nQ 38.8125 6.390625 42.859375 10.171875 \nQ 46.921875 13.96875 46.921875 20.515625 \nQ 46.921875 27.09375 42.890625 30.859375 \nQ 38.875 34.625 31.78125 34.625 \nz\nM 21.921875 38.8125 \nQ 15.578125 40.375 12.03125 44.71875 \nQ 8.5 49.078125 8.5 55.328125 \nQ 8.5 64.0625 14.71875 69.140625 \nQ 20.953125 74.21875 31.78125 74.21875 \nQ 42.671875 74.21875 48.875 69.140625 \nQ 55.078125 64.0625 55.078125 55.328125 \nQ 55.078125 49.078125 51.53125 44.71875 \nQ 48 40.375 41.703125 38.8125 \nQ 48.828125 37.15625 52.796875 32.3125 \nQ 56.78125 27.484375 56.78125 20.515625 \nQ 56.78125 9.90625 50.3125 4.234375 \nQ 43.84375 -1.421875 31.78125 -1.421875 \nQ 19.734375 -1.421875 13.25 4.234375 \nQ 6.78125 9.90625 6.78125 20.515625 \nQ 6.78125 27.484375 10.78125 32.3125 \nQ 14.796875 37.15625 21.921875 38.8125 \nz\nM 18.3125 54.390625 \nQ 18.3125 48.734375 21.84375 45.5625 \nQ 25.390625 42.390625 31.78125 42.390625 \nQ 38.140625 42.390625 41.71875 45.5625 \nQ 45.3125 48.734375 45.3125 54.390625 \nQ 45.3125 60.0625 41.71875 63.234375 \nQ 38.140625 66.40625 31.78125 66.40625 \nQ 25.390625 66.40625 21.84375 63.234375 \nQ 18.3125 60.0625 18.3125 54.390625 \nz\n\" id=\"DejaVuSans-56\"/>\n      </defs>\n      <g transform=\"translate(27.240625 156.605803)scale(0.1 -0.1)\">\n       <use xlink:href=\"#DejaVuSans-56\"/>\n       <use x=\"63.623047\" xlink:href=\"#DejaVuSans-48\"/>\n      </g>\n     </g>\n    </g>\n    <g id=\"ytick_6\">\n     <g id=\"line2d_10\">\n      <g>\n       <use style=\"stroke:#000000;stroke-width:0.8;\" x=\"46.965625\" xlink:href=\"#m1cef9e34e7\" y=\"103.888699\"/>\n      </g>\n     </g>\n     <g id=\"text_11\">\n      <!-- 100 -->\n      <defs>\n       <path d=\"M 12.40625 8.296875 \nL 28.515625 8.296875 \nL 28.515625 63.921875 \nL 10.984375 60.40625 \nL 10.984375 69.390625 \nL 28.421875 72.90625 \nL 38.28125 72.90625 \nL 38.28125 8.296875 \nL 54.390625 8.296875 \nL 54.390625 0 \nL 12.40625 0 \nz\n\" id=\"DejaVuSans-49\"/>\n      </defs>\n      <g transform=\"translate(20.878125 107.687917)scale(0.1 -0.1)\">\n       <use xlink:href=\"#DejaVuSans-49\"/>\n       <use x=\"63.623047\" xlink:href=\"#DejaVuSans-48\"/>\n       <use x=\"127.246094\" xlink:href=\"#DejaVuSans-48\"/>\n      </g>\n     </g>\n    </g>\n    <g id=\"ytick_7\">\n     <g id=\"line2d_11\">\n      <g>\n       <use style=\"stroke:#000000;stroke-width:0.8;\" x=\"46.965625\" xlink:href=\"#m1cef9e34e7\" y=\"54.970813\"/>\n      </g>\n     </g>\n     <g id=\"text_12\">\n      <!-- 120 -->\n      <g transform=\"translate(20.878125 58.770032)scale(0.1 -0.1)\">\n       <use xlink:href=\"#DejaVuSans-49\"/>\n       <use x=\"63.623047\" xlink:href=\"#DejaVuSans-50\"/>\n       <use x=\"127.246094\" xlink:href=\"#DejaVuSans-48\"/>\n      </g>\n     </g>\n    </g>\n    <g id=\"text_13\">\n     <!-- Count -->\n     <defs>\n      <path d=\"M 64.40625 67.28125 \nL 64.40625 56.890625 \nQ 59.421875 61.53125 53.78125 63.8125 \nQ 48.140625 66.109375 41.796875 66.109375 \nQ 29.296875 66.109375 22.65625 58.46875 \nQ 16.015625 50.828125 16.015625 36.375 \nQ 16.015625 21.96875 22.65625 14.328125 \nQ 29.296875 6.6875 41.796875 6.6875 \nQ 48.140625 6.6875 53.78125 8.984375 \nQ 59.421875 11.28125 64.40625 15.921875 \nL 64.40625 5.609375 \nQ 59.234375 2.09375 53.4375 0.328125 \nQ 47.65625 -1.421875 41.21875 -1.421875 \nQ 24.65625 -1.421875 15.125 8.703125 \nQ 5.609375 18.84375 5.609375 36.375 \nQ 5.609375 53.953125 15.125 64.078125 \nQ 24.65625 74.21875 41.21875 74.21875 \nQ 47.75 74.21875 53.53125 72.484375 \nQ 59.328125 70.75 64.40625 67.28125 \nz\n\" id=\"DejaVuSans-67\"/>\n      <path d=\"M 8.5 21.578125 \nL 8.5 54.6875 \nL 17.484375 54.6875 \nL 17.484375 21.921875 \nQ 17.484375 14.15625 20.5 10.265625 \nQ 23.53125 6.390625 29.59375 6.390625 \nQ 36.859375 6.390625 41.078125 11.03125 \nQ 45.3125 15.671875 45.3125 23.6875 \nL 45.3125 54.6875 \nL 54.296875 54.6875 \nL 54.296875 0 \nL 45.3125 0 \nL 45.3125 8.40625 \nQ 42.046875 3.421875 37.71875 1 \nQ 33.40625 -1.421875 27.6875 -1.421875 \nQ 18.265625 -1.421875 13.375 4.4375 \nQ 8.5 10.296875 8.5 21.578125 \nz\nM 31.109375 56 \nz\n\" id=\"DejaVuSans-117\"/>\n     </defs>\n     <g transform=\"translate(14.798437 200.246562)rotate(-90)scale(0.1 -0.1)\">\n      <use xlink:href=\"#DejaVuSans-67\"/>\n      <use x=\"69.824219\" xlink:href=\"#DejaVuSans-111\"/>\n      <use x=\"131.005859\" xlink:href=\"#DejaVuSans-117\"/>\n      <use x=\"194.384766\" xlink:href=\"#DejaVuSans-110\"/>\n      <use x=\"257.763672\" xlink:href=\"#DejaVuSans-116\"/>\n     </g>\n    </g>\n   </g>\n   <g id=\"line2d_12\">\n    <path clip-path=\"url(#p6b133efe7f)\" d=\"M 0 0 \n\" style=\"fill:none;stroke:#424242;stroke-linecap:square;stroke-width:2.7;\"/>\n   </g>\n   <g id=\"line2d_13\">\n    <path clip-path=\"url(#p6b133efe7f)\" d=\"M 0 0 \n\" style=\"fill:none;stroke:#424242;stroke-linecap:square;stroke-width:2.7;\"/>\n   </g>\n   <g id=\"line2d_14\">\n    <path clip-path=\"url(#p6b133efe7f)\" d=\"M 0 0 \n\" style=\"fill:none;stroke:#424242;stroke-linecap:square;stroke-width:2.7;\"/>\n   </g>\n   <g id=\"line2d_15\">\n    <path clip-path=\"url(#p6b133efe7f)\" d=\"M 0 0 \n\" style=\"fill:none;stroke:#424242;stroke-linecap:square;stroke-width:2.7;\"/>\n   </g>\n   <g id=\"line2d_16\">\n    <path clip-path=\"url(#p6b133efe7f)\" d=\"M 0 0 \n\" style=\"fill:none;stroke:#424242;stroke-linecap:square;stroke-width:2.7;\"/>\n   </g>\n   <g id=\"line2d_17\">\n    <path clip-path=\"url(#p6b133efe7f)\" d=\"M 0 0 \n\" style=\"fill:none;stroke:#424242;stroke-linecap:square;stroke-width:2.7;\"/>\n   </g>\n   <g id=\"line2d_18\">\n    <path clip-path=\"url(#p6b133efe7f)\" d=\"M 0 0 \n\" style=\"fill:none;stroke:#424242;stroke-linecap:square;stroke-width:2.7;\"/>\n   </g>\n   <g id=\"line2d_19\">\n    <path clip-path=\"url(#p6b133efe7f)\" d=\"M 0 0 \n\" style=\"fill:none;stroke:#424242;stroke-linecap:square;stroke-width:2.7;\"/>\n   </g>\n   <g id=\"patch_11\">\n    <path d=\"M 46.965625 348.478125 \nL 46.965625 22.318125 \n\" style=\"fill:none;stroke:#000000;stroke-linecap:square;stroke-linejoin:miter;stroke-width:0.8;\"/>\n   </g>\n   <g id=\"patch_12\">\n    <path d=\"M 493.365625 348.478125 \nL 493.365625 22.318125 \n\" style=\"fill:none;stroke:#000000;stroke-linecap:square;stroke-linejoin:miter;stroke-width:0.8;\"/>\n   </g>\n   <g id=\"patch_13\">\n    <path d=\"M 46.965625 348.478125 \nL 493.365625 348.478125 \n\" style=\"fill:none;stroke:#000000;stroke-linecap:square;stroke-linejoin:miter;stroke-width:0.8;\"/>\n   </g>\n   <g id=\"patch_14\">\n    <path d=\"M 46.965625 22.318125 \nL 493.365625 22.318125 \n\" style=\"fill:none;stroke:#000000;stroke-linecap:square;stroke-linejoin:miter;stroke-width:0.8;\"/>\n   </g>\n   <g id=\"text_14\">\n    <!-- Repartion of patient type attributed to MCTI doctors -->\n    <defs>\n     <path d=\"M 44.390625 34.1875 \nQ 47.5625 33.109375 50.5625 29.59375 \nQ 53.5625 26.078125 56.59375 19.921875 \nL 66.609375 0 \nL 56 0 \nL 46.6875 18.703125 \nQ 43.0625 26.03125 39.671875 28.421875 \nQ 36.28125 30.8125 30.421875 30.8125 \nL 19.671875 30.8125 \nL 19.671875 0 \nL 9.8125 0 \nL 9.8125 72.90625 \nL 32.078125 72.90625 \nQ 44.578125 72.90625 50.734375 67.671875 \nQ 56.890625 62.453125 56.890625 51.90625 \nQ 56.890625 45.015625 53.6875 40.46875 \nQ 50.484375 35.9375 44.390625 34.1875 \nz\nM 19.671875 64.796875 \nL 19.671875 38.921875 \nL 32.078125 38.921875 \nQ 39.203125 38.921875 42.84375 42.21875 \nQ 46.484375 45.515625 46.484375 51.90625 \nQ 46.484375 58.296875 42.84375 61.546875 \nQ 39.203125 64.796875 32.078125 64.796875 \nz\n\" id=\"DejaVuSans-82\"/>\n     <path d=\"M 18.109375 8.203125 \nL 18.109375 -20.796875 \nL 9.078125 -20.796875 \nL 9.078125 54.6875 \nL 18.109375 54.6875 \nL 18.109375 46.390625 \nQ 20.953125 51.265625 25.265625 53.625 \nQ 29.59375 56 35.59375 56 \nQ 45.5625 56 51.78125 48.09375 \nQ 58.015625 40.1875 58.015625 27.296875 \nQ 58.015625 14.40625 51.78125 6.484375 \nQ 45.5625 -1.421875 35.59375 -1.421875 \nQ 29.59375 -1.421875 25.265625 0.953125 \nQ 20.953125 3.328125 18.109375 8.203125 \nz\nM 48.6875 27.296875 \nQ 48.6875 37.203125 44.609375 42.84375 \nQ 40.53125 48.484375 33.40625 48.484375 \nQ 26.265625 48.484375 22.1875 42.84375 \nQ 18.109375 37.203125 18.109375 27.296875 \nQ 18.109375 17.390625 22.1875 11.75 \nQ 26.265625 6.109375 33.40625 6.109375 \nQ 40.53125 6.109375 44.609375 11.75 \nQ 48.6875 17.390625 48.6875 27.296875 \nz\n\" id=\"DejaVuSans-112\"/>\n     <path d=\"M 37.109375 75.984375 \nL 37.109375 68.5 \nL 28.515625 68.5 \nQ 23.6875 68.5 21.796875 66.546875 \nQ 19.921875 64.59375 19.921875 59.515625 \nL 19.921875 54.6875 \nL 34.71875 54.6875 \nL 34.71875 47.703125 \nL 19.921875 47.703125 \nL 19.921875 0 \nL 10.890625 0 \nL 10.890625 47.703125 \nL 2.296875 47.703125 \nL 2.296875 54.6875 \nL 10.890625 54.6875 \nL 10.890625 58.5 \nQ 10.890625 67.625 15.140625 71.796875 \nQ 19.390625 75.984375 28.609375 75.984375 \nz\n\" id=\"DejaVuSans-102\"/>\n     <path d=\"M 32.171875 -5.078125 \nQ 28.375 -14.84375 24.75 -17.8125 \nQ 21.140625 -20.796875 15.09375 -20.796875 \nL 7.90625 -20.796875 \nL 7.90625 -13.28125 \nL 13.1875 -13.28125 \nQ 16.890625 -13.28125 18.9375 -11.515625 \nQ 21 -9.765625 23.484375 -3.21875 \nL 25.09375 0.875 \nL 2.984375 54.6875 \nL 12.5 54.6875 \nL 29.59375 11.921875 \nL 46.6875 54.6875 \nL 56.203125 54.6875 \nz\n\" id=\"DejaVuSans-121\"/>\n     <path d=\"M 48.6875 27.296875 \nQ 48.6875 37.203125 44.609375 42.84375 \nQ 40.53125 48.484375 33.40625 48.484375 \nQ 26.265625 48.484375 22.1875 42.84375 \nQ 18.109375 37.203125 18.109375 27.296875 \nQ 18.109375 17.390625 22.1875 11.75 \nQ 26.265625 6.109375 33.40625 6.109375 \nQ 40.53125 6.109375 44.609375 11.75 \nQ 48.6875 17.390625 48.6875 27.296875 \nz\nM 18.109375 46.390625 \nQ 20.953125 51.265625 25.265625 53.625 \nQ 29.59375 56 35.59375 56 \nQ 45.5625 56 51.78125 48.09375 \nQ 58.015625 40.1875 58.015625 27.296875 \nQ 58.015625 14.40625 51.78125 6.484375 \nQ 45.5625 -1.421875 35.59375 -1.421875 \nQ 29.59375 -1.421875 25.265625 0.953125 \nQ 20.953125 3.328125 18.109375 8.203125 \nL 18.109375 0 \nL 9.078125 0 \nL 9.078125 75.984375 \nL 18.109375 75.984375 \nz\n\" id=\"DejaVuSans-98\"/>\n     <path d=\"M 45.40625 46.390625 \nL 45.40625 75.984375 \nL 54.390625 75.984375 \nL 54.390625 0 \nL 45.40625 0 \nL 45.40625 8.203125 \nQ 42.578125 3.328125 38.25 0.953125 \nQ 33.9375 -1.421875 27.875 -1.421875 \nQ 17.96875 -1.421875 11.734375 6.484375 \nQ 5.515625 14.40625 5.515625 27.296875 \nQ 5.515625 40.1875 11.734375 48.09375 \nQ 17.96875 56 27.875 56 \nQ 33.9375 56 38.25 53.625 \nQ 42.578125 51.265625 45.40625 46.390625 \nz\nM 14.796875 27.296875 \nQ 14.796875 17.390625 18.875 11.75 \nQ 22.953125 6.109375 30.078125 6.109375 \nQ 37.203125 6.109375 41.296875 11.75 \nQ 45.40625 17.390625 45.40625 27.296875 \nQ 45.40625 37.203125 41.296875 42.84375 \nQ 37.203125 48.484375 30.078125 48.484375 \nQ 22.953125 48.484375 18.875 42.84375 \nQ 14.796875 37.203125 14.796875 27.296875 \nz\n\" id=\"DejaVuSans-100\"/>\n     <path d=\"M 9.8125 72.90625 \nL 24.515625 72.90625 \nL 43.109375 23.296875 \nL 61.8125 72.90625 \nL 76.515625 72.90625 \nL 76.515625 0 \nL 66.890625 0 \nL 66.890625 64.015625 \nL 48.09375 14.015625 \nL 38.1875 14.015625 \nL 19.390625 64.015625 \nL 19.390625 0 \nL 9.8125 0 \nz\n\" id=\"DejaVuSans-77\"/>\n     <path d=\"M -0.296875 72.90625 \nL 61.375 72.90625 \nL 61.375 64.59375 \nL 35.5 64.59375 \nL 35.5 0 \nL 25.59375 0 \nL 25.59375 64.59375 \nL -0.296875 64.59375 \nz\n\" id=\"DejaVuSans-84\"/>\n     <path d=\"M 9.8125 72.90625 \nL 19.671875 72.90625 \nL 19.671875 0 \nL 9.8125 0 \nz\n\" id=\"DejaVuSans-73\"/>\n     <path d=\"M 44.28125 53.078125 \nL 44.28125 44.578125 \nQ 40.484375 46.53125 36.375 47.5 \nQ 32.28125 48.484375 27.875 48.484375 \nQ 21.1875 48.484375 17.84375 46.4375 \nQ 14.5 44.390625 14.5 40.28125 \nQ 14.5 37.15625 16.890625 35.375 \nQ 19.28125 33.59375 26.515625 31.984375 \nL 29.59375 31.296875 \nQ 39.15625 29.25 43.1875 25.515625 \nQ 47.21875 21.78125 47.21875 15.09375 \nQ 47.21875 7.46875 41.1875 3.015625 \nQ 35.15625 -1.421875 24.609375 -1.421875 \nQ 20.21875 -1.421875 15.453125 -0.5625 \nQ 10.6875 0.296875 5.421875 2 \nL 5.421875 11.28125 \nQ 10.40625 8.6875 15.234375 7.390625 \nQ 20.0625 6.109375 24.8125 6.109375 \nQ 31.15625 6.109375 34.5625 8.28125 \nQ 37.984375 10.453125 37.984375 14.40625 \nQ 37.984375 18.0625 35.515625 20.015625 \nQ 33.0625 21.96875 24.703125 23.78125 \nL 21.578125 24.515625 \nQ 13.234375 26.265625 9.515625 29.90625 \nQ 5.8125 33.546875 5.8125 39.890625 \nQ 5.8125 47.609375 11.28125 51.796875 \nQ 16.75 56 26.8125 56 \nQ 31.78125 56 36.171875 55.265625 \nQ 40.578125 54.546875 44.28125 53.078125 \nz\n\" id=\"DejaVuSans-115\"/>\n    </defs>\n    <g transform=\"translate(114.042812 16.318125)scale(0.12 -0.12)\">\n     <use xlink:href=\"#DejaVuSans-82\"/>\n     <use x=\"64.982422\" xlink:href=\"#DejaVuSans-101\"/>\n     <use x=\"126.505859\" xlink:href=\"#DejaVuSans-112\"/>\n     <use x=\"189.982422\" xlink:href=\"#DejaVuSans-97\"/>\n     <use x=\"251.261719\" xlink:href=\"#DejaVuSans-114\"/>\n     <use x=\"292.375\" xlink:href=\"#DejaVuSans-116\"/>\n     <use x=\"331.583984\" xlink:href=\"#DejaVuSans-105\"/>\n     <use x=\"359.367188\" xlink:href=\"#DejaVuSans-111\"/>\n     <use x=\"420.548828\" xlink:href=\"#DejaVuSans-110\"/>\n     <use x=\"483.927734\" xlink:href=\"#DejaVuSans-32\"/>\n     <use x=\"515.714844\" xlink:href=\"#DejaVuSans-111\"/>\n     <use x=\"576.896484\" xlink:href=\"#DejaVuSans-102\"/>\n     <use x=\"612.101562\" xlink:href=\"#DejaVuSans-32\"/>\n     <use x=\"643.888672\" xlink:href=\"#DejaVuSans-112\"/>\n     <use x=\"707.365234\" xlink:href=\"#DejaVuSans-97\"/>\n     <use x=\"768.644531\" xlink:href=\"#DejaVuSans-116\"/>\n     <use x=\"807.853516\" xlink:href=\"#DejaVuSans-105\"/>\n     <use x=\"835.636719\" xlink:href=\"#DejaVuSans-101\"/>\n     <use x=\"897.160156\" xlink:href=\"#DejaVuSans-110\"/>\n     <use x=\"960.539062\" xlink:href=\"#DejaVuSans-116\"/>\n     <use x=\"999.748047\" xlink:href=\"#DejaVuSans-32\"/>\n     <use x=\"1031.535156\" xlink:href=\"#DejaVuSans-116\"/>\n     <use x=\"1070.744141\" xlink:href=\"#DejaVuSans-121\"/>\n     <use x=\"1129.923828\" xlink:href=\"#DejaVuSans-112\"/>\n     <use x=\"1193.400391\" xlink:href=\"#DejaVuSans-101\"/>\n     <use x=\"1254.923828\" xlink:href=\"#DejaVuSans-32\"/>\n     <use x=\"1286.710938\" xlink:href=\"#DejaVuSans-97\"/>\n     <use x=\"1347.990234\" xlink:href=\"#DejaVuSans-116\"/>\n     <use x=\"1387.199219\" xlink:href=\"#DejaVuSans-116\"/>\n     <use x=\"1426.408203\" xlink:href=\"#DejaVuSans-114\"/>\n     <use x=\"1467.521484\" xlink:href=\"#DejaVuSans-105\"/>\n     <use x=\"1495.304688\" xlink:href=\"#DejaVuSans-98\"/>\n     <use x=\"1558.78125\" xlink:href=\"#DejaVuSans-117\"/>\n     <use x=\"1622.160156\" xlink:href=\"#DejaVuSans-116\"/>\n     <use x=\"1661.369141\" xlink:href=\"#DejaVuSans-101\"/>\n     <use x=\"1722.892578\" xlink:href=\"#DejaVuSans-100\"/>\n     <use x=\"1786.369141\" xlink:href=\"#DejaVuSans-32\"/>\n     <use x=\"1818.15625\" xlink:href=\"#DejaVuSans-116\"/>\n     <use x=\"1857.365234\" xlink:href=\"#DejaVuSans-111\"/>\n     <use x=\"1918.546875\" xlink:href=\"#DejaVuSans-32\"/>\n     <use x=\"1950.333984\" xlink:href=\"#DejaVuSans-77\"/>\n     <use x=\"2036.613281\" xlink:href=\"#DejaVuSans-67\"/>\n     <use x=\"2106.4375\" xlink:href=\"#DejaVuSans-84\"/>\n     <use x=\"2167.521484\" xlink:href=\"#DejaVuSans-73\"/>\n     <use x=\"2197.013672\" xlink:href=\"#DejaVuSans-32\"/>\n     <use x=\"2228.800781\" xlink:href=\"#DejaVuSans-100\"/>\n     <use x=\"2292.277344\" xlink:href=\"#DejaVuSans-111\"/>\n     <use x=\"2353.458984\" xlink:href=\"#DejaVuSans-99\"/>\n     <use x=\"2408.439453\" xlink:href=\"#DejaVuSans-116\"/>\n     <use x=\"2447.648438\" xlink:href=\"#DejaVuSans-111\"/>\n     <use x=\"2508.830078\" xlink:href=\"#DejaVuSans-114\"/>\n     <use x=\"2549.943359\" xlink:href=\"#DejaVuSans-115\"/>\n    </g>\n   </g>\n   <g id=\"legend_1\">\n    <g id=\"patch_15\">\n     <path d=\"M 403.86875 74.3525 \nL 486.365625 74.3525 \nQ 488.365625 74.3525 488.365625 72.3525 \nL 488.365625 29.318125 \nQ 488.365625 27.318125 486.365625 27.318125 \nL 403.86875 27.318125 \nQ 401.86875 27.318125 401.86875 29.318125 \nL 401.86875 72.3525 \nQ 401.86875 74.3525 403.86875 74.3525 \nz\n\" style=\"fill:#ffffff;opacity:0.8;stroke:#cccccc;stroke-linejoin:miter;\"/>\n    </g>\n    <g id=\"text_15\">\n     <!-- Class -->\n     <defs>\n      <path d=\"M 9.421875 75.984375 \nL 18.40625 75.984375 \nL 18.40625 0 \nL 9.421875 0 \nz\n\" id=\"DejaVuSans-108\"/>\n     </defs>\n     <g transform=\"translate(431.963281 38.916562)scale(0.1 -0.1)\">\n      <use xlink:href=\"#DejaVuSans-67\"/>\n      <use x=\"69.824219\" xlink:href=\"#DejaVuSans-108\"/>\n      <use x=\"97.607422\" xlink:href=\"#DejaVuSans-97\"/>\n      <use x=\"158.886719\" xlink:href=\"#DejaVuSans-115\"/>\n      <use x=\"210.986328\" xlink:href=\"#DejaVuSans-115\"/>\n     </g>\n    </g>\n    <g id=\"line2d_20\">\n     <path d=\"M 405.86875 50.094687 \nL 425.86875 50.094687 \n\" style=\"fill:none;stroke:#424242;stroke-linecap:square;stroke-width:2.7;\"/>\n    </g>\n    <g id=\"line2d_21\"/>\n    <g id=\"text_16\">\n     <!-- benign -->\n     <g transform=\"translate(433.86875 53.594687)scale(0.1 -0.1)\">\n      <use xlink:href=\"#DejaVuSans-98\"/>\n      <use x=\"63.476562\" xlink:href=\"#DejaVuSans-101\"/>\n      <use x=\"125\" xlink:href=\"#DejaVuSans-110\"/>\n      <use x=\"188.378906\" xlink:href=\"#DejaVuSans-105\"/>\n      <use x=\"216.162109\" xlink:href=\"#DejaVuSans-103\"/>\n      <use x=\"279.638672\" xlink:href=\"#DejaVuSans-110\"/>\n     </g>\n    </g>\n    <g id=\"line2d_22\">\n     <path d=\"M 405.86875 64.772812 \nL 425.86875 64.772812 \n\" style=\"fill:none;stroke:#424242;stroke-linecap:square;stroke-width:2.7;\"/>\n    </g>\n    <g id=\"line2d_23\"/>\n    <g id=\"text_17\">\n     <!-- malignant -->\n     <g transform=\"translate(433.86875 68.272812)scale(0.1 -0.1)\">\n      <use xlink:href=\"#DejaVuSans-109\"/>\n      <use x=\"97.412109\" xlink:href=\"#DejaVuSans-97\"/>\n      <use x=\"158.691406\" xlink:href=\"#DejaVuSans-108\"/>\n      <use x=\"186.474609\" xlink:href=\"#DejaVuSans-105\"/>\n      <use x=\"214.257812\" xlink:href=\"#DejaVuSans-103\"/>\n      <use x=\"277.734375\" xlink:href=\"#DejaVuSans-110\"/>\n      <use x=\"341.113281\" xlink:href=\"#DejaVuSans-97\"/>\n      <use x=\"402.392578\" xlink:href=\"#DejaVuSans-110\"/>\n      <use x=\"465.771484\" xlink:href=\"#DejaVuSans-116\"/>\n     </g>\n    </g>\n   </g>\n  </g>\n </g>\n <defs>\n  <clipPath id=\"p6b133efe7f\">\n   <rect height=\"326.16\" width=\"446.4\" x=\"46.965625\" y=\"22.318125\"/>\n  </clipPath>\n </defs>\n</svg>\n",
      "image/png": "[encoded data removed]"
     },
     "metadata": {
      "needs_background": "light"
     }
    }
   ],
   "source": [
    "#### Question 8\n",
    "def get_table(breast_dataset, col1, col2):\n",
    "    patient_type_per_doctor = pd.DataFrame({'count': breast_dataset.groupby(by=[col1, col2]).size()}).reset_index() \n",
    "    return patient_type_per_doctor\n",
    "\n",
    "def display_barplot(table, title, width, height):\n",
    "    fig = plt.figure(figsize=(width,height))\n",
    "    sns.barplot(data=table, y='count', x='doctor_name', hue='class', palette=['gray', 'black'])\n",
    "    plt.xlabel('Doctor Name')\n",
    "    plt.ylabel('Count')\n",
    "    plt.legend(title='Class', labels={'benign':'gray', 'malignant':'red'}, loc='best')\n",
    "    plt.title(title)\n",
    "    plt.show()\n",
    "\n",
    "#### Question 9\n",
    "def main(title, width, height):\n",
    "    table = get_table(breast_dataset, 'doctor_name', 'class')\n",
    "    display_barplot(table, title, width, height)\n",
    "\n",
    "main('Repartion of patient type attributed to MCTI doctors', 8, 6)"
   ]
  },
  {
   "source": [
    "### II. Accessing, slicing and selecting data\n",
    "- Check this link if you want to all the secrets on <a href='https://pandas.pydata.org/pandas-docs/stable/user_guide/indexing.html'>indexing and selecting data</a>"
   ],
   "cell_type": "markdown",
   "metadata": {}
  },
  {
   "source": [
    "### 1. Accessing values from columns"
   ],
   "cell_type": "markdown",
   "metadata": {}
  },
  {
   "cell_type": "code",
   "execution_count": 250,
   "metadata": {},
   "outputs": [
    {
     "output_type": "execute_result",
     "data": {
      "text/plain": [
       "['patient_id',\n",
       " 'clump_thickness',\n",
       " 'cell_size_uniformity',\n",
       " 'cell_shape_uniformity',\n",
       " 'marginal_adhesion',\n",
       " 'single_ep_cell_size',\n",
       " 'bare_nuclei',\n",
       " 'bland_chromatin',\n",
       " 'normal_nucleoli',\n",
       " 'mitoses',\n",
       " 'class',\n",
       " 'doctor_name']"
      ]
     },
     "metadata": {},
     "execution_count": 250
    }
   ],
   "source": [
    " #### Collecting all column names in list\n",
    " list(breast_dataset.columns)"
   ]
  },
  {
   "cell_type": "code",
   "execution_count": 254,
   "metadata": {},
   "outputs": [
    {
     "output_type": "execute_result",
     "data": {
      "text/plain": [
       "     patient_id      class doctor_name\n",
       "0       1000025     benign     Dr. Doe\n",
       "1       1002945     benign   Dr. Smith\n",
       "2       1015425     benign     Dr. Lee\n",
       "3       1016277     benign   Dr. Smith\n",
       "4       1017023     benign    Dr. Wong\n",
       "..          ...        ...         ...\n",
       "685      776715     benign     Dr. Lee\n",
       "686      841769     benign   Dr. Smith\n",
       "687      888820  malignant     Dr. Lee\n",
       "688      897471  malignant     Dr. Lee\n",
       "689      897471  malignant    Dr. Wong\n",
       "\n",
       "[690 rows x 3 columns]"
      ],
      "text/html": "<div>\n<style scoped>\n    .dataframe tbody tr th:only-of-type {\n        vertical-align: middle;\n    }\n\n    .dataframe tbody tr th {\n        vertical-align: top;\n    }\n\n    .dataframe thead th {\n        text-align: right;\n    }\n</style>\n<table border=\"1\" class=\"dataframe\">\n  <thead>\n    <tr style=\"text-align: right;\">\n      <th></th>\n      <th>patient_id</th>\n      <th>class</th>\n      <th>doctor_name</th>\n    </tr>\n  </thead>\n  <tbody>\n    <tr>\n      <th>0</th>\n      <td>1000025</td>\n      <td>benign</td>\n      <td>Dr. Doe</td>\n    </tr>\n    <tr>\n      <th>1</th>\n      <td>1002945</td>\n      <td>benign</td>\n      <td>Dr. Smith</td>\n    </tr>\n    <tr>\n      <th>2</th>\n      <td>1015425</td>\n      <td>benign</td>\n      <td>Dr. Lee</td>\n    </tr>\n    <tr>\n      <th>3</th>\n      <td>1016277</td>\n      <td>benign</td>\n      <td>Dr. Smith</td>\n    </tr>\n    <tr>\n      <th>4</th>\n      <td>1017023</td>\n      <td>benign</td>\n      <td>Dr. Wong</td>\n    </tr>\n    <tr>\n      <th>...</th>\n      <td>...</td>\n      <td>...</td>\n      <td>...</td>\n    </tr>\n    <tr>\n      <th>685</th>\n      <td>776715</td>\n      <td>benign</td>\n      <td>Dr. Lee</td>\n    </tr>\n    <tr>\n      <th>686</th>\n      <td>841769</td>\n      <td>benign</td>\n      <td>Dr. Smith</td>\n    </tr>\n    <tr>\n      <th>687</th>\n      <td>888820</td>\n      <td>malignant</td>\n      <td>Dr. Lee</td>\n    </tr>\n    <tr>\n      <th>688</th>\n      <td>897471</td>\n      <td>malignant</td>\n      <td>Dr. Lee</td>\n    </tr>\n    <tr>\n      <th>689</th>\n      <td>897471</td>\n      <td>malignant</td>\n      <td>Dr. Wong</td>\n    </tr>\n  </tbody>\n</table>\n<p>690 rows × 3 columns</p>\n</div>"
     },
     "metadata": {},
     "execution_count": 254
    }
   ],
   "source": [
    "#### Make a dataframe with the values that you find interesting (for example we could have get this table for the extra questions)\n",
    "breast_dataset[['patient_id','class','doctor_name']]"
   ]
  },
  {
   "source": [
    "### 2. Select specific rows in the table based on their index"
   ],
   "cell_type": "markdown",
   "metadata": {}
  },
  {
   "cell_type": "code",
   "execution_count": 248,
   "metadata": {},
   "outputs": [
    {
     "output_type": "execute_result",
     "data": {
      "text/plain": [
       "patient_id                 1017122\n",
       "clump_thickness                  8\n",
       "cell_size_uniformity            10\n",
       "cell_shape_uniformity           10\n",
       "marginal_adhesion                8\n",
       "single_ep_cell_size              7\n",
       "bare_nuclei                     10\n",
       "bland_chromatin                  9\n",
       "normal_nucleoli                  7\n",
       "mitoses                          1\n",
       "class                    malignant\n",
       "doctor_name              Dr. Smith\n",
       "Name: 5, dtype: object"
      ]
     },
     "metadata": {},
     "execution_count": 248
    }
   ],
   "source": [
    "#### Collecting the information for one row\n",
    "breast_dataset.iloc[5]"
   ]
  },
  {
   "cell_type": "code",
   "execution_count": 246,
   "metadata": {},
   "outputs": [
    {
     "output_type": "execute_result",
     "data": {
      "text/plain": [
       "   patient_id  clump_thickness  cell_size_uniformity  cell_shape_uniformity  \\\n",
       "0     1000025              5.0                   1.0                      1   \n",
       "1     1002945              5.0                   4.0                      4   \n",
       "2     1015425              3.0                   1.0                      1   \n",
       "3     1016277              6.0                   8.0                      8   \n",
       "4     1017023              4.0                   1.0                      1   \n",
       "5     1017122              8.0                  10.0                     10   \n",
       "6     1018561              2.0                   1.0                      2   \n",
       "7     1033078              2.0                   1.0                      1   \n",
       "8     1033078              4.0                   2.0                      1   \n",
       "9     1035283              1.0                   1.0                      1   \n",
       "\n",
       "   marginal_adhesion  single_ep_cell_size bare_nuclei  bland_chromatin  \\\n",
       "0                  1                    2           1              3.0   \n",
       "1                  5                    7          10              3.0   \n",
       "2                  1                    2           2              3.0   \n",
       "3                  1                    3           4              3.0   \n",
       "4                  3                    2           1              3.0   \n",
       "5                  8                    7          10              9.0   \n",
       "6                  1                    2           1              3.0   \n",
       "7                  1                    2           1              1.0   \n",
       "8                  1                    2           1              2.0   \n",
       "9                  1                    1           1              3.0   \n",
       "\n",
       "   normal_nucleoli  mitoses      class doctor_name  \n",
       "0              1.0        1     benign     Dr. Doe  \n",
       "1              2.0        1     benign   Dr. Smith  \n",
       "2              1.0        1     benign     Dr. Lee  \n",
       "3              7.0        1     benign   Dr. Smith  \n",
       "4              1.0        1     benign    Dr. Wong  \n",
       "5              7.0        1  malignant   Dr. Smith  \n",
       "6              1.0        1     benign   Dr. Smith  \n",
       "7              1.0        5     benign   Dr. Smith  \n",
       "8              1.0        1     benign     Dr. Doe  \n",
       "9              1.0        1     benign     Dr. Doe  "
      ],
      "text/html": "<div>\n<style scoped>\n    .dataframe tbody tr th:only-of-type {\n        vertical-align: middle;\n    }\n\n    .dataframe tbody tr th {\n        vertical-align: top;\n    }\n\n    .dataframe thead th {\n        text-align: right;\n    }\n</style>\n<table border=\"1\" class=\"dataframe\">\n  <thead>\n    <tr style=\"text-align: right;\">\n      <th></th>\n      <th>patient_id</th>\n      <th>clump_thickness</th>\n      <th>cell_size_uniformity</th>\n      <th>cell_shape_uniformity</th>\n      <th>marginal_adhesion</th>\n      <th>single_ep_cell_size</th>\n      <th>bare_nuclei</th>\n      <th>bland_chromatin</th>\n      <th>normal_nucleoli</th>\n      <th>mitoses</th>\n      <th>class</th>\n      <th>doctor_name</th>\n    </tr>\n  </thead>\n  <tbody>\n    <tr>\n      <th>0</th>\n      <td>1000025</td>\n      <td>5.0</td>\n      <td>1.0</td>\n      <td>1</td>\n      <td>1</td>\n      <td>2</td>\n      <td>1</td>\n      <td>3.0</td>\n      <td>1.0</td>\n      <td>1</td>\n      <td>benign</td>\n      <td>Dr. Doe</td>\n    </tr>\n    <tr>\n      <th>1</th>\n      <td>1002945</td>\n      <td>5.0</td>\n      <td>4.0</td>\n      <td>4</td>\n      <td>5</td>\n      <td>7</td>\n      <td>10</td>\n      <td>3.0</td>\n      <td>2.0</td>\n      <td>1</td>\n      <td>benign</td>\n      <td>Dr. Smith</td>\n    </tr>\n    <tr>\n      <th>2</th>\n      <td>1015425</td>\n      <td>3.0</td>\n      <td>1.0</td>\n      <td>1</td>\n      <td>1</td>\n      <td>2</td>\n      <td>2</td>\n      <td>3.0</td>\n      <td>1.0</td>\n      <td>1</td>\n      <td>benign</td>\n      <td>Dr. Lee</td>\n    </tr>\n    <tr>\n      <th>3</th>\n      <td>1016277</td>\n      <td>6.0</td>\n      <td>8.0</td>\n      <td>8</td>\n      <td>1</td>\n      <td>3</td>\n      <td>4</td>\n      <td>3.0</td>\n      <td>7.0</td>\n      <td>1</td>\n      <td>benign</td>\n      <td>Dr. Smith</td>\n    </tr>\n    <tr>\n      <th>4</th>\n      <td>1017023</td>\n      <td>4.0</td>\n      <td>1.0</td>\n      <td>1</td>\n      <td>3</td>\n      <td>2</td>\n      <td>1</td>\n      <td>3.0</td>\n      <td>1.0</td>\n      <td>1</td>\n      <td>benign</td>\n      <td>Dr. Wong</td>\n    </tr>\n    <tr>\n      <th>5</th>\n      <td>1017122</td>\n      <td>8.0</td>\n      <td>10.0</td>\n      <td>10</td>\n      <td>8</td>\n      <td>7</td>\n      <td>10</td>\n      <td>9.0</td>\n      <td>7.0</td>\n      <td>1</td>\n      <td>malignant</td>\n      <td>Dr. Smith</td>\n    </tr>\n    <tr>\n      <th>6</th>\n      <td>1018561</td>\n      <td>2.0</td>\n      <td>1.0</td>\n      <td>2</td>\n      <td>1</td>\n      <td>2</td>\n      <td>1</td>\n      <td>3.0</td>\n      <td>1.0</td>\n      <td>1</td>\n      <td>benign</td>\n      <td>Dr. Smith</td>\n    </tr>\n    <tr>\n      <th>7</th>\n      <td>1033078</td>\n      <td>2.0</td>\n      <td>1.0</td>\n      <td>1</td>\n      <td>1</td>\n      <td>2</td>\n      <td>1</td>\n      <td>1.0</td>\n      <td>1.0</td>\n      <td>5</td>\n      <td>benign</td>\n      <td>Dr. Smith</td>\n    </tr>\n    <tr>\n      <th>8</th>\n      <td>1033078</td>\n      <td>4.0</td>\n      <td>2.0</td>\n      <td>1</td>\n      <td>1</td>\n      <td>2</td>\n      <td>1</td>\n      <td>2.0</td>\n      <td>1.0</td>\n      <td>1</td>\n      <td>benign</td>\n      <td>Dr. Doe</td>\n    </tr>\n    <tr>\n      <th>9</th>\n      <td>1035283</td>\n      <td>1.0</td>\n      <td>1.0</td>\n      <td>1</td>\n      <td>1</td>\n      <td>1</td>\n      <td>1</td>\n      <td>3.0</td>\n      <td>1.0</td>\n      <td>1</td>\n      <td>benign</td>\n      <td>Dr. Doe</td>\n    </tr>\n  </tbody>\n</table>\n</div>"
     },
     "metadata": {},
     "execution_count": 246
    }
   ],
   "source": [
    "breast_dataset[0:10] #### same as breast_dataset.head(n=10)"
   ]
  },
  {
   "source": [
    "### Following the previous example, what is the equivalent of the line `breast_dataset.tail(n=10)`\n",
    "\n",
    "Answer: `breast_dataset[len(breast_dataset)-10:len(breast_dataset)]`"
   ],
   "cell_type": "markdown",
   "metadata": {}
  },
  {
   "source": [
    "### 3. Selecting specific rows based on a condition"
   ],
   "cell_type": "markdown",
   "metadata": {}
  },
  {
   "cell_type": "code",
   "execution_count": 257,
   "metadata": {},
   "outputs": [
    {
     "output_type": "execute_result",
     "data": {
      "text/plain": [
       "     patient_id  clump_thickness  cell_size_uniformity  cell_shape_uniformity  \\\n",
       "63      1116998             10.0                   4.0                      2   \n",
       "69      1123061              6.0                  10.0                      2   \n",
       "83      1147748              5.0                  10.0                      6   \n",
       "96      1165926              9.0                   6.0                      9   \n",
       "165     1198128             10.0                   8.0                     10   \n",
       "185     1206841             10.0                   5.0                      6   \n",
       "234     1241559             10.0                   8.0                      8   \n",
       "236     1242364              8.0                  10.0                     10   \n",
       "284      529329             10.0                  10.0                     10   \n",
       "300      640744             10.0                  10.0                     10   \n",
       "352      877291              6.0                  10.0                     10   \n",
       "473     1318169              9.0                  10.0                     10   \n",
       "603      822829              8.0                  10.0                     10   \n",
       "639     1315807              5.0                  10.0                     10   \n",
       "\n",
       "     marginal_adhesion  single_ep_cell_size bare_nuclei  bland_chromatin  \\\n",
       "63                   1                    3           2              4.0   \n",
       "69                   8                   10           2              7.0   \n",
       "83                   1                   10           4              4.0   \n",
       "96                   2                   10           6              2.0   \n",
       "165                 10                    6           1              3.0   \n",
       "185                 10                    6          10              7.0   \n",
       "234                  2                    8          10              4.0   \n",
       "236                  8                    6           9              3.0   \n",
       "284                 10                   10          10              4.0   \n",
       "300                  7                    9          10              7.0   \n",
       "352                 10                   10          10              8.0   \n",
       "473                 10                   10           5             10.0   \n",
       "603                 10                    6          10             10.0   \n",
       "639                 10                   10           2             10.0   \n",
       "\n",
       "     normal_nucleoli  mitoses      class doctor_name  \n",
       "63               3.0       10  malignant   Dr. Smith  \n",
       "69               8.0       10  malignant   Dr. Smith  \n",
       "83              10.0       10  malignant   Dr. Smith  \n",
       "96               9.0       10  malignant     Dr. Lee  \n",
       "165              1.0       10  malignant   Dr. Smith  \n",
       "185              7.0       10  malignant    Dr. Wong  \n",
       "234              8.0       10  malignant    Dr. Wong  \n",
       "236             10.0       10  malignant    Dr. Wong  \n",
       "284             10.0       10  malignant     Dr. Doe  \n",
       "300             10.0       10  malignant    Dr. Wong  \n",
       "352             10.0       10  malignant     Dr. Lee  \n",
       "473             10.0       10  malignant   Dr. Smith  \n",
       "603             10.0       10  malignant     Dr. Doe  \n",
       "639             10.0       10  malignant   Dr. Smith  "
      ],
      "text/html": "<div>\n<style scoped>\n    .dataframe tbody tr th:only-of-type {\n        vertical-align: middle;\n    }\n\n    .dataframe tbody tr th {\n        vertical-align: top;\n    }\n\n    .dataframe thead th {\n        text-align: right;\n    }\n</style>\n<table border=\"1\" class=\"dataframe\">\n  <thead>\n    <tr style=\"text-align: right;\">\n      <th></th>\n      <th>patient_id</th>\n      <th>clump_thickness</th>\n      <th>cell_size_uniformity</th>\n      <th>cell_shape_uniformity</th>\n      <th>marginal_adhesion</th>\n      <th>single_ep_cell_size</th>\n      <th>bare_nuclei</th>\n      <th>bland_chromatin</th>\n      <th>normal_nucleoli</th>\n      <th>mitoses</th>\n      <th>class</th>\n      <th>doctor_name</th>\n    </tr>\n  </thead>\n  <tbody>\n    <tr>\n      <th>63</th>\n      <td>1116998</td>\n      <td>10.0</td>\n      <td>4.0</td>\n      <td>2</td>\n      <td>1</td>\n      <td>3</td>\n      <td>2</td>\n      <td>4.0</td>\n      <td>3.0</td>\n      <td>10</td>\n      <td>malignant</td>\n      <td>Dr. Smith</td>\n    </tr>\n    <tr>\n      <th>69</th>\n      <td>1123061</td>\n      <td>6.0</td>\n      <td>10.0</td>\n      <td>2</td>\n      <td>8</td>\n      <td>10</td>\n      <td>2</td>\n      <td>7.0</td>\n      <td>8.0</td>\n      <td>10</td>\n      <td>malignant</td>\n      <td>Dr. Smith</td>\n    </tr>\n    <tr>\n      <th>83</th>\n      <td>1147748</td>\n      <td>5.0</td>\n      <td>10.0</td>\n      <td>6</td>\n      <td>1</td>\n      <td>10</td>\n      <td>4</td>\n      <td>4.0</td>\n      <td>10.0</td>\n      <td>10</td>\n      <td>malignant</td>\n      <td>Dr. Smith</td>\n    </tr>\n    <tr>\n      <th>96</th>\n      <td>1165926</td>\n      <td>9.0</td>\n      <td>6.0</td>\n      <td>9</td>\n      <td>2</td>\n      <td>10</td>\n      <td>6</td>\n      <td>2.0</td>\n      <td>9.0</td>\n      <td>10</td>\n      <td>malignant</td>\n      <td>Dr. Lee</td>\n    </tr>\n    <tr>\n      <th>165</th>\n      <td>1198128</td>\n      <td>10.0</td>\n      <td>8.0</td>\n      <td>10</td>\n      <td>10</td>\n      <td>6</td>\n      <td>1</td>\n      <td>3.0</td>\n      <td>1.0</td>\n      <td>10</td>\n      <td>malignant</td>\n      <td>Dr. Smith</td>\n    </tr>\n    <tr>\n      <th>185</th>\n      <td>1206841</td>\n      <td>10.0</td>\n      <td>5.0</td>\n      <td>6</td>\n      <td>10</td>\n      <td>6</td>\n      <td>10</td>\n      <td>7.0</td>\n      <td>7.0</td>\n      <td>10</td>\n      <td>malignant</td>\n      <td>Dr. Wong</td>\n    </tr>\n    <tr>\n      <th>234</th>\n      <td>1241559</td>\n      <td>10.0</td>\n      <td>8.0</td>\n      <td>8</td>\n      <td>2</td>\n      <td>8</td>\n      <td>10</td>\n      <td>4.0</td>\n      <td>8.0</td>\n      <td>10</td>\n      <td>malignant</td>\n      <td>Dr. Wong</td>\n    </tr>\n    <tr>\n      <th>236</th>\n      <td>1242364</td>\n      <td>8.0</td>\n      <td>10.0</td>\n      <td>10</td>\n      <td>8</td>\n      <td>6</td>\n      <td>9</td>\n      <td>3.0</td>\n      <td>10.0</td>\n      <td>10</td>\n      <td>malignant</td>\n      <td>Dr. Wong</td>\n    </tr>\n    <tr>\n      <th>284</th>\n      <td>529329</td>\n      <td>10.0</td>\n      <td>10.0</td>\n      <td>10</td>\n      <td>10</td>\n      <td>10</td>\n      <td>10</td>\n      <td>4.0</td>\n      <td>10.0</td>\n      <td>10</td>\n      <td>malignant</td>\n      <td>Dr. Doe</td>\n    </tr>\n    <tr>\n      <th>300</th>\n      <td>640744</td>\n      <td>10.0</td>\n      <td>10.0</td>\n      <td>10</td>\n      <td>7</td>\n      <td>9</td>\n      <td>10</td>\n      <td>7.0</td>\n      <td>10.0</td>\n      <td>10</td>\n      <td>malignant</td>\n      <td>Dr. Wong</td>\n    </tr>\n    <tr>\n      <th>352</th>\n      <td>877291</td>\n      <td>6.0</td>\n      <td>10.0</td>\n      <td>10</td>\n      <td>10</td>\n      <td>10</td>\n      <td>10</td>\n      <td>8.0</td>\n      <td>10.0</td>\n      <td>10</td>\n      <td>malignant</td>\n      <td>Dr. Lee</td>\n    </tr>\n    <tr>\n      <th>473</th>\n      <td>1318169</td>\n      <td>9.0</td>\n      <td>10.0</td>\n      <td>10</td>\n      <td>10</td>\n      <td>10</td>\n      <td>5</td>\n      <td>10.0</td>\n      <td>10.0</td>\n      <td>10</td>\n      <td>malignant</td>\n      <td>Dr. Smith</td>\n    </tr>\n    <tr>\n      <th>603</th>\n      <td>822829</td>\n      <td>8.0</td>\n      <td>10.0</td>\n      <td>10</td>\n      <td>10</td>\n      <td>6</td>\n      <td>10</td>\n      <td>10.0</td>\n      <td>10.0</td>\n      <td>10</td>\n      <td>malignant</td>\n      <td>Dr. Doe</td>\n    </tr>\n    <tr>\n      <th>639</th>\n      <td>1315807</td>\n      <td>5.0</td>\n      <td>10.0</td>\n      <td>10</td>\n      <td>10</td>\n      <td>10</td>\n      <td>2</td>\n      <td>10.0</td>\n      <td>10.0</td>\n      <td>10</td>\n      <td>malignant</td>\n      <td>Dr. Smith</td>\n    </tr>\n  </tbody>\n</table>\n</div>"
     },
     "metadata": {},
     "execution_count": 257
    }
   ],
   "source": [
    "#### With numbers \n",
    "breast_dataset[breast_dataset['mitoses'] == 10 ]"
   ]
  },
  {
   "cell_type": "code",
   "execution_count": 258,
   "metadata": {},
   "outputs": [
    {
     "output_type": "execute_result",
     "data": {
      "text/plain": [
       "     patient_id  clump_thickness  cell_size_uniformity  cell_shape_uniformity  \\\n",
       "0       1000025              5.0                   1.0                      1   \n",
       "1       1002945              5.0                   4.0                      4   \n",
       "2       1015425              3.0                   1.0                      1   \n",
       "3       1016277              6.0                   8.0                      8   \n",
       "4       1017023              4.0                   1.0                      1   \n",
       "..          ...              ...                   ...                    ...   \n",
       "685      776715              3.0                   1.0                      1   \n",
       "686      841769              2.0                   1.0                      1   \n",
       "687      888820              5.0                  10.0                     10   \n",
       "688      897471              4.0                   8.0                      6   \n",
       "689      897471              4.0                   8.0                      8   \n",
       "\n",
       "     marginal_adhesion  single_ep_cell_size bare_nuclei  bland_chromatin  \\\n",
       "0                    1                    2           1              3.0   \n",
       "1                    5                    7          10              3.0   \n",
       "2                    1                    2           2              3.0   \n",
       "3                    1                    3           4              3.0   \n",
       "4                    3                    2           1              3.0   \n",
       "..                 ...                  ...         ...              ...   \n",
       "685                  1                    3           2              1.0   \n",
       "686                  1                    2           1              1.0   \n",
       "687                  3                    7           3              8.0   \n",
       "688                  4                    3           4             10.0   \n",
       "689                  5                    4           5             10.0   \n",
       "\n",
       "     normal_nucleoli  mitoses      class doctor_name  \n",
       "0                1.0        1     benign     Dr. Doe  \n",
       "1                2.0        1     benign   Dr. Smith  \n",
       "2                1.0        1     benign     Dr. Lee  \n",
       "3                7.0        1     benign   Dr. Smith  \n",
       "4                1.0        1     benign    Dr. Wong  \n",
       "..               ...      ...        ...         ...  \n",
       "685              1.0        1     benign     Dr. Lee  \n",
       "686              1.0        1     benign   Dr. Smith  \n",
       "687             10.0        2  malignant     Dr. Lee  \n",
       "688              6.0        1  malignant     Dr. Lee  \n",
       "689              4.0        1  malignant    Dr. Wong  \n",
       "\n",
       "[607 rows x 12 columns]"
      ],
      "text/html": "<div>\n<style scoped>\n    .dataframe tbody tr th:only-of-type {\n        vertical-align: middle;\n    }\n\n    .dataframe tbody tr th {\n        vertical-align: top;\n    }\n\n    .dataframe thead th {\n        text-align: right;\n    }\n</style>\n<table border=\"1\" class=\"dataframe\">\n  <thead>\n    <tr style=\"text-align: right;\">\n      <th></th>\n      <th>patient_id</th>\n      <th>clump_thickness</th>\n      <th>cell_size_uniformity</th>\n      <th>cell_shape_uniformity</th>\n      <th>marginal_adhesion</th>\n      <th>single_ep_cell_size</th>\n      <th>bare_nuclei</th>\n      <th>bland_chromatin</th>\n      <th>normal_nucleoli</th>\n      <th>mitoses</th>\n      <th>class</th>\n      <th>doctor_name</th>\n    </tr>\n  </thead>\n  <tbody>\n    <tr>\n      <th>0</th>\n      <td>1000025</td>\n      <td>5.0</td>\n      <td>1.0</td>\n      <td>1</td>\n      <td>1</td>\n      <td>2</td>\n      <td>1</td>\n      <td>3.0</td>\n      <td>1.0</td>\n      <td>1</td>\n      <td>benign</td>\n      <td>Dr. Doe</td>\n    </tr>\n    <tr>\n      <th>1</th>\n      <td>1002945</td>\n      <td>5.0</td>\n      <td>4.0</td>\n      <td>4</td>\n      <td>5</td>\n      <td>7</td>\n      <td>10</td>\n      <td>3.0</td>\n      <td>2.0</td>\n      <td>1</td>\n      <td>benign</td>\n      <td>Dr. Smith</td>\n    </tr>\n    <tr>\n      <th>2</th>\n      <td>1015425</td>\n      <td>3.0</td>\n      <td>1.0</td>\n      <td>1</td>\n      <td>1</td>\n      <td>2</td>\n      <td>2</td>\n      <td>3.0</td>\n      <td>1.0</td>\n      <td>1</td>\n      <td>benign</td>\n      <td>Dr. Lee</td>\n    </tr>\n    <tr>\n      <th>3</th>\n      <td>1016277</td>\n      <td>6.0</td>\n      <td>8.0</td>\n      <td>8</td>\n      <td>1</td>\n      <td>3</td>\n      <td>4</td>\n      <td>3.0</td>\n      <td>7.0</td>\n      <td>1</td>\n      <td>benign</td>\n      <td>Dr. Smith</td>\n    </tr>\n    <tr>\n      <th>4</th>\n      <td>1017023</td>\n      <td>4.0</td>\n      <td>1.0</td>\n      <td>1</td>\n      <td>3</td>\n      <td>2</td>\n      <td>1</td>\n      <td>3.0</td>\n      <td>1.0</td>\n      <td>1</td>\n      <td>benign</td>\n      <td>Dr. Wong</td>\n    </tr>\n    <tr>\n      <th>...</th>\n      <td>...</td>\n      <td>...</td>\n      <td>...</td>\n      <td>...</td>\n      <td>...</td>\n      <td>...</td>\n      <td>...</td>\n      <td>...</td>\n      <td>...</td>\n      <td>...</td>\n      <td>...</td>\n      <td>...</td>\n    </tr>\n    <tr>\n      <th>685</th>\n      <td>776715</td>\n      <td>3.0</td>\n      <td>1.0</td>\n      <td>1</td>\n      <td>1</td>\n      <td>3</td>\n      <td>2</td>\n      <td>1.0</td>\n      <td>1.0</td>\n      <td>1</td>\n      <td>benign</td>\n      <td>Dr. Lee</td>\n    </tr>\n    <tr>\n      <th>686</th>\n      <td>841769</td>\n      <td>2.0</td>\n      <td>1.0</td>\n      <td>1</td>\n      <td>1</td>\n      <td>2</td>\n      <td>1</td>\n      <td>1.0</td>\n      <td>1.0</td>\n      <td>1</td>\n      <td>benign</td>\n      <td>Dr. Smith</td>\n    </tr>\n    <tr>\n      <th>687</th>\n      <td>888820</td>\n      <td>5.0</td>\n      <td>10.0</td>\n      <td>10</td>\n      <td>3</td>\n      <td>7</td>\n      <td>3</td>\n      <td>8.0</td>\n      <td>10.0</td>\n      <td>2</td>\n      <td>malignant</td>\n      <td>Dr. Lee</td>\n    </tr>\n    <tr>\n      <th>688</th>\n      <td>897471</td>\n      <td>4.0</td>\n      <td>8.0</td>\n      <td>6</td>\n      <td>4</td>\n      <td>3</td>\n      <td>4</td>\n      <td>10.0</td>\n      <td>6.0</td>\n      <td>1</td>\n      <td>malignant</td>\n      <td>Dr. Lee</td>\n    </tr>\n    <tr>\n      <th>689</th>\n      <td>897471</td>\n      <td>4.0</td>\n      <td>8.0</td>\n      <td>8</td>\n      <td>5</td>\n      <td>4</td>\n      <td>5</td>\n      <td>10.0</td>\n      <td>4.0</td>\n      <td>1</td>\n      <td>malignant</td>\n      <td>Dr. Wong</td>\n    </tr>\n  </tbody>\n</table>\n<p>607 rows × 12 columns</p>\n</div>"
     },
     "metadata": {},
     "execution_count": 258
    }
   ],
   "source": [
    "breast_dataset[breast_dataset['mitoses'] < 3 ]"
   ]
  },
  {
   "cell_type": "code",
   "execution_count": 263,
   "metadata": {},
   "outputs": [
    {
     "output_type": "execute_result",
     "data": {
      "text/plain": [
       "     patient_id  clump_thickness  cell_size_uniformity  cell_shape_uniformity  \\\n",
       "0       1000025              5.0                   1.0                      1   \n",
       "2       1015425              3.0                   1.0                      1   \n",
       "4       1017023              4.0                   1.0                      1   \n",
       "6       1018561              2.0                   1.0                      2   \n",
       "7       1033078              2.0                   1.0                      1   \n",
       "..          ...              ...                   ...                    ...   \n",
       "681      654546              1.0                   1.0                      1   \n",
       "683      714039              3.0                   1.0                      1   \n",
       "684      763235              3.0                   1.0                      1   \n",
       "685      776715              3.0                   1.0                      1   \n",
       "686      841769              2.0                   1.0                      1   \n",
       "\n",
       "     marginal_adhesion  single_ep_cell_size bare_nuclei  bland_chromatin  \\\n",
       "0                    1                    2           1              3.0   \n",
       "2                    1                    2           2              3.0   \n",
       "4                    3                    2           1              3.0   \n",
       "6                    1                    2           1              3.0   \n",
       "7                    1                    2           1              1.0   \n",
       "..                 ...                  ...         ...              ...   \n",
       "681                  3                    2           1              1.0   \n",
       "683                  1                    2           1              1.0   \n",
       "684                  1                    2           1              2.0   \n",
       "685                  1                    3           2              1.0   \n",
       "686                  1                    2           1              1.0   \n",
       "\n",
       "     normal_nucleoli  mitoses   class doctor_name  \n",
       "0                1.0        1  benign     Dr. Doe  \n",
       "2                1.0        1  benign     Dr. Lee  \n",
       "4                1.0        1  benign    Dr. Wong  \n",
       "6                1.0        1  benign   Dr. Smith  \n",
       "7                1.0        5  benign   Dr. Smith  \n",
       "..               ...      ...     ...         ...  \n",
       "681              1.0        1  benign     Dr. Doe  \n",
       "683              1.0        1  benign    Dr. Wong  \n",
       "684              1.0        2  benign     Dr. Lee  \n",
       "685              1.0        1  benign     Dr. Lee  \n",
       "686              1.0        1  benign   Dr. Smith  \n",
       "\n",
       "[392 rows x 12 columns]"
      ],
      "text/html": "<div>\n<style scoped>\n    .dataframe tbody tr th:only-of-type {\n        vertical-align: middle;\n    }\n\n    .dataframe tbody tr th {\n        vertical-align: top;\n    }\n\n    .dataframe thead th {\n        text-align: right;\n    }\n</style>\n<table border=\"1\" class=\"dataframe\">\n  <thead>\n    <tr style=\"text-align: right;\">\n      <th></th>\n      <th>patient_id</th>\n      <th>clump_thickness</th>\n      <th>cell_size_uniformity</th>\n      <th>cell_shape_uniformity</th>\n      <th>marginal_adhesion</th>\n      <th>single_ep_cell_size</th>\n      <th>bare_nuclei</th>\n      <th>bland_chromatin</th>\n      <th>normal_nucleoli</th>\n      <th>mitoses</th>\n      <th>class</th>\n      <th>doctor_name</th>\n    </tr>\n  </thead>\n  <tbody>\n    <tr>\n      <th>0</th>\n      <td>1000025</td>\n      <td>5.0</td>\n      <td>1.0</td>\n      <td>1</td>\n      <td>1</td>\n      <td>2</td>\n      <td>1</td>\n      <td>3.0</td>\n      <td>1.0</td>\n      <td>1</td>\n      <td>benign</td>\n      <td>Dr. Doe</td>\n    </tr>\n    <tr>\n      <th>2</th>\n      <td>1015425</td>\n      <td>3.0</td>\n      <td>1.0</td>\n      <td>1</td>\n      <td>1</td>\n      <td>2</td>\n      <td>2</td>\n      <td>3.0</td>\n      <td>1.0</td>\n      <td>1</td>\n      <td>benign</td>\n      <td>Dr. Lee</td>\n    </tr>\n    <tr>\n      <th>4</th>\n      <td>1017023</td>\n      <td>4.0</td>\n      <td>1.0</td>\n      <td>1</td>\n      <td>3</td>\n      <td>2</td>\n      <td>1</td>\n      <td>3.0</td>\n      <td>1.0</td>\n      <td>1</td>\n      <td>benign</td>\n      <td>Dr. Wong</td>\n    </tr>\n    <tr>\n      <th>6</th>\n      <td>1018561</td>\n      <td>2.0</td>\n      <td>1.0</td>\n      <td>2</td>\n      <td>1</td>\n      <td>2</td>\n      <td>1</td>\n      <td>3.0</td>\n      <td>1.0</td>\n      <td>1</td>\n      <td>benign</td>\n      <td>Dr. Smith</td>\n    </tr>\n    <tr>\n      <th>7</th>\n      <td>1033078</td>\n      <td>2.0</td>\n      <td>1.0</td>\n      <td>1</td>\n      <td>1</td>\n      <td>2</td>\n      <td>1</td>\n      <td>1.0</td>\n      <td>1.0</td>\n      <td>5</td>\n      <td>benign</td>\n      <td>Dr. Smith</td>\n    </tr>\n    <tr>\n      <th>...</th>\n      <td>...</td>\n      <td>...</td>\n      <td>...</td>\n      <td>...</td>\n      <td>...</td>\n      <td>...</td>\n      <td>...</td>\n      <td>...</td>\n      <td>...</td>\n      <td>...</td>\n      <td>...</td>\n      <td>...</td>\n    </tr>\n    <tr>\n      <th>681</th>\n      <td>654546</td>\n      <td>1.0</td>\n      <td>1.0</td>\n      <td>1</td>\n      <td>3</td>\n      <td>2</td>\n      <td>1</td>\n      <td>1.0</td>\n      <td>1.0</td>\n      <td>1</td>\n      <td>benign</td>\n      <td>Dr. Doe</td>\n    </tr>\n    <tr>\n      <th>683</th>\n      <td>714039</td>\n      <td>3.0</td>\n      <td>1.0</td>\n      <td>1</td>\n      <td>1</td>\n      <td>2</td>\n      <td>1</td>\n      <td>1.0</td>\n      <td>1.0</td>\n      <td>1</td>\n      <td>benign</td>\n      <td>Dr. Wong</td>\n    </tr>\n    <tr>\n      <th>684</th>\n      <td>763235</td>\n      <td>3.0</td>\n      <td>1.0</td>\n      <td>1</td>\n      <td>1</td>\n      <td>2</td>\n      <td>1</td>\n      <td>2.0</td>\n      <td>1.0</td>\n      <td>2</td>\n      <td>benign</td>\n      <td>Dr. Lee</td>\n    </tr>\n    <tr>\n      <th>685</th>\n      <td>776715</td>\n      <td>3.0</td>\n      <td>1.0</td>\n      <td>1</td>\n      <td>1</td>\n      <td>3</td>\n      <td>2</td>\n      <td>1.0</td>\n      <td>1.0</td>\n      <td>1</td>\n      <td>benign</td>\n      <td>Dr. Lee</td>\n    </tr>\n    <tr>\n      <th>686</th>\n      <td>841769</td>\n      <td>2.0</td>\n      <td>1.0</td>\n      <td>1</td>\n      <td>1</td>\n      <td>2</td>\n      <td>1</td>\n      <td>1.0</td>\n      <td>1.0</td>\n      <td>1</td>\n      <td>benign</td>\n      <td>Dr. Smith</td>\n    </tr>\n  </tbody>\n</table>\n<p>392 rows × 12 columns</p>\n</div>"
     },
     "metadata": {},
     "execution_count": 263
    }
   ],
   "source": [
    "#### Collect the patients with the smallest and highest cell size uniformity\n",
    "breast_dataset[(breast_dataset['cell_size_uniformity'] == 1) | (breast_dataset['mitoses'] == 10 )]"
   ]
  },
  {
   "cell_type": "code",
   "execution_count": 259,
   "metadata": {},
   "outputs": [
    {
     "output_type": "execute_result",
     "data": {
      "text/plain": [
       "     patient_id  clump_thickness  cell_size_uniformity  cell_shape_uniformity  \\\n",
       "0       1000025              5.0                   1.0                      1   \n",
       "1       1002945              5.0                   4.0                      4   \n",
       "2       1015425              3.0                   1.0                      1   \n",
       "3       1016277              6.0                   8.0                      8   \n",
       "4       1017023              4.0                   1.0                      1   \n",
       "..          ...              ...                   ...                    ...   \n",
       "681      654546              1.0                   1.0                      1   \n",
       "683      714039              3.0                   1.0                      1   \n",
       "684      763235              3.0                   1.0                      1   \n",
       "685      776715              3.0                   1.0                      1   \n",
       "686      841769              2.0                   1.0                      1   \n",
       "\n",
       "     marginal_adhesion  single_ep_cell_size bare_nuclei  bland_chromatin  \\\n",
       "0                    1                    2           1              3.0   \n",
       "1                    5                    7          10              3.0   \n",
       "2                    1                    2           2              3.0   \n",
       "3                    1                    3           4              3.0   \n",
       "4                    3                    2           1              3.0   \n",
       "..                 ...                  ...         ...              ...   \n",
       "681                  3                    2           1              1.0   \n",
       "683                  1                    2           1              1.0   \n",
       "684                  1                    2           1              2.0   \n",
       "685                  1                    3           2              1.0   \n",
       "686                  1                    2           1              1.0   \n",
       "\n",
       "     normal_nucleoli  mitoses   class doctor_name  \n",
       "0                1.0        1  benign     Dr. Doe  \n",
       "1                2.0        1  benign   Dr. Smith  \n",
       "2                1.0        1  benign     Dr. Lee  \n",
       "3                7.0        1  benign   Dr. Smith  \n",
       "4                1.0        1  benign    Dr. Wong  \n",
       "..               ...      ...     ...         ...  \n",
       "681              1.0        1  benign     Dr. Doe  \n",
       "683              1.0        1  benign    Dr. Wong  \n",
       "684              1.0        2  benign     Dr. Lee  \n",
       "685              1.0        1  benign     Dr. Lee  \n",
       "686              1.0        1  benign   Dr. Smith  \n",
       "\n",
       "[452 rows x 12 columns]"
      ],
      "text/html": "<div>\n<style scoped>\n    .dataframe tbody tr th:only-of-type {\n        vertical-align: middle;\n    }\n\n    .dataframe tbody tr th {\n        vertical-align: top;\n    }\n\n    .dataframe thead th {\n        text-align: right;\n    }\n</style>\n<table border=\"1\" class=\"dataframe\">\n  <thead>\n    <tr style=\"text-align: right;\">\n      <th></th>\n      <th>patient_id</th>\n      <th>clump_thickness</th>\n      <th>cell_size_uniformity</th>\n      <th>cell_shape_uniformity</th>\n      <th>marginal_adhesion</th>\n      <th>single_ep_cell_size</th>\n      <th>bare_nuclei</th>\n      <th>bland_chromatin</th>\n      <th>normal_nucleoli</th>\n      <th>mitoses</th>\n      <th>class</th>\n      <th>doctor_name</th>\n    </tr>\n  </thead>\n  <tbody>\n    <tr>\n      <th>0</th>\n      <td>1000025</td>\n      <td>5.0</td>\n      <td>1.0</td>\n      <td>1</td>\n      <td>1</td>\n      <td>2</td>\n      <td>1</td>\n      <td>3.0</td>\n      <td>1.0</td>\n      <td>1</td>\n      <td>benign</td>\n      <td>Dr. Doe</td>\n    </tr>\n    <tr>\n      <th>1</th>\n      <td>1002945</td>\n      <td>5.0</td>\n      <td>4.0</td>\n      <td>4</td>\n      <td>5</td>\n      <td>7</td>\n      <td>10</td>\n      <td>3.0</td>\n      <td>2.0</td>\n      <td>1</td>\n      <td>benign</td>\n      <td>Dr. Smith</td>\n    </tr>\n    <tr>\n      <th>2</th>\n      <td>1015425</td>\n      <td>3.0</td>\n      <td>1.0</td>\n      <td>1</td>\n      <td>1</td>\n      <td>2</td>\n      <td>2</td>\n      <td>3.0</td>\n      <td>1.0</td>\n      <td>1</td>\n      <td>benign</td>\n      <td>Dr. Lee</td>\n    </tr>\n    <tr>\n      <th>3</th>\n      <td>1016277</td>\n      <td>6.0</td>\n      <td>8.0</td>\n      <td>8</td>\n      <td>1</td>\n      <td>3</td>\n      <td>4</td>\n      <td>3.0</td>\n      <td>7.0</td>\n      <td>1</td>\n      <td>benign</td>\n      <td>Dr. Smith</td>\n    </tr>\n    <tr>\n      <th>4</th>\n      <td>1017023</td>\n      <td>4.0</td>\n      <td>1.0</td>\n      <td>1</td>\n      <td>3</td>\n      <td>2</td>\n      <td>1</td>\n      <td>3.0</td>\n      <td>1.0</td>\n      <td>1</td>\n      <td>benign</td>\n      <td>Dr. Wong</td>\n    </tr>\n    <tr>\n      <th>...</th>\n      <td>...</td>\n      <td>...</td>\n      <td>...</td>\n      <td>...</td>\n      <td>...</td>\n      <td>...</td>\n      <td>...</td>\n      <td>...</td>\n      <td>...</td>\n      <td>...</td>\n      <td>...</td>\n      <td>...</td>\n    </tr>\n    <tr>\n      <th>681</th>\n      <td>654546</td>\n      <td>1.0</td>\n      <td>1.0</td>\n      <td>1</td>\n      <td>3</td>\n      <td>2</td>\n      <td>1</td>\n      <td>1.0</td>\n      <td>1.0</td>\n      <td>1</td>\n      <td>benign</td>\n      <td>Dr. Doe</td>\n    </tr>\n    <tr>\n      <th>683</th>\n      <td>714039</td>\n      <td>3.0</td>\n      <td>1.0</td>\n      <td>1</td>\n      <td>1</td>\n      <td>2</td>\n      <td>1</td>\n      <td>1.0</td>\n      <td>1.0</td>\n      <td>1</td>\n      <td>benign</td>\n      <td>Dr. Wong</td>\n    </tr>\n    <tr>\n      <th>684</th>\n      <td>763235</td>\n      <td>3.0</td>\n      <td>1.0</td>\n      <td>1</td>\n      <td>1</td>\n      <td>2</td>\n      <td>1</td>\n      <td>2.0</td>\n      <td>1.0</td>\n      <td>2</td>\n      <td>benign</td>\n      <td>Dr. Lee</td>\n    </tr>\n    <tr>\n      <th>685</th>\n      <td>776715</td>\n      <td>3.0</td>\n      <td>1.0</td>\n      <td>1</td>\n      <td>1</td>\n      <td>3</td>\n      <td>2</td>\n      <td>1.0</td>\n      <td>1.0</td>\n      <td>1</td>\n      <td>benign</td>\n      <td>Dr. Lee</td>\n    </tr>\n    <tr>\n      <th>686</th>\n      <td>841769</td>\n      <td>2.0</td>\n      <td>1.0</td>\n      <td>1</td>\n      <td>1</td>\n      <td>2</td>\n      <td>1</td>\n      <td>1.0</td>\n      <td>1.0</td>\n      <td>1</td>\n      <td>benign</td>\n      <td>Dr. Smith</td>\n    </tr>\n  </tbody>\n</table>\n<p>452 rows × 12 columns</p>\n</div>"
     },
     "metadata": {},
     "execution_count": 259
    }
   ],
   "source": [
    "#### For a string value\n",
    "breast_dataset[breast_dataset['class'] == 'benign']"
   ]
  },
  {
   "cell_type": "code",
   "execution_count": 268,
   "metadata": {},
   "outputs": [
    {
     "output_type": "execute_result",
     "data": {
      "text/plain": [
       "     patient_id  clump_thickness  cell_size_uniformity  cell_shape_uniformity  \\\n",
       "1       1002945              5.0                   4.0                      4   \n",
       "2       1015425              3.0                   1.0                      1   \n",
       "3       1016277              6.0                   8.0                      8   \n",
       "5       1017122              8.0                  10.0                     10   \n",
       "6       1018561              2.0                   1.0                      2   \n",
       "..          ...              ...                   ...                    ...   \n",
       "684      763235              3.0                   1.0                      1   \n",
       "685      776715              3.0                   1.0                      1   \n",
       "686      841769              2.0                   1.0                      1   \n",
       "687      888820              5.0                  10.0                     10   \n",
       "688      897471              4.0                   8.0                      6   \n",
       "\n",
       "     marginal_adhesion  single_ep_cell_size bare_nuclei  bland_chromatin  \\\n",
       "1                    5                    7          10              3.0   \n",
       "2                    1                    2           2              3.0   \n",
       "3                    1                    3           4              3.0   \n",
       "5                    8                    7          10              9.0   \n",
       "6                    1                    2           1              3.0   \n",
       "..                 ...                  ...         ...              ...   \n",
       "684                  1                    2           1              2.0   \n",
       "685                  1                    3           2              1.0   \n",
       "686                  1                    2           1              1.0   \n",
       "687                  3                    7           3              8.0   \n",
       "688                  4                    3           4             10.0   \n",
       "\n",
       "     normal_nucleoli  mitoses      class doctor_name  \n",
       "1                2.0        1     benign   Dr. Smith  \n",
       "2                1.0        1     benign     Dr. Lee  \n",
       "3                7.0        1     benign   Dr. Smith  \n",
       "5                7.0        1  malignant   Dr. Smith  \n",
       "6                1.0        1     benign   Dr. Smith  \n",
       "..               ...      ...        ...         ...  \n",
       "684              1.0        2     benign     Dr. Lee  \n",
       "685              1.0        1     benign     Dr. Lee  \n",
       "686              1.0        1     benign   Dr. Smith  \n",
       "687             10.0        2  malignant     Dr. Lee  \n",
       "688              6.0        1  malignant     Dr. Lee  \n",
       "\n",
       "[353 rows x 12 columns]"
      ],
      "text/html": "<div>\n<style scoped>\n    .dataframe tbody tr th:only-of-type {\n        vertical-align: middle;\n    }\n\n    .dataframe tbody tr th {\n        vertical-align: top;\n    }\n\n    .dataframe thead th {\n        text-align: right;\n    }\n</style>\n<table border=\"1\" class=\"dataframe\">\n  <thead>\n    <tr style=\"text-align: right;\">\n      <th></th>\n      <th>patient_id</th>\n      <th>clump_thickness</th>\n      <th>cell_size_uniformity</th>\n      <th>cell_shape_uniformity</th>\n      <th>marginal_adhesion</th>\n      <th>single_ep_cell_size</th>\n      <th>bare_nuclei</th>\n      <th>bland_chromatin</th>\n      <th>normal_nucleoli</th>\n      <th>mitoses</th>\n      <th>class</th>\n      <th>doctor_name</th>\n    </tr>\n  </thead>\n  <tbody>\n    <tr>\n      <th>1</th>\n      <td>1002945</td>\n      <td>5.0</td>\n      <td>4.0</td>\n      <td>4</td>\n      <td>5</td>\n      <td>7</td>\n      <td>10</td>\n      <td>3.0</td>\n      <td>2.0</td>\n      <td>1</td>\n      <td>benign</td>\n      <td>Dr. Smith</td>\n    </tr>\n    <tr>\n      <th>2</th>\n      <td>1015425</td>\n      <td>3.0</td>\n      <td>1.0</td>\n      <td>1</td>\n      <td>1</td>\n      <td>2</td>\n      <td>2</td>\n      <td>3.0</td>\n      <td>1.0</td>\n      <td>1</td>\n      <td>benign</td>\n      <td>Dr. Lee</td>\n    </tr>\n    <tr>\n      <th>3</th>\n      <td>1016277</td>\n      <td>6.0</td>\n      <td>8.0</td>\n      <td>8</td>\n      <td>1</td>\n      <td>3</td>\n      <td>4</td>\n      <td>3.0</td>\n      <td>7.0</td>\n      <td>1</td>\n      <td>benign</td>\n      <td>Dr. Smith</td>\n    </tr>\n    <tr>\n      <th>5</th>\n      <td>1017122</td>\n      <td>8.0</td>\n      <td>10.0</td>\n      <td>10</td>\n      <td>8</td>\n      <td>7</td>\n      <td>10</td>\n      <td>9.0</td>\n      <td>7.0</td>\n      <td>1</td>\n      <td>malignant</td>\n      <td>Dr. Smith</td>\n    </tr>\n    <tr>\n      <th>6</th>\n      <td>1018561</td>\n      <td>2.0</td>\n      <td>1.0</td>\n      <td>2</td>\n      <td>1</td>\n      <td>2</td>\n      <td>1</td>\n      <td>3.0</td>\n      <td>1.0</td>\n      <td>1</td>\n      <td>benign</td>\n      <td>Dr. Smith</td>\n    </tr>\n    <tr>\n      <th>...</th>\n      <td>...</td>\n      <td>...</td>\n      <td>...</td>\n      <td>...</td>\n      <td>...</td>\n      <td>...</td>\n      <td>...</td>\n      <td>...</td>\n      <td>...</td>\n      <td>...</td>\n      <td>...</td>\n      <td>...</td>\n    </tr>\n    <tr>\n      <th>684</th>\n      <td>763235</td>\n      <td>3.0</td>\n      <td>1.0</td>\n      <td>1</td>\n      <td>1</td>\n      <td>2</td>\n      <td>1</td>\n      <td>2.0</td>\n      <td>1.0</td>\n      <td>2</td>\n      <td>benign</td>\n      <td>Dr. Lee</td>\n    </tr>\n    <tr>\n      <th>685</th>\n      <td>776715</td>\n      <td>3.0</td>\n      <td>1.0</td>\n      <td>1</td>\n      <td>1</td>\n      <td>3</td>\n      <td>2</td>\n      <td>1.0</td>\n      <td>1.0</td>\n      <td>1</td>\n      <td>benign</td>\n      <td>Dr. Lee</td>\n    </tr>\n    <tr>\n      <th>686</th>\n      <td>841769</td>\n      <td>2.0</td>\n      <td>1.0</td>\n      <td>1</td>\n      <td>1</td>\n      <td>2</td>\n      <td>1</td>\n      <td>1.0</td>\n      <td>1.0</td>\n      <td>1</td>\n      <td>benign</td>\n      <td>Dr. Smith</td>\n    </tr>\n    <tr>\n      <th>687</th>\n      <td>888820</td>\n      <td>5.0</td>\n      <td>10.0</td>\n      <td>10</td>\n      <td>3</td>\n      <td>7</td>\n      <td>3</td>\n      <td>8.0</td>\n      <td>10.0</td>\n      <td>2</td>\n      <td>malignant</td>\n      <td>Dr. Lee</td>\n    </tr>\n    <tr>\n      <th>688</th>\n      <td>897471</td>\n      <td>4.0</td>\n      <td>8.0</td>\n      <td>6</td>\n      <td>4</td>\n      <td>3</td>\n      <td>4</td>\n      <td>10.0</td>\n      <td>6.0</td>\n      <td>1</td>\n      <td>malignant</td>\n      <td>Dr. Lee</td>\n    </tr>\n  </tbody>\n</table>\n<p>353 rows × 12 columns</p>\n</div>"
     },
     "metadata": {},
     "execution_count": 268
    }
   ],
   "source": [
    "#### For a list of keywords\n",
    "breast_dataset[breast_dataset['doctor_name'].isin(['Dr. Smith', 'Dr. Lee'])]"
   ]
  },
  {
   "source": [
    "\n",
    "### III. Dealing with missing values\n",
    "\n",
    "### 1. How many missing values per column do we have?"
   ],
   "cell_type": "markdown",
   "metadata": {}
  },
  {
   "cell_type": "code",
   "execution_count": 102,
   "metadata": {},
   "outputs": [
    {
     "output_type": "execute_result",
     "data": {
      "text/plain": [
       "patient_id               0\n",
       "clump_thickness          1\n",
       "cell_size_uniformity     1\n",
       "cell_shape_uniformity    0\n",
       "marginal_adhesion        0\n",
       "single_ep_cell_size      0\n",
       "bare_nuclei              2\n",
       "bland_chromatin          4\n",
       "normal_nucleoli          1\n",
       "mitoses                  0\n",
       "class                    0\n",
       "doctor_name              0\n",
       "dtype: int64"
      ]
     },
     "metadata": {},
     "execution_count": 102
    }
   ],
   "source": [
    "#### NB: In numpy, missing values can be defined with np.nan\n",
    "breast_dataset.isna().sum() "
   ]
  },
  {
   "source": [
    "### Determinant choice: What can we do with these missing values?\n",
    "- [ ] Replace them with zero! - 1\n",
    "- [ ] Remove them all! - 2\n",
    "\n"
   ],
   "cell_type": "markdown",
   "metadata": {}
  },
  {
   "cell_type": "code",
   "execution_count": 103,
   "metadata": {},
   "outputs": [
    {
     "output_type": "execute_result",
     "data": {
      "text/plain": [
       "patient_id               0\n",
       "clump_thickness          0\n",
       "cell_size_uniformity     0\n",
       "cell_shape_uniformity    0\n",
       "marginal_adhesion        0\n",
       "single_ep_cell_size      0\n",
       "bare_nuclei              0\n",
       "bland_chromatin          0\n",
       "normal_nucleoli          0\n",
       "mitoses                  0\n",
       "class                    0\n",
       "doctor_name              0\n",
       "dtype: int64"
      ]
     },
     "metadata": {},
     "execution_count": 103
    }
   ],
   "source": [
    "#### If you choose, solution 1, run this cell\n",
    "breast_dataset_with_zero = breast_dataset.fillna(0)\n",
    "\n",
    "breast_dataset_with_zero.isna().sum() "
   ]
  },
  {
   "cell_type": "code",
   "execution_count": 107,
   "metadata": {},
   "outputs": [
    {
     "output_type": "execute_result",
     "data": {
      "text/plain": [
       "patient_id               0\n",
       "clump_thickness          0\n",
       "cell_size_uniformity     0\n",
       "cell_shape_uniformity    0\n",
       "marginal_adhesion        0\n",
       "single_ep_cell_size      0\n",
       "bare_nuclei              0\n",
       "bland_chromatin          0\n",
       "normal_nucleoli          0\n",
       "mitoses                  0\n",
       "class                    0\n",
       "doctor_name              0\n",
       "dtype: int64"
      ]
     },
     "metadata": {},
     "execution_count": 107
    }
   ],
   "source": [
    "#### If you choose, solution 2, run this cell\n",
    "breast_dataset_with_nona = breast_dataset.dropna()  #drop rows with any column having np.nan values\n",
    "\n",
    "breast_dataset_with_nona.isna().sum()"
   ]
  },
  {
   "source": [
    "### 2. What is the difference of these two methods?"
   ],
   "cell_type": "markdown",
   "metadata": {}
  },
  {
   "cell_type": "code",
   "execution_count": 114,
   "metadata": {},
   "outputs": [
    {
     "output_type": "stream",
     "name": "stdout",
     "text": [
      "Dataset with zero: (699, 12)\nDataset with no NA: (690, 12)\n"
     ]
    }
   ],
   "source": [
    "\n",
    "print('Dataset with zero:', breast_dataset_with_zero.shape)\n",
    "print('Dataset with no NA:', breast_dataset_with_nona.shape) "
   ]
  },
  {
   "cell_type": "code",
   "execution_count": 135,
   "metadata": {},
   "outputs": [
    {
     "output_type": "execute_result",
     "data": {
      "text/plain": [
       "     patient_id  clump_thickness  cell_size_uniformity  cell_shape_uniformity  \\\n",
       "0       1000025              5.0                   1.0                      1   \n",
       "1       1002945              5.0                   4.0                      4   \n",
       "2       1015425              3.0                   1.0                      1   \n",
       "3       1016277              6.0                   8.0                      8   \n",
       "4       1017023              4.0                   1.0                      1   \n",
       "..          ...              ...                   ...                    ...   \n",
       "694      776715              3.0                   1.0                      1   \n",
       "695      841769              2.0                   1.0                      1   \n",
       "696      888820              5.0                  10.0                     10   \n",
       "697      897471              4.0                   8.0                      6   \n",
       "698      897471              4.0                   8.0                      8   \n",
       "\n",
       "     marginal_adhesion  single_ep_cell_size bare_nuclei  bland_chromatin  \\\n",
       "0                    1                    2           1              3.0   \n",
       "1                    5                    7          10              3.0   \n",
       "2                    1                    2           2              3.0   \n",
       "3                    1                    3           4              3.0   \n",
       "4                    3                    2           1              3.0   \n",
       "..                 ...                  ...         ...              ...   \n",
       "694                  1                    3           2              1.0   \n",
       "695                  1                    2           1              1.0   \n",
       "696                  3                    7           3              8.0   \n",
       "697                  4                    3           4             10.0   \n",
       "698                  5                    4           5             10.0   \n",
       "\n",
       "     normal_nucleoli  mitoses      class doctor_name  \n",
       "0                1.0        1     benign     Dr. Doe  \n",
       "1                2.0        1     benign   Dr. Smith  \n",
       "2                1.0        1     benign     Dr. Lee  \n",
       "3                7.0        1     benign   Dr. Smith  \n",
       "4                1.0        1     benign    Dr. Wong  \n",
       "..               ...      ...        ...         ...  \n",
       "694              1.0        1     benign     Dr. Lee  \n",
       "695              1.0        1     benign   Dr. Smith  \n",
       "696             10.0        2  malignant     Dr. Lee  \n",
       "697              6.0        1  malignant     Dr. Lee  \n",
       "698              4.0        1  malignant    Dr. Wong  \n",
       "\n",
       "[690 rows x 12 columns]"
      ],
      "text/html": "<div>\n<style scoped>\n    .dataframe tbody tr th:only-of-type {\n        vertical-align: middle;\n    }\n\n    .dataframe tbody tr th {\n        vertical-align: top;\n    }\n\n    .dataframe thead th {\n        text-align: right;\n    }\n</style>\n<table border=\"1\" class=\"dataframe\">\n  <thead>\n    <tr style=\"text-align: right;\">\n      <th></th>\n      <th>patient_id</th>\n      <th>clump_thickness</th>\n      <th>cell_size_uniformity</th>\n      <th>cell_shape_uniformity</th>\n      <th>marginal_adhesion</th>\n      <th>single_ep_cell_size</th>\n      <th>bare_nuclei</th>\n      <th>bland_chromatin</th>\n      <th>normal_nucleoli</th>\n      <th>mitoses</th>\n      <th>class</th>\n      <th>doctor_name</th>\n    </tr>\n  </thead>\n  <tbody>\n    <tr>\n      <th>0</th>\n      <td>1000025</td>\n      <td>5.0</td>\n      <td>1.0</td>\n      <td>1</td>\n      <td>1</td>\n      <td>2</td>\n      <td>1</td>\n      <td>3.0</td>\n      <td>1.0</td>\n      <td>1</td>\n      <td>benign</td>\n      <td>Dr. Doe</td>\n    </tr>\n    <tr>\n      <th>1</th>\n      <td>1002945</td>\n      <td>5.0</td>\n      <td>4.0</td>\n      <td>4</td>\n      <td>5</td>\n      <td>7</td>\n      <td>10</td>\n      <td>3.0</td>\n      <td>2.0</td>\n      <td>1</td>\n      <td>benign</td>\n      <td>Dr. Smith</td>\n    </tr>\n    <tr>\n      <th>2</th>\n      <td>1015425</td>\n      <td>3.0</td>\n      <td>1.0</td>\n      <td>1</td>\n      <td>1</td>\n      <td>2</td>\n      <td>2</td>\n      <td>3.0</td>\n      <td>1.0</td>\n      <td>1</td>\n      <td>benign</td>\n      <td>Dr. Lee</td>\n    </tr>\n    <tr>\n      <th>3</th>\n      <td>1016277</td>\n      <td>6.0</td>\n      <td>8.0</td>\n      <td>8</td>\n      <td>1</td>\n      <td>3</td>\n      <td>4</td>\n      <td>3.0</td>\n      <td>7.0</td>\n      <td>1</td>\n      <td>benign</td>\n      <td>Dr. Smith</td>\n    </tr>\n    <tr>\n      <th>4</th>\n      <td>1017023</td>\n      <td>4.0</td>\n      <td>1.0</td>\n      <td>1</td>\n      <td>3</td>\n      <td>2</td>\n      <td>1</td>\n      <td>3.0</td>\n      <td>1.0</td>\n      <td>1</td>\n      <td>benign</td>\n      <td>Dr. Wong</td>\n    </tr>\n    <tr>\n      <th>...</th>\n      <td>...</td>\n      <td>...</td>\n      <td>...</td>\n      <td>...</td>\n      <td>...</td>\n      <td>...</td>\n      <td>...</td>\n      <td>...</td>\n      <td>...</td>\n      <td>...</td>\n      <td>...</td>\n      <td>...</td>\n    </tr>\n    <tr>\n      <th>694</th>\n      <td>776715</td>\n      <td>3.0</td>\n      <td>1.0</td>\n      <td>1</td>\n      <td>1</td>\n      <td>3</td>\n      <td>2</td>\n      <td>1.0</td>\n      <td>1.0</td>\n      <td>1</td>\n      <td>benign</td>\n      <td>Dr. Lee</td>\n    </tr>\n    <tr>\n      <th>695</th>\n      <td>841769</td>\n      <td>2.0</td>\n      <td>1.0</td>\n      <td>1</td>\n      <td>1</td>\n      <td>2</td>\n      <td>1</td>\n      <td>1.0</td>\n      <td>1.0</td>\n      <td>1</td>\n      <td>benign</td>\n      <td>Dr. Smith</td>\n    </tr>\n    <tr>\n      <th>696</th>\n      <td>888820</td>\n      <td>5.0</td>\n      <td>10.0</td>\n      <td>10</td>\n      <td>3</td>\n      <td>7</td>\n      <td>3</td>\n      <td>8.0</td>\n      <td>10.0</td>\n      <td>2</td>\n      <td>malignant</td>\n      <td>Dr. Lee</td>\n    </tr>\n    <tr>\n      <th>697</th>\n      <td>897471</td>\n      <td>4.0</td>\n      <td>8.0</td>\n      <td>6</td>\n      <td>4</td>\n      <td>3</td>\n      <td>4</td>\n      <td>10.0</td>\n      <td>6.0</td>\n      <td>1</td>\n      <td>malignant</td>\n      <td>Dr. Lee</td>\n    </tr>\n    <tr>\n      <th>698</th>\n      <td>897471</td>\n      <td>4.0</td>\n      <td>8.0</td>\n      <td>8</td>\n      <td>5</td>\n      <td>4</td>\n      <td>5</td>\n      <td>10.0</td>\n      <td>4.0</td>\n      <td>1</td>\n      <td>malignant</td>\n      <td>Dr. Wong</td>\n    </tr>\n  </tbody>\n</table>\n<p>690 rows × 12 columns</p>\n</div>"
     },
     "metadata": {},
     "execution_count": 135
    }
   ],
   "source": [
    "#### Let's take the dataframe with no na values\n",
    "breast_dataset_with_nona "
   ]
  },
  {
   "cell_type": "code",
   "execution_count": 218,
   "metadata": {},
   "outputs": [
    {
     "output_type": "execute_result",
     "data": {
      "text/plain": [
       "     index  patient_id  clump_thickness  cell_size_uniformity  \\\n",
       "0        0     1000025              5.0                   1.0   \n",
       "1        1     1002945              5.0                   4.0   \n",
       "2        2     1015425              3.0                   1.0   \n",
       "3        3     1016277              6.0                   8.0   \n",
       "4        4     1017023              4.0                   1.0   \n",
       "..     ...         ...              ...                   ...   \n",
       "685    694      776715              3.0                   1.0   \n",
       "686    695      841769              2.0                   1.0   \n",
       "687    696      888820              5.0                  10.0   \n",
       "688    697      897471              4.0                   8.0   \n",
       "689    698      897471              4.0                   8.0   \n",
       "\n",
       "     cell_shape_uniformity  marginal_adhesion  single_ep_cell_size  \\\n",
       "0                        1                  1                    2   \n",
       "1                        4                  5                    7   \n",
       "2                        1                  1                    2   \n",
       "3                        8                  1                    3   \n",
       "4                        1                  3                    2   \n",
       "..                     ...                ...                  ...   \n",
       "685                      1                  1                    3   \n",
       "686                      1                  1                    2   \n",
       "687                     10                  3                    7   \n",
       "688                      6                  4                    3   \n",
       "689                      8                  5                    4   \n",
       "\n",
       "    bare_nuclei  bland_chromatin  normal_nucleoli  mitoses      class  \\\n",
       "0             1              3.0              1.0        1     benign   \n",
       "1            10              3.0              2.0        1     benign   \n",
       "2             2              3.0              1.0        1     benign   \n",
       "3             4              3.0              7.0        1     benign   \n",
       "4             1              3.0              1.0        1     benign   \n",
       "..          ...              ...              ...      ...        ...   \n",
       "685           2              1.0              1.0        1     benign   \n",
       "686           1              1.0              1.0        1     benign   \n",
       "687           3              8.0             10.0        2  malignant   \n",
       "688           4             10.0              6.0        1  malignant   \n",
       "689           5             10.0              4.0        1  malignant   \n",
       "\n",
       "    doctor_name  \n",
       "0       Dr. Doe  \n",
       "1     Dr. Smith  \n",
       "2       Dr. Lee  \n",
       "3     Dr. Smith  \n",
       "4      Dr. Wong  \n",
       "..          ...  \n",
       "685     Dr. Lee  \n",
       "686   Dr. Smith  \n",
       "687     Dr. Lee  \n",
       "688     Dr. Lee  \n",
       "689    Dr. Wong  \n",
       "\n",
       "[690 rows x 13 columns]"
      ],
      "text/html": "<div>\n<style scoped>\n    .dataframe tbody tr th:only-of-type {\n        vertical-align: middle;\n    }\n\n    .dataframe tbody tr th {\n        vertical-align: top;\n    }\n\n    .dataframe thead th {\n        text-align: right;\n    }\n</style>\n<table border=\"1\" class=\"dataframe\">\n  <thead>\n    <tr style=\"text-align: right;\">\n      <th></th>\n      <th>index</th>\n      <th>patient_id</th>\n      <th>clump_thickness</th>\n      <th>cell_size_uniformity</th>\n      <th>cell_shape_uniformity</th>\n      <th>marginal_adhesion</th>\n      <th>single_ep_cell_size</th>\n      <th>bare_nuclei</th>\n      <th>bland_chromatin</th>\n      <th>normal_nucleoli</th>\n      <th>mitoses</th>\n      <th>class</th>\n      <th>doctor_name</th>\n    </tr>\n  </thead>\n  <tbody>\n    <tr>\n      <th>0</th>\n      <td>0</td>\n      <td>1000025</td>\n      <td>5.0</td>\n      <td>1.0</td>\n      <td>1</td>\n      <td>1</td>\n      <td>2</td>\n      <td>1</td>\n      <td>3.0</td>\n      <td>1.0</td>\n      <td>1</td>\n      <td>benign</td>\n      <td>Dr. Doe</td>\n    </tr>\n    <tr>\n      <th>1</th>\n      <td>1</td>\n      <td>1002945</td>\n      <td>5.0</td>\n      <td>4.0</td>\n      <td>4</td>\n      <td>5</td>\n      <td>7</td>\n      <td>10</td>\n      <td>3.0</td>\n      <td>2.0</td>\n      <td>1</td>\n      <td>benign</td>\n      <td>Dr. Smith</td>\n    </tr>\n    <tr>\n      <th>2</th>\n      <td>2</td>\n      <td>1015425</td>\n      <td>3.0</td>\n      <td>1.0</td>\n      <td>1</td>\n      <td>1</td>\n      <td>2</td>\n      <td>2</td>\n      <td>3.0</td>\n      <td>1.0</td>\n      <td>1</td>\n      <td>benign</td>\n      <td>Dr. Lee</td>\n    </tr>\n    <tr>\n      <th>3</th>\n      <td>3</td>\n      <td>1016277</td>\n      <td>6.0</td>\n      <td>8.0</td>\n      <td>8</td>\n      <td>1</td>\n      <td>3</td>\n      <td>4</td>\n      <td>3.0</td>\n      <td>7.0</td>\n      <td>1</td>\n      <td>benign</td>\n      <td>Dr. Smith</td>\n    </tr>\n    <tr>\n      <th>4</th>\n      <td>4</td>\n      <td>1017023</td>\n      <td>4.0</td>\n      <td>1.0</td>\n      <td>1</td>\n      <td>3</td>\n      <td>2</td>\n      <td>1</td>\n      <td>3.0</td>\n      <td>1.0</td>\n      <td>1</td>\n      <td>benign</td>\n      <td>Dr. Wong</td>\n    </tr>\n    <tr>\n      <th>...</th>\n      <td>...</td>\n      <td>...</td>\n      <td>...</td>\n      <td>...</td>\n      <td>...</td>\n      <td>...</td>\n      <td>...</td>\n      <td>...</td>\n      <td>...</td>\n      <td>...</td>\n      <td>...</td>\n      <td>...</td>\n      <td>...</td>\n    </tr>\n    <tr>\n      <th>685</th>\n      <td>694</td>\n      <td>776715</td>\n      <td>3.0</td>\n      <td>1.0</td>\n      <td>1</td>\n      <td>1</td>\n      <td>3</td>\n      <td>2</td>\n      <td>1.0</td>\n      <td>1.0</td>\n      <td>1</td>\n      <td>benign</td>\n      <td>Dr. Lee</td>\n    </tr>\n    <tr>\n      <th>686</th>\n      <td>695</td>\n      <td>841769</td>\n      <td>2.0</td>\n      <td>1.0</td>\n      <td>1</td>\n      <td>1</td>\n      <td>2</td>\n      <td>1</td>\n      <td>1.0</td>\n      <td>1.0</td>\n      <td>1</td>\n      <td>benign</td>\n      <td>Dr. Smith</td>\n    </tr>\n    <tr>\n      <th>687</th>\n      <td>696</td>\n      <td>888820</td>\n      <td>5.0</td>\n      <td>10.0</td>\n      <td>10</td>\n      <td>3</td>\n      <td>7</td>\n      <td>3</td>\n      <td>8.0</td>\n      <td>10.0</td>\n      <td>2</td>\n      <td>malignant</td>\n      <td>Dr. Lee</td>\n    </tr>\n    <tr>\n      <th>688</th>\n      <td>697</td>\n      <td>897471</td>\n      <td>4.0</td>\n      <td>8.0</td>\n      <td>6</td>\n      <td>4</td>\n      <td>3</td>\n      <td>4</td>\n      <td>10.0</td>\n      <td>6.0</td>\n      <td>1</td>\n      <td>malignant</td>\n      <td>Dr. Lee</td>\n    </tr>\n    <tr>\n      <th>689</th>\n      <td>698</td>\n      <td>897471</td>\n      <td>4.0</td>\n      <td>8.0</td>\n      <td>8</td>\n      <td>5</td>\n      <td>4</td>\n      <td>5</td>\n      <td>10.0</td>\n      <td>4.0</td>\n      <td>1</td>\n      <td>malignant</td>\n      <td>Dr. Wong</td>\n    </tr>\n  </tbody>\n</table>\n<p>690 rows × 13 columns</p>\n</div>"
     },
     "metadata": {},
     "execution_count": 218
    }
   ],
   "source": [
    "#### Reindexing your table after removing few lines - step 1\n",
    "breast_dataset = breast_dataset_with_nona.reset_index()\n",
    "breast_dataset"
   ]
  },
  {
   "cell_type": "code",
   "execution_count": 219,
   "metadata": {},
   "outputs": [
    {
     "output_type": "execute_result",
     "data": {
      "text/plain": [
       "     patient_id  clump_thickness  cell_size_uniformity  cell_shape_uniformity  \\\n",
       "0       1000025              5.0                   1.0                      1   \n",
       "1       1002945              5.0                   4.0                      4   \n",
       "2       1015425              3.0                   1.0                      1   \n",
       "3       1016277              6.0                   8.0                      8   \n",
       "4       1017023              4.0                   1.0                      1   \n",
       "..          ...              ...                   ...                    ...   \n",
       "685      776715              3.0                   1.0                      1   \n",
       "686      841769              2.0                   1.0                      1   \n",
       "687      888820              5.0                  10.0                     10   \n",
       "688      897471              4.0                   8.0                      6   \n",
       "689      897471              4.0                   8.0                      8   \n",
       "\n",
       "     marginal_adhesion  single_ep_cell_size bare_nuclei  bland_chromatin  \\\n",
       "0                    1                    2           1              3.0   \n",
       "1                    5                    7          10              3.0   \n",
       "2                    1                    2           2              3.0   \n",
       "3                    1                    3           4              3.0   \n",
       "4                    3                    2           1              3.0   \n",
       "..                 ...                  ...         ...              ...   \n",
       "685                  1                    3           2              1.0   \n",
       "686                  1                    2           1              1.0   \n",
       "687                  3                    7           3              8.0   \n",
       "688                  4                    3           4             10.0   \n",
       "689                  5                    4           5             10.0   \n",
       "\n",
       "     normal_nucleoli  mitoses      class doctor_name  \n",
       "0                1.0        1     benign     Dr. Doe  \n",
       "1                2.0        1     benign   Dr. Smith  \n",
       "2                1.0        1     benign     Dr. Lee  \n",
       "3                7.0        1     benign   Dr. Smith  \n",
       "4                1.0        1     benign    Dr. Wong  \n",
       "..               ...      ...        ...         ...  \n",
       "685              1.0        1     benign     Dr. Lee  \n",
       "686              1.0        1     benign   Dr. Smith  \n",
       "687             10.0        2  malignant     Dr. Lee  \n",
       "688              6.0        1  malignant     Dr. Lee  \n",
       "689              4.0        1  malignant    Dr. Wong  \n",
       "\n",
       "[690 rows x 12 columns]"
      ],
      "text/html": "<div>\n<style scoped>\n    .dataframe tbody tr th:only-of-type {\n        vertical-align: middle;\n    }\n\n    .dataframe tbody tr th {\n        vertical-align: top;\n    }\n\n    .dataframe thead th {\n        text-align: right;\n    }\n</style>\n<table border=\"1\" class=\"dataframe\">\n  <thead>\n    <tr style=\"text-align: right;\">\n      <th></th>\n      <th>patient_id</th>\n      <th>clump_thickness</th>\n      <th>cell_size_uniformity</th>\n      <th>cell_shape_uniformity</th>\n      <th>marginal_adhesion</th>\n      <th>single_ep_cell_size</th>\n      <th>bare_nuclei</th>\n      <th>bland_chromatin</th>\n      <th>normal_nucleoli</th>\n      <th>mitoses</th>\n      <th>class</th>\n      <th>doctor_name</th>\n    </tr>\n  </thead>\n  <tbody>\n    <tr>\n      <th>0</th>\n      <td>1000025</td>\n      <td>5.0</td>\n      <td>1.0</td>\n      <td>1</td>\n      <td>1</td>\n      <td>2</td>\n      <td>1</td>\n      <td>3.0</td>\n      <td>1.0</td>\n      <td>1</td>\n      <td>benign</td>\n      <td>Dr. Doe</td>\n    </tr>\n    <tr>\n      <th>1</th>\n      <td>1002945</td>\n      <td>5.0</td>\n      <td>4.0</td>\n      <td>4</td>\n      <td>5</td>\n      <td>7</td>\n      <td>10</td>\n      <td>3.0</td>\n      <td>2.0</td>\n      <td>1</td>\n      <td>benign</td>\n      <td>Dr. Smith</td>\n    </tr>\n    <tr>\n      <th>2</th>\n      <td>1015425</td>\n      <td>3.0</td>\n      <td>1.0</td>\n      <td>1</td>\n      <td>1</td>\n      <td>2</td>\n      <td>2</td>\n      <td>3.0</td>\n      <td>1.0</td>\n      <td>1</td>\n      <td>benign</td>\n      <td>Dr. Lee</td>\n    </tr>\n    <tr>\n      <th>3</th>\n      <td>1016277</td>\n      <td>6.0</td>\n      <td>8.0</td>\n      <td>8</td>\n      <td>1</td>\n      <td>3</td>\n      <td>4</td>\n      <td>3.0</td>\n      <td>7.0</td>\n      <td>1</td>\n      <td>benign</td>\n      <td>Dr. Smith</td>\n    </tr>\n    <tr>\n      <th>4</th>\n      <td>1017023</td>\n      <td>4.0</td>\n      <td>1.0</td>\n      <td>1</td>\n      <td>3</td>\n      <td>2</td>\n      <td>1</td>\n      <td>3.0</td>\n      <td>1.0</td>\n      <td>1</td>\n      <td>benign</td>\n      <td>Dr. Wong</td>\n    </tr>\n    <tr>\n      <th>...</th>\n      <td>...</td>\n      <td>...</td>\n      <td>...</td>\n      <td>...</td>\n      <td>...</td>\n      <td>...</td>\n      <td>...</td>\n      <td>...</td>\n      <td>...</td>\n      <td>...</td>\n      <td>...</td>\n      <td>...</td>\n    </tr>\n    <tr>\n      <th>685</th>\n      <td>776715</td>\n      <td>3.0</td>\n      <td>1.0</td>\n      <td>1</td>\n      <td>1</td>\n      <td>3</td>\n      <td>2</td>\n      <td>1.0</td>\n      <td>1.0</td>\n      <td>1</td>\n      <td>benign</td>\n      <td>Dr. Lee</td>\n    </tr>\n    <tr>\n      <th>686</th>\n      <td>841769</td>\n      <td>2.0</td>\n      <td>1.0</td>\n      <td>1</td>\n      <td>1</td>\n      <td>2</td>\n      <td>1</td>\n      <td>1.0</td>\n      <td>1.0</td>\n      <td>1</td>\n      <td>benign</td>\n      <td>Dr. Smith</td>\n    </tr>\n    <tr>\n      <th>687</th>\n      <td>888820</td>\n      <td>5.0</td>\n      <td>10.0</td>\n      <td>10</td>\n      <td>3</td>\n      <td>7</td>\n      <td>3</td>\n      <td>8.0</td>\n      <td>10.0</td>\n      <td>2</td>\n      <td>malignant</td>\n      <td>Dr. Lee</td>\n    </tr>\n    <tr>\n      <th>688</th>\n      <td>897471</td>\n      <td>4.0</td>\n      <td>8.0</td>\n      <td>6</td>\n      <td>4</td>\n      <td>3</td>\n      <td>4</td>\n      <td>10.0</td>\n      <td>6.0</td>\n      <td>1</td>\n      <td>malignant</td>\n      <td>Dr. Lee</td>\n    </tr>\n    <tr>\n      <th>689</th>\n      <td>897471</td>\n      <td>4.0</td>\n      <td>8.0</td>\n      <td>8</td>\n      <td>5</td>\n      <td>4</td>\n      <td>5</td>\n      <td>10.0</td>\n      <td>4.0</td>\n      <td>1</td>\n      <td>malignant</td>\n      <td>Dr. Wong</td>\n    </tr>\n  </tbody>\n</table>\n<p>690 rows × 12 columns</p>\n</div>"
     },
     "metadata": {},
     "execution_count": 219
    }
   ],
   "source": [
    "#### Reindexing your table after removing few lines - step 2\n",
    "breast_dataset = breast_dataset.drop(columns='index')\n",
    "breast_dataset"
   ]
  },
  {
   "source": [
    "### 3. How many unique patients do we have after removing data?  "
   ],
   "cell_type": "markdown",
   "metadata": {}
  },
  {
   "cell_type": "code",
   "execution_count": 221,
   "metadata": {},
   "outputs": [
    {
     "output_type": "execute_result",
     "data": {
      "text/plain": [
       "patient_id               637\n",
       "clump_thickness           10\n",
       "cell_size_uniformity      10\n",
       "cell_shape_uniformity     10\n",
       "marginal_adhesion         10\n",
       "single_ep_cell_size       10\n",
       "bare_nuclei               11\n",
       "bland_chromatin           10\n",
       "normal_nucleoli           10\n",
       "mitoses                    9\n",
       "class                      2\n",
       "doctor_name                4\n",
       "dtype: int64"
      ]
     },
     "metadata": {},
     "execution_count": 221
    }
   ],
   "source": [
    "breast_dataset.nunique()"
   ]
  },
  {
   "source": [
    "### How can we explain that we found 645 patients in the study when we have 690 rows in our table?"
   ],
   "cell_type": "markdown",
   "metadata": {}
  },
  {
   "source": [
    "### IV. Cleaning the dataframe by removing duplicated data\n",
    "\n"
   ],
   "cell_type": "markdown",
   "metadata": {}
  },
  {
   "source": [
    "### 1. Identify all lines with duplicated patient_id"
   ],
   "cell_type": "markdown",
   "metadata": {}
  },
  {
   "cell_type": "code",
   "execution_count": 291,
   "metadata": {},
   "outputs": [
    {
     "output_type": "execute_result",
     "data": {
      "text/plain": [
       "0      False\n",
       "1      False\n",
       "2      False\n",
       "3      False\n",
       "4       True\n",
       "       ...  \n",
       "685    False\n",
       "686    False\n",
       "687    False\n",
       "688     True\n",
       "689     True\n",
       "Length: 690, dtype: bool"
      ]
     },
     "metadata": {},
     "execution_count": 291
    }
   ],
   "source": [
    "repeat_patients = breast_dataset.duplicated(subset='patient_id', keep=False) #### keep=False \n",
    "                                                                             #### --> Mark all duplicates as True.\n",
    "repeat_patients"
   ]
  },
  {
   "source": [
    "### 2. Collect all the lines with duplicated patient_id"
   ],
   "cell_type": "markdown",
   "metadata": {}
  },
  {
   "cell_type": "code",
   "execution_count": 277,
   "metadata": {},
   "outputs": [
    {
     "output_type": "execute_result",
     "data": {
      "text/plain": [
       "     patient_id  clump_thickness  cell_size_uniformity  cell_shape_uniformity  \\\n",
       "4       1017023              4.0                   1.0                      1   \n",
       "7       1033078              2.0                   1.0                      1   \n",
       "8       1033078              4.0                   2.0                      1   \n",
       "27      1070935              1.0                   1.0                      3   \n",
       "28      1070935              3.0                   1.0                      1   \n",
       "..          ...              ...                   ...                    ...   \n",
       "680      654546              1.0                   1.0                      1   \n",
       "681      654546              1.0                   1.0                      1   \n",
       "682      695091              5.0                  10.0                     10   \n",
       "688      897471              4.0                   8.0                      6   \n",
       "689      897471              4.0                   8.0                      8   \n",
       "\n",
       "     marginal_adhesion  single_ep_cell_size bare_nuclei  bland_chromatin  \\\n",
       "4                    3                    2           1              3.0   \n",
       "7                    1                    2           1              1.0   \n",
       "8                    1                    2           1              2.0   \n",
       "27                   1                    2           1              1.0   \n",
       "28                   1                    1           1              2.0   \n",
       "..                 ...                  ...         ...              ...   \n",
       "680                  1                    2           1              1.0   \n",
       "681                  3                    2           1              1.0   \n",
       "682                  5                    4           5              4.0   \n",
       "688                  4                    3           4             10.0   \n",
       "689                  5                    4           5             10.0   \n",
       "\n",
       "     normal_nucleoli  mitoses      class doctor_name  \n",
       "4                1.0        1     benign    Dr. Wong  \n",
       "7                1.0        5     benign   Dr. Smith  \n",
       "8                1.0        1     benign     Dr. Doe  \n",
       "27               1.0        1     benign     Dr. Doe  \n",
       "28               1.0        1     benign   Dr. Smith  \n",
       "..               ...      ...        ...         ...  \n",
       "680              1.0        8     benign     Dr. Lee  \n",
       "681              1.0        1     benign     Dr. Doe  \n",
       "682              4.0        1  malignant    Dr. Wong  \n",
       "688              6.0        1  malignant     Dr. Lee  \n",
       "689              4.0        1  malignant    Dr. Wong  \n",
       "\n",
       "[98 rows x 12 columns]"
      ],
      "text/html": "<div>\n<style scoped>\n    .dataframe tbody tr th:only-of-type {\n        vertical-align: middle;\n    }\n\n    .dataframe tbody tr th {\n        vertical-align: top;\n    }\n\n    .dataframe thead th {\n        text-align: right;\n    }\n</style>\n<table border=\"1\" class=\"dataframe\">\n  <thead>\n    <tr style=\"text-align: right;\">\n      <th></th>\n      <th>patient_id</th>\n      <th>clump_thickness</th>\n      <th>cell_size_uniformity</th>\n      <th>cell_shape_uniformity</th>\n      <th>marginal_adhesion</th>\n      <th>single_ep_cell_size</th>\n      <th>bare_nuclei</th>\n      <th>bland_chromatin</th>\n      <th>normal_nucleoli</th>\n      <th>mitoses</th>\n      <th>class</th>\n      <th>doctor_name</th>\n    </tr>\n  </thead>\n  <tbody>\n    <tr>\n      <th>4</th>\n      <td>1017023</td>\n      <td>4.0</td>\n      <td>1.0</td>\n      <td>1</td>\n      <td>3</td>\n      <td>2</td>\n      <td>1</td>\n      <td>3.0</td>\n      <td>1.0</td>\n      <td>1</td>\n      <td>benign</td>\n      <td>Dr. Wong</td>\n    </tr>\n    <tr>\n      <th>7</th>\n      <td>1033078</td>\n      <td>2.0</td>\n      <td>1.0</td>\n      <td>1</td>\n      <td>1</td>\n      <td>2</td>\n      <td>1</td>\n      <td>1.0</td>\n      <td>1.0</td>\n      <td>5</td>\n      <td>benign</td>\n      <td>Dr. Smith</td>\n    </tr>\n    <tr>\n      <th>8</th>\n      <td>1033078</td>\n      <td>4.0</td>\n      <td>2.0</td>\n      <td>1</td>\n      <td>1</td>\n      <td>2</td>\n      <td>1</td>\n      <td>2.0</td>\n      <td>1.0</td>\n      <td>1</td>\n      <td>benign</td>\n      <td>Dr. Doe</td>\n    </tr>\n    <tr>\n      <th>27</th>\n      <td>1070935</td>\n      <td>1.0</td>\n      <td>1.0</td>\n      <td>3</td>\n      <td>1</td>\n      <td>2</td>\n      <td>1</td>\n      <td>1.0</td>\n      <td>1.0</td>\n      <td>1</td>\n      <td>benign</td>\n      <td>Dr. Doe</td>\n    </tr>\n    <tr>\n      <th>28</th>\n      <td>1070935</td>\n      <td>3.0</td>\n      <td>1.0</td>\n      <td>1</td>\n      <td>1</td>\n      <td>1</td>\n      <td>1</td>\n      <td>2.0</td>\n      <td>1.0</td>\n      <td>1</td>\n      <td>benign</td>\n      <td>Dr. Smith</td>\n    </tr>\n    <tr>\n      <th>...</th>\n      <td>...</td>\n      <td>...</td>\n      <td>...</td>\n      <td>...</td>\n      <td>...</td>\n      <td>...</td>\n      <td>...</td>\n      <td>...</td>\n      <td>...</td>\n      <td>...</td>\n      <td>...</td>\n      <td>...</td>\n    </tr>\n    <tr>\n      <th>680</th>\n      <td>654546</td>\n      <td>1.0</td>\n      <td>1.0</td>\n      <td>1</td>\n      <td>1</td>\n      <td>2</td>\n      <td>1</td>\n      <td>1.0</td>\n      <td>1.0</td>\n      <td>8</td>\n      <td>benign</td>\n      <td>Dr. Lee</td>\n    </tr>\n    <tr>\n      <th>681</th>\n      <td>654546</td>\n      <td>1.0</td>\n      <td>1.0</td>\n      <td>1</td>\n      <td>3</td>\n      <td>2</td>\n      <td>1</td>\n      <td>1.0</td>\n      <td>1.0</td>\n      <td>1</td>\n      <td>benign</td>\n      <td>Dr. Doe</td>\n    </tr>\n    <tr>\n      <th>682</th>\n      <td>695091</td>\n      <td>5.0</td>\n      <td>10.0</td>\n      <td>10</td>\n      <td>5</td>\n      <td>4</td>\n      <td>5</td>\n      <td>4.0</td>\n      <td>4.0</td>\n      <td>1</td>\n      <td>malignant</td>\n      <td>Dr. Wong</td>\n    </tr>\n    <tr>\n      <th>688</th>\n      <td>897471</td>\n      <td>4.0</td>\n      <td>8.0</td>\n      <td>6</td>\n      <td>4</td>\n      <td>3</td>\n      <td>4</td>\n      <td>10.0</td>\n      <td>6.0</td>\n      <td>1</td>\n      <td>malignant</td>\n      <td>Dr. Lee</td>\n    </tr>\n    <tr>\n      <th>689</th>\n      <td>897471</td>\n      <td>4.0</td>\n      <td>8.0</td>\n      <td>8</td>\n      <td>5</td>\n      <td>4</td>\n      <td>5</td>\n      <td>10.0</td>\n      <td>4.0</td>\n      <td>1</td>\n      <td>malignant</td>\n      <td>Dr. Wong</td>\n    </tr>\n  </tbody>\n</table>\n<p>98 rows × 12 columns</p>\n</div>"
     },
     "metadata": {},
     "execution_count": 277
    }
   ],
   "source": [
    "breast_dataset[repeat_patients]"
   ]
  },
  {
   "source": [
    "### 3. Removing duplicated lines"
   ],
   "cell_type": "markdown",
   "metadata": {}
  },
  {
   "cell_type": "code",
   "execution_count": 292,
   "metadata": {},
   "outputs": [],
   "source": [
    "breast_dataset = breast_dataset.drop_duplicates(subset=None, keep ='first') #### keep='first'\n",
    "                                                                            #### Mark duplicates as True except for the first occurrence."
   ]
  },
  {
   "cell_type": "code",
   "execution_count": 294,
   "metadata": {},
   "outputs": [
    {
     "output_type": "execute_result",
     "data": {
      "text/plain": [
       "     patient_id  clump_thickness  cell_size_uniformity  cell_shape_uniformity  \\\n",
       "0       1000025              5.0                   1.0                      1   \n",
       "1       1002945              5.0                   4.0                      4   \n",
       "2       1015425              3.0                   1.0                      1   \n",
       "3       1016277              6.0                   8.0                      8   \n",
       "4       1017023              4.0                   1.0                      1   \n",
       "..          ...              ...                   ...                    ...   \n",
       "685      776715              3.0                   1.0                      1   \n",
       "686      841769              2.0                   1.0                      1   \n",
       "687      888820              5.0                  10.0                     10   \n",
       "688      897471              4.0                   8.0                      6   \n",
       "689      897471              4.0                   8.0                      8   \n",
       "\n",
       "     marginal_adhesion  single_ep_cell_size bare_nuclei  bland_chromatin  \\\n",
       "0                    1                    2           1              3.0   \n",
       "1                    5                    7          10              3.0   \n",
       "2                    1                    2           2              3.0   \n",
       "3                    1                    3           4              3.0   \n",
       "4                    3                    2           1              3.0   \n",
       "..                 ...                  ...         ...              ...   \n",
       "685                  1                    3           2              1.0   \n",
       "686                  1                    2           1              1.0   \n",
       "687                  3                    7           3              8.0   \n",
       "688                  4                    3           4             10.0   \n",
       "689                  5                    4           5             10.0   \n",
       "\n",
       "     normal_nucleoli  mitoses      class doctor_name  \n",
       "0                1.0        1     benign     Dr. Doe  \n",
       "1                2.0        1     benign   Dr. Smith  \n",
       "2                1.0        1     benign     Dr. Lee  \n",
       "3                7.0        1     benign   Dr. Smith  \n",
       "4                1.0        1     benign    Dr. Wong  \n",
       "..               ...      ...        ...         ...  \n",
       "685              1.0        1     benign     Dr. Lee  \n",
       "686              1.0        1     benign   Dr. Smith  \n",
       "687             10.0        2  malignant     Dr. Lee  \n",
       "688              6.0        1  malignant     Dr. Lee  \n",
       "689              4.0        1  malignant    Dr. Wong  \n",
       "\n",
       "[689 rows x 12 columns]"
      ],
      "text/html": "<div>\n<style scoped>\n    .dataframe tbody tr th:only-of-type {\n        vertical-align: middle;\n    }\n\n    .dataframe tbody tr th {\n        vertical-align: top;\n    }\n\n    .dataframe thead th {\n        text-align: right;\n    }\n</style>\n<table border=\"1\" class=\"dataframe\">\n  <thead>\n    <tr style=\"text-align: right;\">\n      <th></th>\n      <th>patient_id</th>\n      <th>clump_thickness</th>\n      <th>cell_size_uniformity</th>\n      <th>cell_shape_uniformity</th>\n      <th>marginal_adhesion</th>\n      <th>single_ep_cell_size</th>\n      <th>bare_nuclei</th>\n      <th>bland_chromatin</th>\n      <th>normal_nucleoli</th>\n      <th>mitoses</th>\n      <th>class</th>\n      <th>doctor_name</th>\n    </tr>\n  </thead>\n  <tbody>\n    <tr>\n      <th>0</th>\n      <td>1000025</td>\n      <td>5.0</td>\n      <td>1.0</td>\n      <td>1</td>\n      <td>1</td>\n      <td>2</td>\n      <td>1</td>\n      <td>3.0</td>\n      <td>1.0</td>\n      <td>1</td>\n      <td>benign</td>\n      <td>Dr. Doe</td>\n    </tr>\n    <tr>\n      <th>1</th>\n      <td>1002945</td>\n      <td>5.0</td>\n      <td>4.0</td>\n      <td>4</td>\n      <td>5</td>\n      <td>7</td>\n      <td>10</td>\n      <td>3.0</td>\n      <td>2.0</td>\n      <td>1</td>\n      <td>benign</td>\n      <td>Dr. Smith</td>\n    </tr>\n    <tr>\n      <th>2</th>\n      <td>1015425</td>\n      <td>3.0</td>\n      <td>1.0</td>\n      <td>1</td>\n      <td>1</td>\n      <td>2</td>\n      <td>2</td>\n      <td>3.0</td>\n      <td>1.0</td>\n      <td>1</td>\n      <td>benign</td>\n      <td>Dr. Lee</td>\n    </tr>\n    <tr>\n      <th>3</th>\n      <td>1016277</td>\n      <td>6.0</td>\n      <td>8.0</td>\n      <td>8</td>\n      <td>1</td>\n      <td>3</td>\n      <td>4</td>\n      <td>3.0</td>\n      <td>7.0</td>\n      <td>1</td>\n      <td>benign</td>\n      <td>Dr. Smith</td>\n    </tr>\n    <tr>\n      <th>4</th>\n      <td>1017023</td>\n      <td>4.0</td>\n      <td>1.0</td>\n      <td>1</td>\n      <td>3</td>\n      <td>2</td>\n      <td>1</td>\n      <td>3.0</td>\n      <td>1.0</td>\n      <td>1</td>\n      <td>benign</td>\n      <td>Dr. Wong</td>\n    </tr>\n    <tr>\n      <th>...</th>\n      <td>...</td>\n      <td>...</td>\n      <td>...</td>\n      <td>...</td>\n      <td>...</td>\n      <td>...</td>\n      <td>...</td>\n      <td>...</td>\n      <td>...</td>\n      <td>...</td>\n      <td>...</td>\n      <td>...</td>\n    </tr>\n    <tr>\n      <th>685</th>\n      <td>776715</td>\n      <td>3.0</td>\n      <td>1.0</td>\n      <td>1</td>\n      <td>1</td>\n      <td>3</td>\n      <td>2</td>\n      <td>1.0</td>\n      <td>1.0</td>\n      <td>1</td>\n      <td>benign</td>\n      <td>Dr. Lee</td>\n    </tr>\n    <tr>\n      <th>686</th>\n      <td>841769</td>\n      <td>2.0</td>\n      <td>1.0</td>\n      <td>1</td>\n      <td>1</td>\n      <td>2</td>\n      <td>1</td>\n      <td>1.0</td>\n      <td>1.0</td>\n      <td>1</td>\n      <td>benign</td>\n      <td>Dr. Smith</td>\n    </tr>\n    <tr>\n      <th>687</th>\n      <td>888820</td>\n      <td>5.0</td>\n      <td>10.0</td>\n      <td>10</td>\n      <td>3</td>\n      <td>7</td>\n      <td>3</td>\n      <td>8.0</td>\n      <td>10.0</td>\n      <td>2</td>\n      <td>malignant</td>\n      <td>Dr. Lee</td>\n    </tr>\n    <tr>\n      <th>688</th>\n      <td>897471</td>\n      <td>4.0</td>\n      <td>8.0</td>\n      <td>6</td>\n      <td>4</td>\n      <td>3</td>\n      <td>4</td>\n      <td>10.0</td>\n      <td>6.0</td>\n      <td>1</td>\n      <td>malignant</td>\n      <td>Dr. Lee</td>\n    </tr>\n    <tr>\n      <th>689</th>\n      <td>897471</td>\n      <td>4.0</td>\n      <td>8.0</td>\n      <td>8</td>\n      <td>5</td>\n      <td>4</td>\n      <td>5</td>\n      <td>10.0</td>\n      <td>4.0</td>\n      <td>1</td>\n      <td>malignant</td>\n      <td>Dr. Wong</td>\n    </tr>\n  </tbody>\n</table>\n<p>689 rows × 12 columns</p>\n</div>"
     },
     "metadata": {},
     "execution_count": 294
    }
   ],
   "source": [
    "breast_dataset"
   ]
  },
  {
   "source": [
    "### V. Customizing your dataframe\n",
    "\n",
    "\n"
   ],
   "cell_type": "markdown",
   "metadata": {}
  },
  {
   "cell_type": "code",
   "execution_count": 283,
   "metadata": {},
   "outputs": [
    {
     "output_type": "stream",
     "name": "stdout",
     "text": [
      "Number of repeat patients: 45\n"
     ]
    },
    {
     "output_type": "execute_result",
     "data": {
      "text/plain": [
       "    patient_id  count\n",
       "0       320675      2\n",
       "1       385103      2\n",
       "2       411453      2\n",
       "3       466906      2\n",
       "4       493452      2\n",
       "..         ...    ...\n",
       "40     1299924      2\n",
       "41     1320077      2\n",
       "42     1321942      2\n",
       "43     1339781      2\n",
       "44     1354840      2\n",
       "\n",
       "[45 rows x 2 columns]"
      ],
      "text/html": "<div>\n<style scoped>\n    .dataframe tbody tr th:only-of-type {\n        vertical-align: middle;\n    }\n\n    .dataframe tbody tr th {\n        vertical-align: top;\n    }\n\n    .dataframe thead th {\n        text-align: right;\n    }\n</style>\n<table border=\"1\" class=\"dataframe\">\n  <thead>\n    <tr style=\"text-align: right;\">\n      <th></th>\n      <th>patient_id</th>\n      <th>count</th>\n    </tr>\n  </thead>\n  <tbody>\n    <tr>\n      <th>0</th>\n      <td>320675</td>\n      <td>2</td>\n    </tr>\n    <tr>\n      <th>1</th>\n      <td>385103</td>\n      <td>2</td>\n    </tr>\n    <tr>\n      <th>2</th>\n      <td>411453</td>\n      <td>2</td>\n    </tr>\n    <tr>\n      <th>3</th>\n      <td>466906</td>\n      <td>2</td>\n    </tr>\n    <tr>\n      <th>4</th>\n      <td>493452</td>\n      <td>2</td>\n    </tr>\n    <tr>\n      <th>...</th>\n      <td>...</td>\n      <td>...</td>\n    </tr>\n    <tr>\n      <th>40</th>\n      <td>1299924</td>\n      <td>2</td>\n    </tr>\n    <tr>\n      <th>41</th>\n      <td>1320077</td>\n      <td>2</td>\n    </tr>\n    <tr>\n      <th>42</th>\n      <td>1321942</td>\n      <td>2</td>\n    </tr>\n    <tr>\n      <th>43</th>\n      <td>1339781</td>\n      <td>2</td>\n    </tr>\n    <tr>\n      <th>44</th>\n      <td>1354840</td>\n      <td>2</td>\n    </tr>\n  </tbody>\n</table>\n<p>45 rows × 2 columns</p>\n</div>"
     },
     "metadata": {},
     "execution_count": 283
    }
   ],
   "source": [
    "#### Check the number of occurences for repeat_patients\n",
    "patient_list, occurence = np.unique(breast_dataset[repeat_patients]['patient_id'], return_counts=True)\n",
    "print('Number of repeat patients:', len(patient_list))\n",
    "\n",
    "repeat_patients_counts = []\n",
    "for patient, count in zip(patient_list, occurence):\n",
    "    repeat_patients_counts.append([patient,count])\n",
    "\n",
    "repeat_patients_table = pd.DataFrame(repeat_patients_counts, columns=['patient_id', 'count'])\n",
    "repeat_patients_table"
   ]
  },
  {
   "cell_type": "code",
   "execution_count": 289,
   "metadata": {},
   "outputs": [
    {
     "output_type": "execute_result",
     "data": {
      "text/plain": [
       "     patient_id  clump_thickness  cell_size_uniformity  cell_shape_uniformity  \\\n",
       "0       1000025              5.0                   1.0                      1   \n",
       "1       1002945              5.0                   4.0                      4   \n",
       "2       1015425              3.0                   1.0                      1   \n",
       "3       1016277              6.0                   8.0                      8   \n",
       "5       1017122              8.0                  10.0                     10   \n",
       "..          ...              ...                   ...                    ...   \n",
       "683      714039              3.0                   1.0                      1   \n",
       "684      763235              3.0                   1.0                      1   \n",
       "685      776715              3.0                   1.0                      1   \n",
       "686      841769              2.0                   1.0                      1   \n",
       "687      888820              5.0                  10.0                     10   \n",
       "\n",
       "     marginal_adhesion  single_ep_cell_size bare_nuclei  bland_chromatin  \\\n",
       "0                    1                    2           1              3.0   \n",
       "1                    5                    7          10              3.0   \n",
       "2                    1                    2           2              3.0   \n",
       "3                    1                    3           4              3.0   \n",
       "5                    8                    7          10              9.0   \n",
       "..                 ...                  ...         ...              ...   \n",
       "683                  1                    2           1              1.0   \n",
       "684                  1                    2           1              2.0   \n",
       "685                  1                    3           2              1.0   \n",
       "686                  1                    2           1              1.0   \n",
       "687                  3                    7           3              8.0   \n",
       "\n",
       "     normal_nucleoli  mitoses      class doctor_name  \n",
       "0                1.0        1     benign     Dr. Doe  \n",
       "1                2.0        1     benign   Dr. Smith  \n",
       "2                1.0        1     benign     Dr. Lee  \n",
       "3                7.0        1     benign   Dr. Smith  \n",
       "5                7.0        1  malignant   Dr. Smith  \n",
       "..               ...      ...        ...         ...  \n",
       "683              1.0        1     benign    Dr. Wong  \n",
       "684              1.0        2     benign     Dr. Lee  \n",
       "685              1.0        1     benign     Dr. Lee  \n",
       "686              1.0        1     benign   Dr. Smith  \n",
       "687             10.0        2  malignant     Dr. Lee  \n",
       "\n",
       "[592 rows x 12 columns]"
      ],
      "text/html": "<div>\n<style scoped>\n    .dataframe tbody tr th:only-of-type {\n        vertical-align: middle;\n    }\n\n    .dataframe tbody tr th {\n        vertical-align: top;\n    }\n\n    .dataframe thead th {\n        text-align: right;\n    }\n</style>\n<table border=\"1\" class=\"dataframe\">\n  <thead>\n    <tr style=\"text-align: right;\">\n      <th></th>\n      <th>patient_id</th>\n      <th>clump_thickness</th>\n      <th>cell_size_uniformity</th>\n      <th>cell_shape_uniformity</th>\n      <th>marginal_adhesion</th>\n      <th>single_ep_cell_size</th>\n      <th>bare_nuclei</th>\n      <th>bland_chromatin</th>\n      <th>normal_nucleoli</th>\n      <th>mitoses</th>\n      <th>class</th>\n      <th>doctor_name</th>\n    </tr>\n  </thead>\n  <tbody>\n    <tr>\n      <th>0</th>\n      <td>1000025</td>\n      <td>5.0</td>\n      <td>1.0</td>\n      <td>1</td>\n      <td>1</td>\n      <td>2</td>\n      <td>1</td>\n      <td>3.0</td>\n      <td>1.0</td>\n      <td>1</td>\n      <td>benign</td>\n      <td>Dr. Doe</td>\n    </tr>\n    <tr>\n      <th>1</th>\n      <td>1002945</td>\n      <td>5.0</td>\n      <td>4.0</td>\n      <td>4</td>\n      <td>5</td>\n      <td>7</td>\n      <td>10</td>\n      <td>3.0</td>\n      <td>2.0</td>\n      <td>1</td>\n      <td>benign</td>\n      <td>Dr. Smith</td>\n    </tr>\n    <tr>\n      <th>2</th>\n      <td>1015425</td>\n      <td>3.0</td>\n      <td>1.0</td>\n      <td>1</td>\n      <td>1</td>\n      <td>2</td>\n      <td>2</td>\n      <td>3.0</td>\n      <td>1.0</td>\n      <td>1</td>\n      <td>benign</td>\n      <td>Dr. Lee</td>\n    </tr>\n    <tr>\n      <th>3</th>\n      <td>1016277</td>\n      <td>6.0</td>\n      <td>8.0</td>\n      <td>8</td>\n      <td>1</td>\n      <td>3</td>\n      <td>4</td>\n      <td>3.0</td>\n      <td>7.0</td>\n      <td>1</td>\n      <td>benign</td>\n      <td>Dr. Smith</td>\n    </tr>\n    <tr>\n      <th>5</th>\n      <td>1017122</td>\n      <td>8.0</td>\n      <td>10.0</td>\n      <td>10</td>\n      <td>8</td>\n      <td>7</td>\n      <td>10</td>\n      <td>9.0</td>\n      <td>7.0</td>\n      <td>1</td>\n      <td>malignant</td>\n      <td>Dr. Smith</td>\n    </tr>\n    <tr>\n      <th>...</th>\n      <td>...</td>\n      <td>...</td>\n      <td>...</td>\n      <td>...</td>\n      <td>...</td>\n      <td>...</td>\n      <td>...</td>\n      <td>...</td>\n      <td>...</td>\n      <td>...</td>\n      <td>...</td>\n      <td>...</td>\n    </tr>\n    <tr>\n      <th>683</th>\n      <td>714039</td>\n      <td>3.0</td>\n      <td>1.0</td>\n      <td>1</td>\n      <td>1</td>\n      <td>2</td>\n      <td>1</td>\n      <td>1.0</td>\n      <td>1.0</td>\n      <td>1</td>\n      <td>benign</td>\n      <td>Dr. Wong</td>\n    </tr>\n    <tr>\n      <th>684</th>\n      <td>763235</td>\n      <td>3.0</td>\n      <td>1.0</td>\n      <td>1</td>\n      <td>1</td>\n      <td>2</td>\n      <td>1</td>\n      <td>2.0</td>\n      <td>1.0</td>\n      <td>2</td>\n      <td>benign</td>\n      <td>Dr. Lee</td>\n    </tr>\n    <tr>\n      <th>685</th>\n      <td>776715</td>\n      <td>3.0</td>\n      <td>1.0</td>\n      <td>1</td>\n      <td>1</td>\n      <td>3</td>\n      <td>2</td>\n      <td>1.0</td>\n      <td>1.0</td>\n      <td>1</td>\n      <td>benign</td>\n      <td>Dr. Lee</td>\n    </tr>\n    <tr>\n      <th>686</th>\n      <td>841769</td>\n      <td>2.0</td>\n      <td>1.0</td>\n      <td>1</td>\n      <td>1</td>\n      <td>2</td>\n      <td>1</td>\n      <td>1.0</td>\n      <td>1.0</td>\n      <td>1</td>\n      <td>benign</td>\n      <td>Dr. Smith</td>\n    </tr>\n    <tr>\n      <th>687</th>\n      <td>888820</td>\n      <td>5.0</td>\n      <td>10.0</td>\n      <td>10</td>\n      <td>3</td>\n      <td>7</td>\n      <td>3</td>\n      <td>8.0</td>\n      <td>10.0</td>\n      <td>2</td>\n      <td>malignant</td>\n      <td>Dr. Lee</td>\n    </tr>\n  </tbody>\n</table>\n<p>592 rows × 12 columns</p>\n</div>"
     },
     "metadata": {},
     "execution_count": 289
    }
   ],
   "source": [
    "filtered_patients = repeat_patients_table[repeat_patients_table['count'] > 1]\n",
    "filtered_breast_dataset = breast_dataset[~breast_dataset['patient_id'].isin(list(filtered_patients['patient_id']))]\n",
    "filtered_breast_dataset"
   ]
  },
  {
   "cell_type": "code",
   "execution_count": null,
   "metadata": {},
   "outputs": [],
   "source": []
  }
 ]
}